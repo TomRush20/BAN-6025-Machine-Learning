{
 "cells": [
  {
   "cell_type": "code",
   "execution_count": 1,
   "metadata": {},
   "outputs": [],
   "source": [
    "import pandas as pd\n",
    "import numpy as np\n",
    "import seaborn as sns\n",
    "import matplotlib.pyplot as plt\n",
    "import statsmodels.api as sm\n",
    "import sklearn as sk\n",
    "from sklearn.metrics import confusion_matrix, roc_curve, roc_auc_score, classification_report\n",
    "from sklearn.preprocessing import LabelEncoder"
   ]
  },
  {
   "cell_type": "code",
   "execution_count": 2,
   "metadata": {},
   "outputs": [
    {
     "data": {
      "text/html": [
       "<div>\n",
       "<style scoped>\n",
       "    .dataframe tbody tr th:only-of-type {\n",
       "        vertical-align: middle;\n",
       "    }\n",
       "\n",
       "    .dataframe tbody tr th {\n",
       "        vertical-align: top;\n",
       "    }\n",
       "\n",
       "    .dataframe thead th {\n",
       "        text-align: right;\n",
       "    }\n",
       "</style>\n",
       "<table border=\"1\" class=\"dataframe\">\n",
       "  <thead>\n",
       "    <tr style=\"text-align: right;\">\n",
       "      <th></th>\n",
       "      <th>Quote</th>\n",
       "      <th>Time_to_Delivery</th>\n",
       "      <th>Part_type</th>\n",
       "      <th>Status</th>\n",
       "    </tr>\n",
       "  </thead>\n",
       "  <tbody>\n",
       "    <tr>\n",
       "      <th>0</th>\n",
       "      <td>3452</td>\n",
       "      <td>6</td>\n",
       "      <td>OE</td>\n",
       "      <td>Won</td>\n",
       "    </tr>\n",
       "    <tr>\n",
       "      <th>1</th>\n",
       "      <td>429</td>\n",
       "      <td>9</td>\n",
       "      <td>AM</td>\n",
       "      <td>Won</td>\n",
       "    </tr>\n",
       "    <tr>\n",
       "      <th>2</th>\n",
       "      <td>102</td>\n",
       "      <td>14</td>\n",
       "      <td>OE</td>\n",
       "      <td>Won</td>\n",
       "    </tr>\n",
       "    <tr>\n",
       "      <th>3</th>\n",
       "      <td>1153</td>\n",
       "      <td>16</td>\n",
       "      <td>OE</td>\n",
       "      <td>Lost</td>\n",
       "    </tr>\n",
       "    <tr>\n",
       "      <th>4</th>\n",
       "      <td>102</td>\n",
       "      <td>11</td>\n",
       "      <td>OE</td>\n",
       "      <td>Won</td>\n",
       "    </tr>\n",
       "  </tbody>\n",
       "</table>\n",
       "</div>"
      ],
      "text/plain": [
       "   Quote  Time_to_Delivery Part_type Status\n",
       "0   3452                 6        OE    Won\n",
       "1    429                 9        AM    Won\n",
       "2    102                14        OE    Won\n",
       "3   1153                16        OE   Lost\n",
       "4    102                11        OE    Won"
      ]
     },
     "execution_count": 2,
     "metadata": {},
     "output_type": "execute_result"
    }
   ],
   "source": [
    "lost_df = pd.read_csv(r\"C:\\Users\\trush\\OneDrive\\Documents\\WFU Grad School Info\\BAN 6025 Machine Learning\\Data\\LostSales.csv\")\n",
    "lost_df.head()"
   ]
  },
  {
   "cell_type": "code",
   "execution_count": 3,
   "metadata": {},
   "outputs": [
    {
     "data": {
      "text/plain": [
       "Status\n",
       "1    278\n",
       "0    272\n",
       "Name: count, dtype: int64"
      ]
     },
     "execution_count": 3,
     "metadata": {},
     "output_type": "execute_result"
    }
   ],
   "source": [
    "le = LabelEncoder()\n",
    "\n",
    "lost_df['Status'] = le.fit_transform(lost_df['Status'])\n",
    "lost_df['Status'].value_counts()"
   ]
  },
  {
   "cell_type": "markdown",
   "metadata": {},
   "source": [
    "Quote vs. Status Logistic Regression"
   ]
  },
  {
   "cell_type": "code",
   "execution_count": 4,
   "metadata": {},
   "outputs": [
    {
     "name": "stdout",
     "output_type": "stream",
     "text": [
      "Optimization terminated successfully.\n",
      "         Current function value: 0.692727\n",
      "         Iterations 3\n",
      "                           Logit Regression Results                           \n",
      "==============================================================================\n",
      "Dep. Variable:                 Status   No. Observations:                  550\n",
      "Model:                          Logit   Df Residuals:                      548\n",
      "Method:                           MLE   Df Model:                            1\n",
      "Date:                Wed, 23 Oct 2024   Pseudo R-squ.:               0.0005209\n",
      "Time:                        10:24:28   Log-Likelihood:                -381.00\n",
      "converged:                       True   LL-Null:                       -381.20\n",
      "Covariance Type:            nonrobust   LLR p-value:                    0.5286\n",
      "==============================================================================\n",
      "                 coef    std err          z      P>|z|      [0.025      0.975]\n",
      "------------------------------------------------------------------------------\n",
      "const          0.0741      0.119      0.622      0.534      -0.159       0.307\n",
      "Quote      -1.881e-05   2.99e-05     -0.629      0.529   -7.74e-05    3.98e-05\n",
      "==============================================================================\n"
     ]
    }
   ],
   "source": [
    "X = lost_df['Quote']\n",
    "X = sm.add_constant(X)\n",
    "\n",
    "y = lost_df['Status']\n",
    "\n",
    "\n",
    "lr = sm.Logit(y, X).fit()\n",
    "\n",
    "print(lr.summary())\n"
   ]
  },
  {
   "cell_type": "markdown",
   "metadata": {},
   "source": [
    "Time To Deliver vs. Status Logistic Regression"
   ]
  },
  {
   "cell_type": "code",
   "execution_count": 5,
   "metadata": {},
   "outputs": [
    {
     "name": "stdout",
     "output_type": "stream",
     "text": [
      "Optimization terminated successfully.\n",
      "         Current function value: 0.663757\n",
      "         Iterations 5\n",
      "                           Logit Regression Results                           \n",
      "==============================================================================\n",
      "Dep. Variable:                 Status   No. Observations:                  550\n",
      "Model:                          Logit   Df Residuals:                      548\n",
      "Method:                           MLE   Df Model:                            1\n",
      "Date:                Wed, 23 Oct 2024   Pseudo R-squ.:                 0.04232\n",
      "Time:                        10:24:28   Log-Likelihood:                -365.07\n",
      "converged:                       True   LL-Null:                       -381.20\n",
      "Covariance Type:            nonrobust   LLR p-value:                 1.346e-08\n",
      "====================================================================================\n",
      "                       coef    std err          z      P>|z|      [0.025      0.975]\n",
      "------------------------------------------------------------------------------------\n",
      "const                0.5829      0.135      4.321      0.000       0.319       0.847\n",
      "Time_to_Delivery    -0.0181      0.003     -5.235      0.000      -0.025      -0.011\n",
      "====================================================================================\n"
     ]
    }
   ],
   "source": [
    "X = lost_df['Time_to_Delivery']\n",
    "X = sm.add_constant(X)\n",
    "\n",
    "y = lost_df['Status']\n",
    "\n",
    "lr = sm.Logit(y, X).fit()\n",
    "\n",
    "print(lr.summary())"
   ]
  },
  {
   "cell_type": "markdown",
   "metadata": {},
   "source": [
    "Full Logistic Regression"
   ]
  },
  {
   "cell_type": "code",
   "execution_count": 6,
   "metadata": {},
   "outputs": [
    {
     "name": "stdout",
     "output_type": "stream",
     "text": [
      "Optimization terminated successfully.\n",
      "         Current function value: 0.658383\n",
      "         Iterations 5\n",
      "                           Logit Regression Results                           \n",
      "==============================================================================\n",
      "Dep. Variable:                 Status   No. Observations:                  550\n",
      "Model:                          Logit   Df Residuals:                      547\n",
      "Method:                           MLE   Df Model:                            2\n",
      "Date:                Wed, 23 Oct 2024   Pseudo R-squ.:                 0.05007\n",
      "Time:                        10:24:28   Log-Likelihood:                -362.11\n",
      "converged:                       True   LL-Null:                       -381.20\n",
      "Covariance Type:            nonrobust   LLR p-value:                 5.132e-09\n",
      "====================================================================================\n",
      "                       coef    std err          z      P>|z|      [0.025      0.975]\n",
      "------------------------------------------------------------------------------------\n",
      "const                0.7235      0.148      4.877      0.000       0.433       1.014\n",
      "Time_to_Delivery    -0.0183      0.003     -5.266      0.000      -0.025      -0.012\n",
      "Part_type           -0.4758      0.197     -2.420      0.016      -0.861      -0.090\n",
      "====================================================================================\n"
     ]
    }
   ],
   "source": [
    "lost_df['Part_type'] = le.fit_transform(lost_df['Part_type'])\n",
    "\n",
    "X = lost_df.drop(columns=['Status', 'Quote'])\n",
    "X = sm.add_constant(X)\n",
    "\n",
    "y = lost_df['Status']\n",
    "\n",
    "lr = sm.Logit(y, X).fit()\n",
    "\n",
    "print(lr.summary())"
   ]
  },
  {
   "cell_type": "markdown",
   "metadata": {},
   "source": [
    "Probability To Dataset"
   ]
  },
  {
   "cell_type": "code",
   "execution_count": 7,
   "metadata": {},
   "outputs": [
    {
     "data": {
      "text/html": [
       "<div>\n",
       "<style scoped>\n",
       "    .dataframe tbody tr th:only-of-type {\n",
       "        vertical-align: middle;\n",
       "    }\n",
       "\n",
       "    .dataframe tbody tr th {\n",
       "        vertical-align: top;\n",
       "    }\n",
       "\n",
       "    .dataframe thead th {\n",
       "        text-align: right;\n",
       "    }\n",
       "</style>\n",
       "<table border=\"1\" class=\"dataframe\">\n",
       "  <thead>\n",
       "    <tr style=\"text-align: right;\">\n",
       "      <th></th>\n",
       "      <th>Quote</th>\n",
       "      <th>Time_to_Delivery</th>\n",
       "      <th>Part_type</th>\n",
       "      <th>Status</th>\n",
       "      <th>Probability Predicted</th>\n",
       "      <th>Probability of Lost</th>\n",
       "    </tr>\n",
       "  </thead>\n",
       "  <tbody>\n",
       "    <tr>\n",
       "      <th>0</th>\n",
       "      <td>3452</td>\n",
       "      <td>6</td>\n",
       "      <td>1</td>\n",
       "      <td>1</td>\n",
       "      <td>0.534363</td>\n",
       "      <td>1</td>\n",
       "    </tr>\n",
       "    <tr>\n",
       "      <th>1</th>\n",
       "      <td>429</td>\n",
       "      <td>9</td>\n",
       "      <td>0</td>\n",
       "      <td>1</td>\n",
       "      <td>0.636083</td>\n",
       "      <td>1</td>\n",
       "    </tr>\n",
       "    <tr>\n",
       "      <th>2</th>\n",
       "      <td>102</td>\n",
       "      <td>14</td>\n",
       "      <td>1</td>\n",
       "      <td>1</td>\n",
       "      <td>0.497729</td>\n",
       "      <td>0</td>\n",
       "    </tr>\n",
       "    <tr>\n",
       "      <th>3</th>\n",
       "      <td>1153</td>\n",
       "      <td>16</td>\n",
       "      <td>1</td>\n",
       "      <td>0</td>\n",
       "      <td>0.488559</td>\n",
       "      <td>0</td>\n",
       "    </tr>\n",
       "    <tr>\n",
       "      <th>4</th>\n",
       "      <td>102</td>\n",
       "      <td>11</td>\n",
       "      <td>1</td>\n",
       "      <td>1</td>\n",
       "      <td>0.511485</td>\n",
       "      <td>1</td>\n",
       "    </tr>\n",
       "    <tr>\n",
       "      <th>...</th>\n",
       "      <td>...</td>\n",
       "      <td>...</td>\n",
       "      <td>...</td>\n",
       "      <td>...</td>\n",
       "      <td>...</td>\n",
       "      <td>...</td>\n",
       "    </tr>\n",
       "    <tr>\n",
       "      <th>545</th>\n",
       "      <td>1481</td>\n",
       "      <td>32</td>\n",
       "      <td>0</td>\n",
       "      <td>0</td>\n",
       "      <td>0.534070</td>\n",
       "      <td>1</td>\n",
       "    </tr>\n",
       "    <tr>\n",
       "      <th>546</th>\n",
       "      <td>1432</td>\n",
       "      <td>65</td>\n",
       "      <td>1</td>\n",
       "      <td>0</td>\n",
       "      <td>0.279966</td>\n",
       "      <td>0</td>\n",
       "    </tr>\n",
       "    <tr>\n",
       "      <th>547</th>\n",
       "      <td>1369</td>\n",
       "      <td>36</td>\n",
       "      <td>1</td>\n",
       "      <td>1</td>\n",
       "      <td>0.398276</td>\n",
       "      <td>0</td>\n",
       "    </tr>\n",
       "    <tr>\n",
       "      <th>548</th>\n",
       "      <td>440</td>\n",
       "      <td>63</td>\n",
       "      <td>0</td>\n",
       "      <td>1</td>\n",
       "      <td>0.393607</td>\n",
       "      <td>0</td>\n",
       "    </tr>\n",
       "    <tr>\n",
       "      <th>549</th>\n",
       "      <td>580</td>\n",
       "      <td>54</td>\n",
       "      <td>1</td>\n",
       "      <td>0</td>\n",
       "      <td>0.322382</td>\n",
       "      <td>0</td>\n",
       "    </tr>\n",
       "  </tbody>\n",
       "</table>\n",
       "<p>550 rows × 6 columns</p>\n",
       "</div>"
      ],
      "text/plain": [
       "     Quote  Time_to_Delivery  Part_type  Status  Probability Predicted  \\\n",
       "0     3452                 6          1       1               0.534363   \n",
       "1      429                 9          0       1               0.636083   \n",
       "2      102                14          1       1               0.497729   \n",
       "3     1153                16          1       0               0.488559   \n",
       "4      102                11          1       1               0.511485   \n",
       "..     ...               ...        ...     ...                    ...   \n",
       "545   1481                32          0       0               0.534070   \n",
       "546   1432                65          1       0               0.279966   \n",
       "547   1369                36          1       1               0.398276   \n",
       "548    440                63          0       1               0.393607   \n",
       "549    580                54          1       0               0.322382   \n",
       "\n",
       "     Probability of Lost  \n",
       "0                      1  \n",
       "1                      1  \n",
       "2                      0  \n",
       "3                      0  \n",
       "4                      1  \n",
       "..                   ...  \n",
       "545                    1  \n",
       "546                    0  \n",
       "547                    0  \n",
       "548                    0  \n",
       "549                    0  \n",
       "\n",
       "[550 rows x 6 columns]"
      ]
     },
     "execution_count": 7,
     "metadata": {},
     "output_type": "execute_result"
    }
   ],
   "source": [
    "#Predicted Values\n",
    "probability = lr.predict(X)\n",
    "\n",
    "#Threshold of 0.5 greater than means success\n",
    "psuccess = (probability > 0.5).astype(int)\n",
    "\n",
    "#Add these columns to the dataset\n",
    "lost_df['Probability Predicted'] = probability\n",
    "lost_df['Probability of Lost'] = psuccess\n",
    "lost_df"
   ]
  },
  {
   "cell_type": "markdown",
   "metadata": {},
   "source": [
    "Confusion Matrix"
   ]
  },
  {
   "cell_type": "code",
   "execution_count": 8,
   "metadata": {},
   "outputs": [
    {
     "data": {
      "image/png": "[encoded data removed]",
      "text/plain": [
       "<Figure size 1000x800 with 2 Axes>"
      ]
     },
     "metadata": {},
     "output_type": "display_data"
    }
   ],
   "source": [
    "confusion_matrix = confusion_matrix(psuccess, y)\n",
    "\n",
    "plt.figure(figsize=(10,8))\n",
    "sns.heatmap(confusion_matrix, annot=True, cmap='coolwarm', xticklabels=['Won', 'Lost'],\n",
    "            yticklabels=['Won', 'Lost'], fmt='g')\n",
    "sns.set_style('ticks', {'axes.formatter.useoffset': False})\n",
    "plt.title('Confusion Matrix')\n",
    "plt.show()"
   ]
  },
  {
   "cell_type": "markdown",
   "metadata": {},
   "source": [
    "Classification Report"
   ]
  },
  {
   "cell_type": "code",
   "execution_count": 9,
   "metadata": {},
   "outputs": [
    {
     "name": "stdout",
     "output_type": "stream",
     "text": [
      "              precision    recall  f1-score   support\n",
      "\n",
      "           0       0.62      0.50      0.55       272\n",
      "           1       0.59      0.69      0.64       278\n",
      "\n",
      "    accuracy                           0.60       550\n",
      "   macro avg       0.60      0.60      0.59       550\n",
      "weighted avg       0.60      0.60      0.59       550\n",
      "\n"
     ]
    }
   ],
   "source": [
    "print(classification_report(y, psuccess))"
   ]
  },
  {
   "cell_type": "code",
   "execution_count": 11,
   "metadata": {},
   "outputs": [
    {
     "data": {
      "image/png": "[encoded data removed]",
      "text/plain": [
       "<Figure size 640x480 with 1 Axes>"
      ]
     },
     "metadata": {},
     "output_type": "display_data"
    }
   ],
   "source": [
    "#ROC Curve and the Area Under Curve\n",
    "fpr, tpr, thresholds = roc_curve(y, probability)\n",
    "roc_auc = roc_auc_score(y, probability)\n",
    "\n",
    "#Plot the ROC\n",
    "plt.figure()\n",
    "#ROC Curve\n",
    "plt.plot(fpr, tpr, color='darkorange', lw=2, label=f'ROC Curve (area = {roc_auc:.2f})')\n",
    "#Random Model Curve\n",
    "plt.plot([0,1], [0,1], color='navy', lw=2, linestyle='--')\n",
    "plt.xlim([0.0, 1.0])\n",
    "plt.ylim([0.0, 1.05])\n",
    "plt.xlabel('False Positive Rate')\n",
    "plt.ylabel('True Positive Rate')\n",
    "plt.title('Receiver Operating Characteristic')\n",
    "plt.legend(loc='lower right')\n",
    "plt.show()"
   ]
  },
  {
   "cell_type": "code",
   "execution_count": null,
   "metadata": {},
   "outputs": [],
   "source": []
  }
 ],
 "metadata": {
  "kernelspec": {
   "display_name": "base",
   "language": "python",
   "name": "python3"
  },
  "language_info": {
   "codemirror_mode": {
    "name": "ipython",
    "version": 3
   },
   "file_extension": ".py",
   "mimetype": "text/x-python",
   "name": "python",
   "nbconvert_exporter": "python",
   "pygments_lexer": "ipython3",
   "version": "3.12.4"
  }
 },
 "nbformat": 4,
 "nbformat_minor": 2
}

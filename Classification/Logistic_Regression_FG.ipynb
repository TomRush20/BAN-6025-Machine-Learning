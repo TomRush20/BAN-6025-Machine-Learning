{
 "cells": [
  {
   "cell_type": "code",
   "execution_count": 1,
   "metadata": {},
   "outputs": [],
   "source": [
    "import pandas as pd\n",
    "import numpy as np\n",
    "import seaborn as sns\n",
    "import matplotlib.pyplot as plt\n",
    "import statsmodels.api as sm\n",
    "import sklearn as sk\n",
    "from sklearn.metrics import confusion_matrix, roc_curve, roc_auc_score, classification_report"
   ]
  },
  {
   "cell_type": "code",
   "execution_count": 2,
   "metadata": {},
   "outputs": [
    {
     "data": {
      "text/html": [
       "<div>\n",
       "<style scoped>\n",
       "    .dataframe tbody tr th:only-of-type {\n",
       "        vertical-align: middle;\n",
       "    }\n",
       "\n",
       "    .dataframe tbody tr th {\n",
       "        vertical-align: top;\n",
       "    }\n",
       "\n",
       "    .dataframe thead th {\n",
       "        text-align: right;\n",
       "    }\n",
       "</style>\n",
       "<table border=\"1\" class=\"dataframe\">\n",
       "  <thead>\n",
       "    <tr style=\"text-align: right;\">\n",
       "      <th></th>\n",
       "      <th>Yards</th>\n",
       "      <th>Success</th>\n",
       "      <th>Week</th>\n",
       "    </tr>\n",
       "  </thead>\n",
       "  <tbody>\n",
       "    <tr>\n",
       "      <th>0</th>\n",
       "      <td>30</td>\n",
       "      <td>1</td>\n",
       "      <td>1</td>\n",
       "    </tr>\n",
       "    <tr>\n",
       "      <th>1</th>\n",
       "      <td>41</td>\n",
       "      <td>1</td>\n",
       "      <td>1</td>\n",
       "    </tr>\n",
       "    <tr>\n",
       "      <th>2</th>\n",
       "      <td>50</td>\n",
       "      <td>1</td>\n",
       "      <td>1</td>\n",
       "    </tr>\n",
       "    <tr>\n",
       "      <th>3</th>\n",
       "      <td>22</td>\n",
       "      <td>1</td>\n",
       "      <td>1</td>\n",
       "    </tr>\n",
       "    <tr>\n",
       "      <th>4</th>\n",
       "      <td>33</td>\n",
       "      <td>1</td>\n",
       "      <td>1</td>\n",
       "    </tr>\n",
       "  </tbody>\n",
       "</table>\n",
       "</div>"
      ],
      "text/plain": [
       "   Yards  Success  Week\n",
       "0     30        1     1\n",
       "1     41        1     1\n",
       "2     50        1     1\n",
       "3     22        1     1\n",
       "4     33        1     1"
      ]
     },
     "execution_count": 2,
     "metadata": {},
     "output_type": "execute_result"
    }
   ],
   "source": [
    "fg_df = pd.read_csv(r\"C:\\Users\\trush\\OneDrive\\Documents\\WFU Grad School Info\\BAN 6025 Machine Learning\\Data\\FG.csv\")\n",
    "fg_df.head()"
   ]
  },
  {
   "cell_type": "markdown",
   "metadata": {},
   "source": [
    "Data Preparation"
   ]
  },
  {
   "cell_type": "code",
   "execution_count": 3,
   "metadata": {},
   "outputs": [
    {
     "name": "stdout",
     "output_type": "stream",
     "text": [
      "Success\n",
      "1    756\n",
      "0    192\n",
      "Name: count, dtype: int64\n"
     ]
    }
   ],
   "source": [
    "#Make the class variable categorical\n",
    "fg_df['Success'] = fg_df['Success'].astype('category')\n",
    "\n",
    "#Look at the response counts\n",
    "success_counts = fg_df['Success'].value_counts()\n",
    "print(success_counts)"
   ]
  },
  {
   "cell_type": "markdown",
   "metadata": {},
   "source": [
    "Fit the Logistic Regression Model"
   ]
  },
  {
   "cell_type": "markdown",
   "metadata": {},
   "source": [
    "Primary Focus: coef and p > |z|. We want the p-value to be less than 0.05. The coef values will be multiplied by the corresponding feature to find the logit probability."
   ]
  },
  {
   "cell_type": "markdown",
   "metadata": {},
   "source": [
    "Primarily focus on the sign of the coef to find the relationship between feature and probability."
   ]
  },
  {
   "cell_type": "code",
   "execution_count": 4,
   "metadata": {},
   "outputs": [
    {
     "name": "stdout",
     "output_type": "stream",
     "text": [
      "Optimization terminated successfully.\n",
      "         Current function value: 0.426615\n",
      "         Iterations 7\n",
      "                           Logit Regression Results                           \n",
      "==============================================================================\n",
      "Dep. Variable:                Success   No. Observations:                  948\n",
      "Model:                          Logit   Df Residuals:                      945\n",
      "Method:                           MLE   Df Model:                            2\n",
      "Date:                Tue, 29 Oct 2024   Pseudo R-squ.:                  0.1534\n",
      "Time:                        21:19:18   Log-Likelihood:                -404.43\n",
      "converged:                       True   LL-Null:                       -477.69\n",
      "Covariance Type:            nonrobust   LLR p-value:                 1.528e-32\n",
      "==============================================================================\n",
      "                 coef    std err          z      P>|z|      [0.025      0.975]\n",
      "------------------------------------------------------------------------------\n",
      "const          6.2997      0.511     12.327      0.000       5.298       7.301\n",
      "Yards         -0.1127      0.011    -10.477      0.000      -0.134      -0.092\n",
      "Week          -0.0524      0.018     -2.862      0.004      -0.088      -0.017\n",
      "==============================================================================\n"
     ]
    }
   ],
   "source": [
    "#X dataframe + intercept constant\n",
    "X = fg_df.drop(columns=['Success'])\n",
    "X = sm.add_constant(X)\n",
    "\n",
    "#Y dataframe = class variable\n",
    "y = fg_df['Success']\n",
    "\n",
    "#Fitting the Model\n",
    "lr = sm.Logit(y, X).fit()\n",
    "\n",
    "#Print the summary\n",
    "print(lr.summary())"
   ]
  },
  {
   "cell_type": "markdown",
   "metadata": {},
   "source": [
    "Add the predicted probabilities and their success predictions to the dataset"
   ]
  },
  {
   "cell_type": "code",
   "execution_count": 6,
   "metadata": {},
   "outputs": [
    {
     "data": {
      "text/html": [
       "<div>\n",
       "<style scoped>\n",
       "    .dataframe tbody tr th:only-of-type {\n",
       "        vertical-align: middle;\n",
       "    }\n",
       "\n",
       "    .dataframe tbody tr th {\n",
       "        vertical-align: top;\n",
       "    }\n",
       "\n",
       "    .dataframe thead th {\n",
       "        text-align: right;\n",
       "    }\n",
       "</style>\n",
       "<table border=\"1\" class=\"dataframe\">\n",
       "  <thead>\n",
       "    <tr style=\"text-align: right;\">\n",
       "      <th></th>\n",
       "      <th>Yards</th>\n",
       "      <th>Success</th>\n",
       "      <th>Week</th>\n",
       "      <th>Probability Predicted</th>\n",
       "      <th>Probability of Success</th>\n",
       "    </tr>\n",
       "  </thead>\n",
       "  <tbody>\n",
       "    <tr>\n",
       "      <th>0</th>\n",
       "      <td>30</td>\n",
       "      <td>1</td>\n",
       "      <td>1</td>\n",
       "      <td>0.946099</td>\n",
       "      <td>1</td>\n",
       "    </tr>\n",
       "    <tr>\n",
       "      <th>1</th>\n",
       "      <td>41</td>\n",
       "      <td>1</td>\n",
       "      <td>1</td>\n",
       "      <td>0.835498</td>\n",
       "      <td>1</td>\n",
       "    </tr>\n",
       "    <tr>\n",
       "      <th>2</th>\n",
       "      <td>50</td>\n",
       "      <td>1</td>\n",
       "      <td>1</td>\n",
       "      <td>0.648051</td>\n",
       "      <td>1</td>\n",
       "    </tr>\n",
       "    <tr>\n",
       "      <th>3</th>\n",
       "      <td>22</td>\n",
       "      <td>1</td>\n",
       "      <td>1</td>\n",
       "      <td>0.977403</td>\n",
       "      <td>1</td>\n",
       "    </tr>\n",
       "    <tr>\n",
       "      <th>4</th>\n",
       "      <td>33</td>\n",
       "      <td>1</td>\n",
       "      <td>1</td>\n",
       "      <td>0.926012</td>\n",
       "      <td>1</td>\n",
       "    </tr>\n",
       "    <tr>\n",
       "      <th>...</th>\n",
       "      <td>...</td>\n",
       "      <td>...</td>\n",
       "      <td>...</td>\n",
       "      <td>...</td>\n",
       "      <td>...</td>\n",
       "    </tr>\n",
       "    <tr>\n",
       "      <th>943</th>\n",
       "      <td>42</td>\n",
       "      <td>1</td>\n",
       "      <td>17</td>\n",
       "      <td>0.662271</td>\n",
       "      <td>1</td>\n",
       "    </tr>\n",
       "    <tr>\n",
       "      <th>944</th>\n",
       "      <td>46</td>\n",
       "      <td>1</td>\n",
       "      <td>17</td>\n",
       "      <td>0.555394</td>\n",
       "      <td>1</td>\n",
       "    </tr>\n",
       "    <tr>\n",
       "      <th>945</th>\n",
       "      <td>47</td>\n",
       "      <td>1</td>\n",
       "      <td>17</td>\n",
       "      <td>0.527411</td>\n",
       "      <td>1</td>\n",
       "    </tr>\n",
       "    <tr>\n",
       "      <th>946</th>\n",
       "      <td>52</td>\n",
       "      <td>0</td>\n",
       "      <td>17</td>\n",
       "      <td>0.388428</td>\n",
       "      <td>0</td>\n",
       "    </tr>\n",
       "    <tr>\n",
       "      <th>947</th>\n",
       "      <td>51</td>\n",
       "      <td>0</td>\n",
       "      <td>17</td>\n",
       "      <td>0.415521</td>\n",
       "      <td>0</td>\n",
       "    </tr>\n",
       "  </tbody>\n",
       "</table>\n",
       "<p>948 rows × 5 columns</p>\n",
       "</div>"
      ],
      "text/plain": [
       "     Yards Success  Week  Probability Predicted  Probability of Success\n",
       "0       30       1     1               0.946099                       1\n",
       "1       41       1     1               0.835498                       1\n",
       "2       50       1     1               0.648051                       1\n",
       "3       22       1     1               0.977403                       1\n",
       "4       33       1     1               0.926012                       1\n",
       "..     ...     ...   ...                    ...                     ...\n",
       "943     42       1    17               0.662271                       1\n",
       "944     46       1    17               0.555394                       1\n",
       "945     47       1    17               0.527411                       1\n",
       "946     52       0    17               0.388428                       0\n",
       "947     51       0    17               0.415521                       0\n",
       "\n",
       "[948 rows x 5 columns]"
      ]
     },
     "execution_count": 6,
     "metadata": {},
     "output_type": "execute_result"
    }
   ],
   "source": [
    "#Predicted Values\n",
    "probability = lr.predict(X)\n",
    "\n",
    "#Threshold of 0.5 greater than means success\n",
    "psuccess = (probability > 0.5).astype(int)\n",
    "\n",
    "#Add these columns to the dataset\n",
    "fg_df['Probability Predicted'] = probability\n",
    "fg_df['Probability of Success'] = psuccess\n",
    "\n",
    "fg_df"
   ]
  },
  {
   "cell_type": "markdown",
   "metadata": {},
   "source": [
    "Confusion Matrix"
   ]
  },
  {
   "cell_type": "code",
   "execution_count": 7,
   "metadata": {},
   "outputs": [
    {
     "data": {
      "image/png": "[encoded data removed]",
      "text/plain": [
       "<Figure size 1000x800 with 2 Axes>"
      ]
     },
     "metadata": {},
     "output_type": "display_data"
    }
   ],
   "source": [
    "confusion_matrix = confusion_matrix(psuccess, y)\n",
    "\n",
    "plt.figure(figsize=(10,8))\n",
    "sns.heatmap(confusion_matrix, annot=True, cmap='coolwarm', xticklabels=['Missed', 'Made'],\n",
    "            yticklabels=['Missed', 'Made'], fmt='g')\n",
    "sns.set_style('ticks', {'axes.formatter.useoffset': False})\n",
    "plt.title('Confusion Matrix')\n",
    "plt.show()"
   ]
  },
  {
   "cell_type": "markdown",
   "metadata": {},
   "source": [
    "Classification Report"
   ]
  },
  {
   "cell_type": "code",
   "execution_count": 8,
   "metadata": {},
   "outputs": [
    {
     "name": "stdout",
     "output_type": "stream",
     "text": [
      "              precision    recall  f1-score   support\n",
      "\n",
      "           0       0.16      0.61      0.26        51\n",
      "           1       0.97      0.82      0.89       897\n",
      "\n",
      "    accuracy                           0.81       948\n",
      "   macro avg       0.57      0.71      0.57       948\n",
      "weighted avg       0.93      0.81      0.86       948\n",
      "\n"
     ]
    }
   ],
   "source": [
    "print(classification_report(psuccess, y))"
   ]
  },
  {
   "cell_type": "markdown",
   "metadata": {},
   "source": [
    "ROC Curve"
   ]
  },
  {
   "cell_type": "code",
   "execution_count": 9,
   "metadata": {},
   "outputs": [
    {
     "data": {
      "image/png": "[encoded data removed]",
      "text/plain": [
       "<Figure size 640x480 with 1 Axes>"
      ]
     },
     "metadata": {},
     "output_type": "display_data"
    }
   ],
   "source": [
    "#ROC Curve and the Area Under Curve\n",
    "fpr, tpr, thresholds = roc_curve(y.cat.codes, probability)\n",
    "roc_auc = roc_auc_score(y.cat.codes, probability)\n",
    "\n",
    "#Plot the ROC\n",
    "plt.figure()\n",
    "#ROC Curve\n",
    "plt.plot(fpr, tpr, color='darkorange', lw=2, label=f'ROC Curve (area = {roc_auc:.2f})')\n",
    "#Random Model Curve\n",
    "plt.plot([0,1], [0,1], color='navy', lw=2, linestyle='--')\n",
    "plt.xlim([0.0, 1.0])\n",
    "plt.ylim([0.0, 1.05])\n",
    "plt.xlabel('False Positive Rate')\n",
    "plt.ylabel('True Positive Rate')\n",
    "plt.title('Receiver Operating Characteristic')\n",
    "plt.legend(loc='lower right')\n",
    "plt.show()"
   ]
  },
  {
   "cell_type": "code",
   "execution_count": null,
   "metadata": {},
   "outputs": [],
   "source": []
  }
 ],
 "metadata": {
  "kernelspec": {
   "display_name": "base",
   "language": "python",
   "name": "python3"
  },
  "language_info": {
   "codemirror_mode": {
    "name": "ipython",
    "version": 3
   },
   "file_extension": ".py",
   "mimetype": "text/x-python",
   "name": "python",
   "nbconvert_exporter": "python",
   "pygments_lexer": "ipython3",
   "version": "3.12.4"
  }
 },
 "nbformat": 4,
 "nbformat_minor": 2
}

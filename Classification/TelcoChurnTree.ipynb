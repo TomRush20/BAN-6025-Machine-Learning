{
 "cells": [
  {
   "cell_type": "code",
   "execution_count": 1,
   "metadata": {
    "colab": {
     "base_uri": "https://localhost:8080/",
     "height": 17
    },
    "executionInfo": {
     "elapsed": 2798,
     "status": "ok",
     "timestamp": 1698776613804,
     "user": {
      "displayName": "Tonya Balan",
      "userId": "10033140935938229295"
     },
     "user_tz": 240
    },
    "id": "NH4gND5Jv9ZR",
    "outputId": "4b2b0e74-7813-4c38-8646-062d63b48faa"
   },
   "outputs": [],
   "source": [
    "import numpy as np\n",
    "import matplotlib.pyplot as plt\n",
    "import seaborn as sns\n",
    "import pandas as pd\n",
    "import statsmodels.api as sample_data\n",
    "\n",
    "from sklearn.model_selection import train_test_split\n",
    "from sklearn.tree import DecisionTreeClassifier\n",
    "from sklearn import tree\n",
    "from sklearn.metrics import accuracy_score, precision_score, recall_score\n",
    "from sklearn.metrics import accuracy_score, precision_score, recall_score\n",
    "from sklearn.feature_selection import chi2, SelectKBest\n",
    "from sklearn.metrics import confusion_matrix, roc_curve, roc_auc_score\n",
    "from sklearn.model_selection import GridSearchCV\n",
    "\n",
    "\n"
   ]
  },
  {
   "cell_type": "code",
   "execution_count": 21,
   "metadata": {},
   "outputs": [],
   "source": [
    "def metric_report(actual, predicted):\n",
    "    acc_train = accuracy_score(actual, predicted)\n",
    "    prec_train = precision_score(actual, predicted)\n",
    "    rec_train = recall_score(actual, predicted)\n",
    "\n",
    "    print(\"Accuracy : {:.4f}\".format(acc_train))\n",
    "    print(\"Precision: {:.4f}\".format(prec_train))\n",
    "    print(\"Recall.  : {:.4f}\".format(rec_train))"
   ]
  },
  {
   "cell_type": "code",
   "execution_count": 22,
   "metadata": {},
   "outputs": [],
   "source": [
    "def plot_roc(fpr, tpr, roc_auc, train):\n",
    "    plt.figure()\n",
    "    plt.plot(fpr, tpr, color='darkorange', lw=2, label=f'ROC curve (area = {roc_auc:.4f})')\n",
    "    plt.plot([0, 1], [0, 1], color='navy', lw=2, linestyle='--')\n",
    "    plt.xlim([0.0, 1.0])\n",
    "    plt.ylim([0.0, 1.05])\n",
    "    plt.xlabel('False Positive Rate')\n",
    "    plt.ylabel('True Positive Rate')\n",
    "    if train == True:\n",
    "        plt.title('Receiver Operating Characteristic for Train Data')\n",
    "    else:\n",
    "        plt.title('Receiver Operating Characteristic for Test Data')\n",
    "    plt.legend(loc='lower right')\n",
    "    plt.show()"
   ]
  },
  {
   "cell_type": "markdown",
   "metadata": {
    "id": "Ns3onAZnwSXq"
   },
   "source": [
    "# Load Data and check for missing values"
   ]
  },
  {
   "cell_type": "code",
   "execution_count": 3,
   "metadata": {
    "colab": {
     "base_uri": "https://localhost:8080/"
    },
    "executionInfo": {
     "elapsed": 579,
     "status": "ok",
     "timestamp": 1698776879448,
     "user": {
      "displayName": "Tonya Balan",
      "userId": "10033140935938229295"
     },
     "user_tz": 240
    },
    "id": "NZM5Q02fwR8l",
    "outputId": "82d9e951-eef8-4d05-cc23-e38a87830f79"
   },
   "outputs": [
    {
     "name": "stdout",
     "output_type": "stream",
     "text": [
      "<class 'pandas.core.frame.DataFrame'>\n",
      "RangeIndex: 3333 entries, 0 to 3332\n",
      "Data columns (total 21 columns):\n",
      " #   Column          Non-Null Count  Dtype  \n",
      "---  ------          --------------  -----  \n",
      " 0   State           3333 non-null   object \n",
      " 1   Account Length  3333 non-null   int64  \n",
      " 2   Area Code       3333 non-null   int64  \n",
      " 3   Phone           3333 non-null   object \n",
      " 4   Int'l Plan      3333 non-null   object \n",
      " 5   VMail Plan      3333 non-null   object \n",
      " 6   VMail Message   3333 non-null   int64  \n",
      " 7   Day Mins        3333 non-null   float64\n",
      " 8   Day Calls       3333 non-null   int64  \n",
      " 9   Day Charge      3333 non-null   float64\n",
      " 10  Eve Mins        3333 non-null   float64\n",
      " 11  Eve Calls       3333 non-null   int64  \n",
      " 12  Eve Charge      3333 non-null   float64\n",
      " 13  Night Mins      3333 non-null   float64\n",
      " 14  Night Calls     3333 non-null   int64  \n",
      " 15  Night Charge    3333 non-null   float64\n",
      " 16  Intl Mins       3333 non-null   float64\n",
      " 17  Intl Calls      3333 non-null   int64  \n",
      " 18  Intl Charge     3333 non-null   float64\n",
      " 19  CustServ Calls  3333 non-null   int64  \n",
      " 20  Churn?          3333 non-null   int64  \n",
      "dtypes: float64(8), int64(9), object(4)\n",
      "memory usage: 546.9+ KB\n",
      "     State  Account Length  Area Code     Phone Int'l Plan VMail Plan  \\\n",
      "0       KS             128        415  382-4657         no        yes   \n",
      "1       OH             107        415  371-7191         no        yes   \n",
      "2       NJ             137        415  358-1921         no         no   \n",
      "3       OH              84        408  375-9999        yes         no   \n",
      "4       OK              75        415  330-6626        yes         no   \n",
      "...    ...             ...        ...       ...        ...        ...   \n",
      "3328    AZ             192        415  414-4276         no        yes   \n",
      "3329    WV              68        415  370-3271         no         no   \n",
      "3330    RI              28        510  328-8230         no         no   \n",
      "3331    CT             184        510  364-6381        yes         no   \n",
      "3332    TN              74        415  400-4344         no        yes   \n",
      "\n",
      "      VMail Message  Day Mins  Day Calls  Day Charge  ...  Eve Calls  \\\n",
      "0                25     265.1        110       45.07  ...         99   \n",
      "1                26     161.6        123       27.47  ...        103   \n",
      "2                 0     243.4        114       41.38  ...        110   \n",
      "3                 0     299.4         71       50.90  ...         88   \n",
      "4                 0     166.7        113       28.34  ...        122   \n",
      "...             ...       ...        ...         ...  ...        ...   \n",
      "3328             36     156.2         77       26.55  ...        126   \n",
      "3329              0     231.1         57       39.29  ...         55   \n",
      "3330              0     180.8        109       30.74  ...         58   \n",
      "3331              0     213.8        105       36.35  ...         84   \n",
      "3332             25     234.4        113       39.85  ...         82   \n",
      "\n",
      "      Eve Charge  Night Mins  Night Calls  Night Charge  Intl Mins  \\\n",
      "0          16.78       244.7           91         11.01       10.0   \n",
      "1          16.62       254.4          103         11.45       13.7   \n",
      "2          10.30       162.6          104          7.32       12.2   \n",
      "3           5.26       196.9           89          8.86        6.6   \n",
      "4          12.61       186.9          121          8.41       10.1   \n",
      "...          ...         ...          ...           ...        ...   \n",
      "3328       18.32       279.1           83         12.56        9.9   \n",
      "3329       13.04       191.3          123          8.61        9.6   \n",
      "3330       24.55       191.9           91          8.64       14.1   \n",
      "3331       13.57       139.2          137          6.26        5.0   \n",
      "3332       22.60       241.4           77         10.86       13.7   \n",
      "\n",
      "      Intl Calls  Intl Charge  CustServ Calls  Churn?  \n",
      "0              3         2.70               1       0  \n",
      "1              3         3.70               1       0  \n",
      "2              5         3.29               0       0  \n",
      "3              7         1.78               2       0  \n",
      "4              3         2.73               3       0  \n",
      "...          ...          ...             ...     ...  \n",
      "3328           6         2.67               2       0  \n",
      "3329           4         2.59               3       0  \n",
      "3330           6         3.81               2       0  \n",
      "3331          10         1.35               2       0  \n",
      "3332           4         3.70               0       0  \n",
      "\n",
      "[3333 rows x 21 columns]\n"
     ]
    }
   ],
   "source": [
    "# load the data into a pandas dataframe\n",
    "\n",
    "data_path = r\"C:\\Users\\trush\\OneDrive\\Documents\\WFU Grad School Info\\BAN 6025 Machine Learning\\Data\\Churn2-1 (1).csv\"\n",
    "df = pd.read_csv(data_path)\n",
    "\n",
    "# preview data\n",
    "df.info()\n",
    "df.head\n",
    "print(df)\n",
    "\n"
   ]
  },
  {
   "cell_type": "code",
   "execution_count": 4,
   "metadata": {},
   "outputs": [
    {
     "name": "stdout",
     "output_type": "stream",
     "text": [
      "State             0\n",
      "Account Length    0\n",
      "Area Code         0\n",
      "Phone             0\n",
      "Int'l Plan        0\n",
      "VMail Plan        0\n",
      "VMail Message     0\n",
      "Day Mins          0\n",
      "Day Calls         0\n",
      "Day Charge        0\n",
      "Eve Mins          0\n",
      "Eve Calls         0\n",
      "Eve Charge        0\n",
      "Night Mins        0\n",
      "Night Calls       0\n",
      "Night Charge      0\n",
      "Intl Mins         0\n",
      "Intl Calls        0\n",
      "Intl Charge       0\n",
      "CustServ Calls    0\n",
      "Churn?            0\n",
      "dtype: int64\n"
     ]
    }
   ],
   "source": [
    "# total count of NaN values\n",
    "print(df.isnull().sum())"
   ]
  },
  {
   "cell_type": "markdown",
   "metadata": {
    "id": "BhW759uRylri"
   },
   "source": [
    "# Preprocess Data\n",
    "\n",
    "\n",
    "*   Drop unnecessary variables\n",
    "*   Convert target to numeric\n",
    "\n",
    "\n"
   ]
  },
  {
   "cell_type": "code",
   "execution_count": 5,
   "metadata": {
    "colab": {
     "base_uri": "https://localhost:8080/",
     "height": 244
    },
    "executionInfo": {
     "elapsed": 7,
     "status": "ok",
     "timestamp": 1698776879448,
     "user": {
      "displayName": "Tonya Balan",
      "userId": "10033140935938229295"
     },
     "user_tz": 240
    },
    "id": "r8DXP2CDxRI2",
    "outputId": "2bf604ea-7d2e-40b6-e314-929753ac247a"
   },
   "outputs": [
    {
     "data": {
      "text/html": [
       "<div>\n",
       "<style scoped>\n",
       "    .dataframe tbody tr th:only-of-type {\n",
       "        vertical-align: middle;\n",
       "    }\n",
       "\n",
       "    .dataframe tbody tr th {\n",
       "        vertical-align: top;\n",
       "    }\n",
       "\n",
       "    .dataframe thead th {\n",
       "        text-align: right;\n",
       "    }\n",
       "</style>\n",
       "<table border=\"1\" class=\"dataframe\">\n",
       "  <thead>\n",
       "    <tr style=\"text-align: right;\">\n",
       "      <th></th>\n",
       "      <th>Account Length</th>\n",
       "      <th>Int'l Plan</th>\n",
       "      <th>VMail Plan</th>\n",
       "      <th>VMail Message</th>\n",
       "      <th>Day Mins</th>\n",
       "      <th>Day Calls</th>\n",
       "      <th>Day Charge</th>\n",
       "      <th>Eve Mins</th>\n",
       "      <th>Eve Calls</th>\n",
       "      <th>Eve Charge</th>\n",
       "      <th>Night Mins</th>\n",
       "      <th>Night Calls</th>\n",
       "      <th>Night Charge</th>\n",
       "      <th>Intl Mins</th>\n",
       "      <th>Intl Calls</th>\n",
       "      <th>Intl Charge</th>\n",
       "      <th>CustServ Calls</th>\n",
       "      <th>Churn?</th>\n",
       "    </tr>\n",
       "  </thead>\n",
       "  <tbody>\n",
       "    <tr>\n",
       "      <th>0</th>\n",
       "      <td>128</td>\n",
       "      <td>0</td>\n",
       "      <td>1</td>\n",
       "      <td>25</td>\n",
       "      <td>265.1</td>\n",
       "      <td>110</td>\n",
       "      <td>45.07</td>\n",
       "      <td>197.4</td>\n",
       "      <td>99</td>\n",
       "      <td>16.78</td>\n",
       "      <td>244.7</td>\n",
       "      <td>91</td>\n",
       "      <td>11.01</td>\n",
       "      <td>10.0</td>\n",
       "      <td>3</td>\n",
       "      <td>2.70</td>\n",
       "      <td>1</td>\n",
       "      <td>0</td>\n",
       "    </tr>\n",
       "    <tr>\n",
       "      <th>1</th>\n",
       "      <td>107</td>\n",
       "      <td>0</td>\n",
       "      <td>1</td>\n",
       "      <td>26</td>\n",
       "      <td>161.6</td>\n",
       "      <td>123</td>\n",
       "      <td>27.47</td>\n",
       "      <td>195.5</td>\n",
       "      <td>103</td>\n",
       "      <td>16.62</td>\n",
       "      <td>254.4</td>\n",
       "      <td>103</td>\n",
       "      <td>11.45</td>\n",
       "      <td>13.7</td>\n",
       "      <td>3</td>\n",
       "      <td>3.70</td>\n",
       "      <td>1</td>\n",
       "      <td>0</td>\n",
       "    </tr>\n",
       "    <tr>\n",
       "      <th>2</th>\n",
       "      <td>137</td>\n",
       "      <td>0</td>\n",
       "      <td>0</td>\n",
       "      <td>0</td>\n",
       "      <td>243.4</td>\n",
       "      <td>114</td>\n",
       "      <td>41.38</td>\n",
       "      <td>121.2</td>\n",
       "      <td>110</td>\n",
       "      <td>10.30</td>\n",
       "      <td>162.6</td>\n",
       "      <td>104</td>\n",
       "      <td>7.32</td>\n",
       "      <td>12.2</td>\n",
       "      <td>5</td>\n",
       "      <td>3.29</td>\n",
       "      <td>0</td>\n",
       "      <td>0</td>\n",
       "    </tr>\n",
       "    <tr>\n",
       "      <th>3</th>\n",
       "      <td>84</td>\n",
       "      <td>1</td>\n",
       "      <td>0</td>\n",
       "      <td>0</td>\n",
       "      <td>299.4</td>\n",
       "      <td>71</td>\n",
       "      <td>50.90</td>\n",
       "      <td>61.9</td>\n",
       "      <td>88</td>\n",
       "      <td>5.26</td>\n",
       "      <td>196.9</td>\n",
       "      <td>89</td>\n",
       "      <td>8.86</td>\n",
       "      <td>6.6</td>\n",
       "      <td>7</td>\n",
       "      <td>1.78</td>\n",
       "      <td>2</td>\n",
       "      <td>0</td>\n",
       "    </tr>\n",
       "    <tr>\n",
       "      <th>4</th>\n",
       "      <td>75</td>\n",
       "      <td>1</td>\n",
       "      <td>0</td>\n",
       "      <td>0</td>\n",
       "      <td>166.7</td>\n",
       "      <td>113</td>\n",
       "      <td>28.34</td>\n",
       "      <td>148.3</td>\n",
       "      <td>122</td>\n",
       "      <td>12.61</td>\n",
       "      <td>186.9</td>\n",
       "      <td>121</td>\n",
       "      <td>8.41</td>\n",
       "      <td>10.1</td>\n",
       "      <td>3</td>\n",
       "      <td>2.73</td>\n",
       "      <td>3</td>\n",
       "      <td>0</td>\n",
       "    </tr>\n",
       "  </tbody>\n",
       "</table>\n",
       "</div>"
      ],
      "text/plain": [
       "   Account Length  Int'l Plan  VMail Plan  VMail Message  Day Mins  Day Calls  \\\n",
       "0             128           0           1             25     265.1        110   \n",
       "1             107           0           1             26     161.6        123   \n",
       "2             137           0           0              0     243.4        114   \n",
       "3              84           1           0              0     299.4         71   \n",
       "4              75           1           0              0     166.7        113   \n",
       "\n",
       "   Day Charge  Eve Mins  Eve Calls  Eve Charge  Night Mins  Night Calls  \\\n",
       "0       45.07     197.4         99       16.78       244.7           91   \n",
       "1       27.47     195.5        103       16.62       254.4          103   \n",
       "2       41.38     121.2        110       10.30       162.6          104   \n",
       "3       50.90      61.9         88        5.26       196.9           89   \n",
       "4       28.34     148.3        122       12.61       186.9          121   \n",
       "\n",
       "   Night Charge  Intl Mins  Intl Calls  Intl Charge  CustServ Calls Churn?  \n",
       "0         11.01       10.0           3         2.70               1      0  \n",
       "1         11.45       13.7           3         3.70               1      0  \n",
       "2          7.32       12.2           5         3.29               0      0  \n",
       "3          8.86        6.6           7         1.78               2      0  \n",
       "4          8.41       10.1           3         2.73               3      0  "
      ]
     },
     "execution_count": 5,
     "metadata": {},
     "output_type": "execute_result"
    }
   ],
   "source": [
    "# drop unnecessary columns\n",
    "df.drop(['State', 'Area Code', 'Phone'], axis=1, inplace=True)\n",
    "# convert plan variables to numerical\n",
    "df[\"Int'l Plan\"] = df[\"Int'l Plan\"].apply(lambda x: 1 if x == 'yes' else 0)\n",
    "df['VMail Plan'] = df['VMail Plan'].apply(lambda x: 1 if x == 'yes' else 0)\n",
    "# Convert response from an integer to a categorical variable\n",
    "df['Churn?'] = df['Churn?'].astype('category')\n",
    "df.head()\n",
    "\n"
   ]
  },
  {
   "cell_type": "markdown",
   "metadata": {
    "id": "AxAfVwRJyrsa"
   },
   "source": [
    "# Split data into training and test sets\n",
    "\n",
    "Before splitting\n",
    "*   Separate X and y variables into separate data frames\n",
    "*   Create dummy variables\n",
    "\n"
   ]
  },
  {
   "cell_type": "code",
   "execution_count": 7,
   "metadata": {
    "colab": {
     "base_uri": "https://localhost:8080/"
    },
    "executionInfo": {
     "elapsed": 174,
     "status": "ok",
     "timestamp": 1698776879617,
     "user": {
      "displayName": "Tonya Balan",
      "userId": "10033140935938229295"
     },
     "user_tz": 240
    },
    "id": "HTJd7CyMxDrq",
    "outputId": "4bfc9a94-98d2-466c-dbc3-cada38562acc"
   },
   "outputs": [
    {
     "name": "stdout",
     "output_type": "stream",
     "text": [
      "<class 'pandas.core.frame.DataFrame'>\n",
      "Index: 2333 entries, 2016 to 3174\n",
      "Data columns (total 17 columns):\n",
      " #   Column          Non-Null Count  Dtype  \n",
      "---  ------          --------------  -----  \n",
      " 0   Account Length  2333 non-null   int64  \n",
      " 1   Int'l Plan      2333 non-null   int64  \n",
      " 2   VMail Plan      2333 non-null   int64  \n",
      " 3   VMail Message   2333 non-null   int64  \n",
      " 4   Day Mins        2333 non-null   float64\n",
      " 5   Day Calls       2333 non-null   int64  \n",
      " 6   Day Charge      2333 non-null   float64\n",
      " 7   Eve Mins        2333 non-null   float64\n",
      " 8   Eve Calls       2333 non-null   int64  \n",
      " 9   Eve Charge      2333 non-null   float64\n",
      " 10  Night Mins      2333 non-null   float64\n",
      " 11  Night Calls     2333 non-null   int64  \n",
      " 12  Night Charge    2333 non-null   float64\n",
      " 13  Intl Mins       2333 non-null   float64\n",
      " 14  Intl Calls      2333 non-null   int64  \n",
      " 15  Intl Charge     2333 non-null   float64\n",
      " 16  CustServ Calls  2333 non-null   int64  \n",
      "dtypes: float64(8), int64(9)\n",
      "memory usage: 328.1 KB\n",
      "<class 'pandas.core.series.Series'>\n",
      "Index: 2333 entries, 2016 to 3174\n",
      "Series name: Churn?\n",
      "Non-Null Count  Dtype   \n",
      "--------------  -----   \n",
      "2333 non-null   category\n",
      "dtypes: category(1)\n",
      "memory usage: 20.6 KB\n"
     ]
    }
   ],
   "source": [
    "# split the data into training and testing sets\n",
    "X = df.drop(['Churn?'], axis=1)\n",
    "\n",
    "y = df['Churn?']\n",
    "X_train, X_test, y_train, y_test = train_test_split(X, y, test_size=0.3, random_state=42)\n",
    "\n",
    "X_train.info()\n",
    "y_train.info()\n",
    "\n",
    "\n"
   ]
  },
  {
   "cell_type": "markdown",
   "metadata": {
    "id": "8kqorhpPy-vK"
   },
   "source": [
    "# Decision Tree  \n",
    "We will use 3 parameters to control the growth of the tree\n",
    "\n",
    "- **max_depth** determines the maximum number of levels for the tree.  Smaller values help to prevent overfitting.  Default value = None\n",
    "\n",
    "- **min_samples_leaf** determines the minimum number of observations that must remain in a leaf.  If a split leaves fewer than this number of observations, the split cannot be performed.  Larger values help to prevent overfitting.  Default value = 1.\n",
    "\n",
    "- **ccp_alpha** is the cost complexity parameter and can be used for post-pruning the tree to help prevent overfitting.  Default value = 0.  Larger values yield a smaller tree."
   ]
  },
  {
   "cell_type": "code",
   "execution_count": 8,
   "metadata": {
    "colab": {
     "base_uri": "https://localhost:8080/",
     "height": 75
    },
    "executionInfo": {
     "elapsed": 3,
     "status": "ok",
     "timestamp": 1698776879617,
     "user": {
      "displayName": "Tonya Balan",
      "userId": "10033140935938229295"
     },
     "user_tz": 240
    },
    "id": "OHvzSEZvy-16",
    "outputId": "0b0ba67c-1479-4445-fee7-ebd72dff7aab"
   },
   "outputs": [
    {
     "data": {
      "text/html": [
       "<style>#sk-container-id-1 {\n",
       "  /* Definition of color scheme common for light and dark mode */\n",
       "  --sklearn-color-text: black;\n",
       "  --sklearn-color-line: gray;\n",
       "  /* Definition of color scheme for unfitted estimators */\n",
       "  --sklearn-color-unfitted-level-0: #fff5e6;\n",
       "  --sklearn-color-unfitted-level-1: #f6e4d2;\n",
       "  --sklearn-color-unfitted-level-2: #ffe0b3;\n",
       "  --sklearn-color-unfitted-level-3: chocolate;\n",
       "  /* Definition of color scheme for fitted estimators */\n",
       "  --sklearn-color-fitted-level-0: #f0f8ff;\n",
       "  --sklearn-color-fitted-level-1: #d4ebff;\n",
       "  --sklearn-color-fitted-level-2: #b3dbfd;\n",
       "  --sklearn-color-fitted-level-3: cornflowerblue;\n",
       "\n",
       "  /* Specific color for light theme */\n",
       "  --sklearn-color-text-on-default-background: var(--sg-text-color, var(--theme-code-foreground, var(--jp-content-font-color1, black)));\n",
       "  --sklearn-color-background: var(--sg-background-color, var(--theme-background, var(--jp-layout-color0, white)));\n",
       "  --sklearn-color-border-box: var(--sg-text-color, var(--theme-code-foreground, var(--jp-content-font-color1, black)));\n",
       "  --sklearn-color-icon: #696969;\n",
       "\n",
       "  @media (prefers-color-scheme: dark) {\n",
       "    /* Redefinition of color scheme for dark theme */\n",
       "    --sklearn-color-text-on-default-background: var(--sg-text-color, var(--theme-code-foreground, var(--jp-content-font-color1, white)));\n",
       "    --sklearn-color-background: var(--sg-background-color, var(--theme-background, var(--jp-layout-color0, #111)));\n",
       "    --sklearn-color-border-box: var(--sg-text-color, var(--theme-code-foreground, var(--jp-content-font-color1, white)));\n",
       "    --sklearn-color-icon: #878787;\n",
       "  }\n",
       "}\n",
       "\n",
       "#sk-container-id-1 {\n",
       "  color: var(--sklearn-color-text);\n",
       "}\n",
       "\n",
       "#sk-container-id-1 pre {\n",
       "  padding: 0;\n",
       "}\n",
       "\n",
       "#sk-container-id-1 input.sk-hidden--visually {\n",
       "  border: 0;\n",
       "  clip: rect(1px 1px 1px 1px);\n",
       "  clip: rect(1px, 1px, 1px, 1px);\n",
       "  height: 1px;\n",
       "  margin: -1px;\n",
       "  overflow: hidden;\n",
       "  padding: 0;\n",
       "  position: absolute;\n",
       "  width: 1px;\n",
       "}\n",
       "\n",
       "#sk-container-id-1 div.sk-dashed-wrapped {\n",
       "  border: 1px dashed var(--sklearn-color-line);\n",
       "  margin: 0 0.4em 0.5em 0.4em;\n",
       "  box-sizing: border-box;\n",
       "  padding-bottom: 0.4em;\n",
       "  background-color: var(--sklearn-color-background);\n",
       "}\n",
       "\n",
       "#sk-container-id-1 div.sk-container {\n",
       "  /* jupyter's `normalize.less` sets `[hidden] { display: none; }`\n",
       "     but bootstrap.min.css set `[hidden] { display: none !important; }`\n",
       "     so we also need the `!important` here to be able to override the\n",
       "     default hidden behavior on the sphinx rendered scikit-learn.org.\n",
       "     See: https://github.com/scikit-learn/scikit-learn/issues/21755 */\n",
       "  display: inline-block !important;\n",
       "  position: relative;\n",
       "}\n",
       "\n",
       "#sk-container-id-1 div.sk-text-repr-fallback {\n",
       "  display: none;\n",
       "}\n",
       "\n",
       "div.sk-parallel-item,\n",
       "div.sk-serial,\n",
       "div.sk-item {\n",
       "  /* draw centered vertical line to link estimators */\n",
       "  background-image: linear-gradient(var(--sklearn-color-text-on-default-background), var(--sklearn-color-text-on-default-background));\n",
       "  background-size: 2px 100%;\n",
       "  background-repeat: no-repeat;\n",
       "  background-position: center center;\n",
       "}\n",
       "\n",
       "/* Parallel-specific style estimator block */\n",
       "\n",
       "#sk-container-id-1 div.sk-parallel-item::after {\n",
       "  content: \"\";\n",
       "  width: 100%;\n",
       "  border-bottom: 2px solid var(--sklearn-color-text-on-default-background);\n",
       "  flex-grow: 1;\n",
       "}\n",
       "\n",
       "#sk-container-id-1 div.sk-parallel {\n",
       "  display: flex;\n",
       "  align-items: stretch;\n",
       "  justify-content: center;\n",
       "  background-color: var(--sklearn-color-background);\n",
       "  position: relative;\n",
       "}\n",
       "\n",
       "#sk-container-id-1 div.sk-parallel-item {\n",
       "  display: flex;\n",
       "  flex-direction: column;\n",
       "}\n",
       "\n",
       "#sk-container-id-1 div.sk-parallel-item:first-child::after {\n",
       "  align-self: flex-end;\n",
       "  width: 50%;\n",
       "}\n",
       "\n",
       "#sk-container-id-1 div.sk-parallel-item:last-child::after {\n",
       "  align-self: flex-start;\n",
       "  width: 50%;\n",
       "}\n",
       "\n",
       "#sk-container-id-1 div.sk-parallel-item:only-child::after {\n",
       "  width: 0;\n",
       "}\n",
       "\n",
       "/* Serial-specific style estimator block */\n",
       "\n",
       "#sk-container-id-1 div.sk-serial {\n",
       "  display: flex;\n",
       "  flex-direction: column;\n",
       "  align-items: center;\n",
       "  background-color: var(--sklearn-color-background);\n",
       "  padding-right: 1em;\n",
       "  padding-left: 1em;\n",
       "}\n",
       "\n",
       "\n",
       "/* Toggleable style: style used for estimator/Pipeline/ColumnTransformer box that is\n",
       "clickable and can be expanded/collapsed.\n",
       "- Pipeline and ColumnTransformer use this feature and define the default style\n",
       "- Estimators will overwrite some part of the style using the `sk-estimator` class\n",
       "*/\n",
       "\n",
       "/* Pipeline and ColumnTransformer style (default) */\n",
       "\n",
       "#sk-container-id-1 div.sk-toggleable {\n",
       "  /* Default theme specific background. It is overwritten whether we have a\n",
       "  specific estimator or a Pipeline/ColumnTransformer */\n",
       "  background-color: var(--sklearn-color-background);\n",
       "}\n",
       "\n",
       "/* Toggleable label */\n",
       "#sk-container-id-1 label.sk-toggleable__label {\n",
       "  cursor: pointer;\n",
       "  display: block;\n",
       "  width: 100%;\n",
       "  margin-bottom: 0;\n",
       "  padding: 0.5em;\n",
       "  box-sizing: border-box;\n",
       "  text-align: center;\n",
       "}\n",
       "\n",
       "#sk-container-id-1 label.sk-toggleable__label-arrow:before {\n",
       "  /* Arrow on the left of the label */\n",
       "  content: \"▸\";\n",
       "  float: left;\n",
       "  margin-right: 0.25em;\n",
       "  color: var(--sklearn-color-icon);\n",
       "}\n",
       "\n",
       "#sk-container-id-1 label.sk-toggleable__label-arrow:hover:before {\n",
       "  color: var(--sklearn-color-text);\n",
       "}\n",
       "\n",
       "/* Toggleable content - dropdown */\n",
       "\n",
       "#sk-container-id-1 div.sk-toggleable__content {\n",
       "  max-height: 0;\n",
       "  max-width: 0;\n",
       "  overflow: hidden;\n",
       "  text-align: left;\n",
       "  /* unfitted */\n",
       "  background-color: var(--sklearn-color-unfitted-level-0);\n",
       "}\n",
       "\n",
       "#sk-container-id-1 div.sk-toggleable__content.fitted {\n",
       "  /* fitted */\n",
       "  background-color: var(--sklearn-color-fitted-level-0);\n",
       "}\n",
       "\n",
       "#sk-container-id-1 div.sk-toggleable__content pre {\n",
       "  margin: 0.2em;\n",
       "  border-radius: 0.25em;\n",
       "  color: var(--sklearn-color-text);\n",
       "  /* unfitted */\n",
       "  background-color: var(--sklearn-color-unfitted-level-0);\n",
       "}\n",
       "\n",
       "#sk-container-id-1 div.sk-toggleable__content.fitted pre {\n",
       "  /* unfitted */\n",
       "  background-color: var(--sklearn-color-fitted-level-0);\n",
       "}\n",
       "\n",
       "#sk-container-id-1 input.sk-toggleable__control:checked~div.sk-toggleable__content {\n",
       "  /* Expand drop-down */\n",
       "  max-height: 200px;\n",
       "  max-width: 100%;\n",
       "  overflow: auto;\n",
       "}\n",
       "\n",
       "#sk-container-id-1 input.sk-toggleable__control:checked~label.sk-toggleable__label-arrow:before {\n",
       "  content: \"▾\";\n",
       "}\n",
       "\n",
       "/* Pipeline/ColumnTransformer-specific style */\n",
       "\n",
       "#sk-container-id-1 div.sk-label input.sk-toggleable__control:checked~label.sk-toggleable__label {\n",
       "  color: var(--sklearn-color-text);\n",
       "  background-color: var(--sklearn-color-unfitted-level-2);\n",
       "}\n",
       "\n",
       "#sk-container-id-1 div.sk-label.fitted input.sk-toggleable__control:checked~label.sk-toggleable__label {\n",
       "  background-color: var(--sklearn-color-fitted-level-2);\n",
       "}\n",
       "\n",
       "/* Estimator-specific style */\n",
       "\n",
       "/* Colorize estimator box */\n",
       "#sk-container-id-1 div.sk-estimator input.sk-toggleable__control:checked~label.sk-toggleable__label {\n",
       "  /* unfitted */\n",
       "  background-color: var(--sklearn-color-unfitted-level-2);\n",
       "}\n",
       "\n",
       "#sk-container-id-1 div.sk-estimator.fitted input.sk-toggleable__control:checked~label.sk-toggleable__label {\n",
       "  /* fitted */\n",
       "  background-color: var(--sklearn-color-fitted-level-2);\n",
       "}\n",
       "\n",
       "#sk-container-id-1 div.sk-label label.sk-toggleable__label,\n",
       "#sk-container-id-1 div.sk-label label {\n",
       "  /* The background is the default theme color */\n",
       "  color: var(--sklearn-color-text-on-default-background);\n",
       "}\n",
       "\n",
       "/* On hover, darken the color of the background */\n",
       "#sk-container-id-1 div.sk-label:hover label.sk-toggleable__label {\n",
       "  color: var(--sklearn-color-text);\n",
       "  background-color: var(--sklearn-color-unfitted-level-2);\n",
       "}\n",
       "\n",
       "/* Label box, darken color on hover, fitted */\n",
       "#sk-container-id-1 div.sk-label.fitted:hover label.sk-toggleable__label.fitted {\n",
       "  color: var(--sklearn-color-text);\n",
       "  background-color: var(--sklearn-color-fitted-level-2);\n",
       "}\n",
       "\n",
       "/* Estimator label */\n",
       "\n",
       "#sk-container-id-1 div.sk-label label {\n",
       "  font-family: monospace;\n",
       "  font-weight: bold;\n",
       "  display: inline-block;\n",
       "  line-height: 1.2em;\n",
       "}\n",
       "\n",
       "#sk-container-id-1 div.sk-label-container {\n",
       "  text-align: center;\n",
       "}\n",
       "\n",
       "/* Estimator-specific */\n",
       "#sk-container-id-1 div.sk-estimator {\n",
       "  font-family: monospace;\n",
       "  border: 1px dotted var(--sklearn-color-border-box);\n",
       "  border-radius: 0.25em;\n",
       "  box-sizing: border-box;\n",
       "  margin-bottom: 0.5em;\n",
       "  /* unfitted */\n",
       "  background-color: var(--sklearn-color-unfitted-level-0);\n",
       "}\n",
       "\n",
       "#sk-container-id-1 div.sk-estimator.fitted {\n",
       "  /* fitted */\n",
       "  background-color: var(--sklearn-color-fitted-level-0);\n",
       "}\n",
       "\n",
       "/* on hover */\n",
       "#sk-container-id-1 div.sk-estimator:hover {\n",
       "  /* unfitted */\n",
       "  background-color: var(--sklearn-color-unfitted-level-2);\n",
       "}\n",
       "\n",
       "#sk-container-id-1 div.sk-estimator.fitted:hover {\n",
       "  /* fitted */\n",
       "  background-color: var(--sklearn-color-fitted-level-2);\n",
       "}\n",
       "\n",
       "/* Specification for estimator info (e.g. \"i\" and \"?\") */\n",
       "\n",
       "/* Common style for \"i\" and \"?\" */\n",
       "\n",
       ".sk-estimator-doc-link,\n",
       "a:link.sk-estimator-doc-link,\n",
       "a:visited.sk-estimator-doc-link {\n",
       "  float: right;\n",
       "  font-size: smaller;\n",
       "  line-height: 1em;\n",
       "  font-family: monospace;\n",
       "  background-color: var(--sklearn-color-background);\n",
       "  border-radius: 1em;\n",
       "  height: 1em;\n",
       "  width: 1em;\n",
       "  text-decoration: none !important;\n",
       "  margin-left: 1ex;\n",
       "  /* unfitted */\n",
       "  border: var(--sklearn-color-unfitted-level-1) 1pt solid;\n",
       "  color: var(--sklearn-color-unfitted-level-1);\n",
       "}\n",
       "\n",
       ".sk-estimator-doc-link.fitted,\n",
       "a:link.sk-estimator-doc-link.fitted,\n",
       "a:visited.sk-estimator-doc-link.fitted {\n",
       "  /* fitted */\n",
       "  border: var(--sklearn-color-fitted-level-1) 1pt solid;\n",
       "  color: var(--sklearn-color-fitted-level-1);\n",
       "}\n",
       "\n",
       "/* On hover */\n",
       "div.sk-estimator:hover .sk-estimator-doc-link:hover,\n",
       ".sk-estimator-doc-link:hover,\n",
       "div.sk-label-container:hover .sk-estimator-doc-link:hover,\n",
       ".sk-estimator-doc-link:hover {\n",
       "  /* unfitted */\n",
       "  background-color: var(--sklearn-color-unfitted-level-3);\n",
       "  color: var(--sklearn-color-background);\n",
       "  text-decoration: none;\n",
       "}\n",
       "\n",
       "div.sk-estimator.fitted:hover .sk-estimator-doc-link.fitted:hover,\n",
       ".sk-estimator-doc-link.fitted:hover,\n",
       "div.sk-label-container:hover .sk-estimator-doc-link.fitted:hover,\n",
       ".sk-estimator-doc-link.fitted:hover {\n",
       "  /* fitted */\n",
       "  background-color: var(--sklearn-color-fitted-level-3);\n",
       "  color: var(--sklearn-color-background);\n",
       "  text-decoration: none;\n",
       "}\n",
       "\n",
       "/* Span, style for the box shown on hovering the info icon */\n",
       ".sk-estimator-doc-link span {\n",
       "  display: none;\n",
       "  z-index: 9999;\n",
       "  position: relative;\n",
       "  font-weight: normal;\n",
       "  right: .2ex;\n",
       "  padding: .5ex;\n",
       "  margin: .5ex;\n",
       "  width: min-content;\n",
       "  min-width: 20ex;\n",
       "  max-width: 50ex;\n",
       "  color: var(--sklearn-color-text);\n",
       "  box-shadow: 2pt 2pt 4pt #999;\n",
       "  /* unfitted */\n",
       "  background: var(--sklearn-color-unfitted-level-0);\n",
       "  border: .5pt solid var(--sklearn-color-unfitted-level-3);\n",
       "}\n",
       "\n",
       ".sk-estimator-doc-link.fitted span {\n",
       "  /* fitted */\n",
       "  background: var(--sklearn-color-fitted-level-0);\n",
       "  border: var(--sklearn-color-fitted-level-3);\n",
       "}\n",
       "\n",
       ".sk-estimator-doc-link:hover span {\n",
       "  display: block;\n",
       "}\n",
       "\n",
       "/* \"?\"-specific style due to the `<a>` HTML tag */\n",
       "\n",
       "#sk-container-id-1 a.estimator_doc_link {\n",
       "  float: right;\n",
       "  font-size: 1rem;\n",
       "  line-height: 1em;\n",
       "  font-family: monospace;\n",
       "  background-color: var(--sklearn-color-background);\n",
       "  border-radius: 1rem;\n",
       "  height: 1rem;\n",
       "  width: 1rem;\n",
       "  text-decoration: none;\n",
       "  /* unfitted */\n",
       "  color: var(--sklearn-color-unfitted-level-1);\n",
       "  border: var(--sklearn-color-unfitted-level-1) 1pt solid;\n",
       "}\n",
       "\n",
       "#sk-container-id-1 a.estimator_doc_link.fitted {\n",
       "  /* fitted */\n",
       "  border: var(--sklearn-color-fitted-level-1) 1pt solid;\n",
       "  color: var(--sklearn-color-fitted-level-1);\n",
       "}\n",
       "\n",
       "/* On hover */\n",
       "#sk-container-id-1 a.estimator_doc_link:hover {\n",
       "  /* unfitted */\n",
       "  background-color: var(--sklearn-color-unfitted-level-3);\n",
       "  color: var(--sklearn-color-background);\n",
       "  text-decoration: none;\n",
       "}\n",
       "\n",
       "#sk-container-id-1 a.estimator_doc_link.fitted:hover {\n",
       "  /* fitted */\n",
       "  background-color: var(--sklearn-color-fitted-level-3);\n",
       "}\n",
       "</style><div id=\"sk-container-id-1\" class=\"sk-top-container\"><div class=\"sk-text-repr-fallback\"><pre>DecisionTreeClassifier(ccp_alpha=0.001, max_depth=25, min_samples_leaf=10)</pre><b>In a Jupyter environment, please rerun this cell to show the HTML representation or trust the notebook. <br />On GitHub, the HTML representation is unable to render, please try loading this page with nbviewer.org.</b></div><div class=\"sk-container\" hidden><div class=\"sk-item\"><div class=\"sk-estimator fitted sk-toggleable\"><input class=\"sk-toggleable__control sk-hidden--visually\" id=\"sk-estimator-id-1\" type=\"checkbox\" checked><label for=\"sk-estimator-id-1\" class=\"sk-toggleable__label fitted sk-toggleable__label-arrow fitted\">&nbsp;&nbsp;DecisionTreeClassifier<a class=\"sk-estimator-doc-link fitted\" rel=\"noreferrer\" target=\"_blank\" href=\"https://scikit-learn.org/1.4/modules/generated/sklearn.tree.DecisionTreeClassifier.html\">?<span>Documentation for DecisionTreeClassifier</span></a><span class=\"sk-estimator-doc-link fitted\">i<span>Fitted</span></span></label><div class=\"sk-toggleable__content fitted\"><pre>DecisionTreeClassifier(ccp_alpha=0.001, max_depth=25, min_samples_leaf=10)</pre></div> </div></div></div></div>"
      ],
      "text/plain": [
       "DecisionTreeClassifier(ccp_alpha=0.001, max_depth=25, min_samples_leaf=10)"
      ]
     },
     "execution_count": 8,
     "metadata": {},
     "output_type": "execute_result"
    }
   ],
   "source": [
    "# create an instance of a decision tree classifier using default values\n",
    "\n",
    "dt = DecisionTreeClassifier(max_depth = 25, min_samples_leaf=10, ccp_alpha = 0.001)\n",
    "\n",
    "# fit the model to the training data\n",
    "dt.fit(X_train, y_train)\n",
    "\n",
    "# this code can be used to produce a textual representation of the tree if desired\n",
    "#text_rep = tree.export_text(dt)\n",
    "#print(text_rep)\n",
    "\n"
   ]
  },
  {
   "cell_type": "markdown",
   "metadata": {
    "id": "wWNrRoPR16Qm"
   },
   "source": [
    "# Visualize Tree"
   ]
  },
  {
   "cell_type": "markdown",
   "metadata": {
    "id": "MmwwYYExzC2M"
   },
   "source": [
    "# Make Predictions on the training and test data"
   ]
  },
  {
   "cell_type": "code",
   "execution_count": 10,
   "metadata": {
    "executionInfo": {
     "elapsed": 5,
     "status": "ok",
     "timestamp": 1698776882477,
     "user": {
      "displayName": "Tonya Balan",
      "userId": "10033140935938229295"
     },
     "user_tz": 240
    },
    "id": "ZbVVKar5zDNm"
   },
   "outputs": [],
   "source": [
    "# make predictions on the training and test data\n",
    "y_pred_train = dt.predict(X_train)\n",
    "y_pred_test = dt.predict(X_test)\n",
    "\n",
    "y_prob_train = dt.predict_proba(X_train)\n",
    "y_prob_test = dt.predict_proba(X_test)\n",
    "\n"
   ]
  },
  {
   "cell_type": "markdown",
   "metadata": {
    "id": "GKg5u6u5zS1p"
   },
   "source": [
    "## Assess Model on Training and Test data"
   ]
  },
  {
   "cell_type": "code",
   "execution_count": null,
   "metadata": {
    "colab": {
     "base_uri": "https://localhost:8080/"
    },
    "executionInfo": {
     "elapsed": 4,
     "status": "ok",
     "timestamp": 1698776882477,
     "user": {
      "displayName": "Tonya Balan",
      "userId": "10033140935938229295"
     },
     "user_tz": 240
    },
    "id": "WoP348-zzV_9",
    "outputId": "419d8603-9585-4680-c4fd-43b2d76c8b5f"
   },
   "outputs": [
    {
     "name": "stdout",
     "output_type": "stream",
     "text": [
      " -- train set -- \n",
      "Accuracy : 0.9447\n",
      "Precision: 0.8552\n",
      "Recall.  : 0.7471\n",
      "\n",
      " -- test set -- \n",
      "Accuracy : 0.9460\n",
      "Precision: 0.8346\n",
      "Recall.  : 0.7762\n"
     ]
    }
   ],
   "source": [
    "## print the scores\n",
    "print(\" -- train set -- \")\n",
    "\n",
    "metric_report(y_train, y_pred_train)\n",
    "\n",
    "print(\"\")\n",
    "\n",
    "print(\" -- test set -- \")\n",
    "\n",
    "metric_report(y_test, y_pred_test)\n"
   ]
  },
  {
   "cell_type": "markdown",
   "metadata": {
    "id": "N5u_sgQqc-Un"
   },
   "source": [
    "#Generate a confusion matrix for the training and test data"
   ]
  },
  {
   "cell_type": "code",
   "execution_count": 12,
   "metadata": {
    "colab": {
     "base_uri": "https://localhost:8080/"
    },
    "executionInfo": {
     "elapsed": 3,
     "status": "ok",
     "timestamp": 1698776882477,
     "user": {
      "displayName": "Tonya Balan",
      "userId": "10033140935938229295"
     },
     "user_tz": 240
    },
    "id": "Q2VZ-bXwd3FP",
    "outputId": "54a42028-db3e-4053-9b78-e763e1784f15"
   },
   "outputs": [
    {
     "name": "stdout",
     "output_type": "stream",
     "text": [
      "[[1950   86]\n",
      " [  43  254]]\n",
      "[[835  32]\n",
      " [ 22 111]]\n"
     ]
    }
   ],
   "source": [
    "# confusion matrix\n",
    "conf_matrix = confusion_matrix(y_pred_train, y_train)\n",
    "print(conf_matrix)\n",
    "\n",
    "# Generate confusion matrix for test set\n",
    "conf_matrix = confusion_matrix(y_pred_test, y_test)\n",
    "print(conf_matrix)"
   ]
  },
  {
   "cell_type": "markdown",
   "metadata": {
    "id": "vEtwuwCkdDEp"
   },
   "source": [
    "#Generate ROC curves for training and test data"
   ]
  },
  {
   "cell_type": "code",
   "execution_count": null,
   "metadata": {
    "colab": {
     "base_uri": "https://localhost:8080/",
     "height": 472
    },
    "executionInfo": {
     "elapsed": 251,
     "status": "ok",
     "timestamp": 1698776882726,
     "user": {
      "displayName": "Tonya Balan",
      "userId": "10033140935938229295"
     },
     "user_tz": 240
    },
    "id": "UrTbG6dbfl2m",
    "outputId": "e76fc15c-2463-44f3-e9b8-11b079a11808"
   },
   "outputs": [
    {
     "data": {
      "image/png": "[encoded data removed]",
      "text/plain": [
       "<Figure size 640x480 with 1 Axes>"
      ]
     },
     "metadata": {},
     "output_type": "display_data"
    }
   ],
   "source": [
    "# Generate ROC curve for training data\n",
    "\n",
    "fpr, tpr, thresholds = roc_curve(y_train.cat.codes, y_prob_train[:,1])\n",
    "roc_auc = roc_auc_score(y_train.cat.codes, y_prob_train[:,1])\n",
    "\n",
    "plot_roc(fpr, tpr, roc_auc, True)"
   ]
  },
  {
   "cell_type": "code",
   "execution_count": null,
   "metadata": {
    "colab": {
     "base_uri": "https://localhost:8080/",
     "height": 472
    },
    "executionInfo": {
     "elapsed": 7,
     "status": "ok",
     "timestamp": 1698776882727,
     "user": {
      "displayName": "Tonya Balan",
      "userId": "10033140935938229295"
     },
     "user_tz": 240
    },
    "id": "bgMUNvFshGIW",
    "outputId": "072a239a-f22a-4a65-f926-986b1dfb19b0"
   },
   "outputs": [
    {
     "data": {
      "image/png": "[encoded data removed]",
      "text/plain": [
       "<Figure size 640x480 with 1 Axes>"
      ]
     },
     "metadata": {},
     "output_type": "display_data"
    }
   ],
   "source": [
    "# Generate ROC curve for test data\n",
    "fpr, tpr, thresholds = roc_curve(y_test.cat.codes, y_prob_test[:,1])\n",
    "roc_auc = roc_auc_score(y_test.cat.codes, y_prob_test[:,1])\n",
    "\n",
    "plot_roc(fpr, tpr, roc_auc, False)\n"
   ]
  },
  {
   "cell_type": "markdown",
   "metadata": {
    "id": "qKCO_e2QrOvk"
   },
   "source": [
    "#Print feature importance for the tree"
   ]
  },
  {
   "cell_type": "code",
   "execution_count": 15,
   "metadata": {
    "colab": {
     "base_uri": "https://localhost:8080/",
     "height": 1000
    },
    "executionInfo": {
     "elapsed": 547,
     "status": "ok",
     "timestamp": 1698776883268,
     "user": {
      "displayName": "Tonya Balan",
      "userId": "10033140935938229295"
     },
     "user_tz": 240
    },
    "id": "gs1j_UqFKjVS",
    "outputId": "4cb4eccb-3f0e-4840-8947-7d719f339cf4"
   },
   "outputs": [
    {
     "name": "stdout",
     "output_type": "stream",
     "text": [
      "    importance         feature\n",
      "6     0.288541      Day Charge\n",
      "16    0.153987  CustServ Calls\n",
      "7     0.136731        Eve Mins\n",
      "15    0.123363     Intl Charge\n",
      "1     0.105190      Int'l Plan\n",
      "14    0.084141      Intl Calls\n",
      "3     0.061953   VMail Message\n",
      "4     0.022650        Day Mins\n",
      "12    0.010734    Night Charge\n",
      "11    0.006912     Night Calls\n",
      "8     0.005798       Eve Calls\n",
      "10    0.000000      Night Mins\n",
      "9     0.000000      Eve Charge\n",
      "13    0.000000       Intl Mins\n",
      "5     0.000000       Day Calls\n",
      "2     0.000000      VMail Plan\n",
      "0     0.000000  Account Length\n"
     ]
    },
    {
     "data": {
      "image/png": "[encoded data removed]",
      "text/plain": [
       "<Figure size 500x1000 with 1 Axes>"
      ]
     },
     "metadata": {},
     "output_type": "display_data"
    }
   ],
   "source": [
    "#calculate feature importance\n",
    "tree_imp = dt.feature_importances_\n",
    "\n",
    "#create a data frame with feature names\n",
    "\n",
    "# creating a list of column names\n",
    "column_values = ['importance']\n",
    "\n",
    "# creating the dataframe\n",
    "df = pd.DataFrame(data = tree_imp,\n",
    "                  columns = column_values)\n",
    "df['feature']=X.columns\n",
    "\n",
    "#sort data so features with largest importance values are at the top\n",
    "df2 = df.sort_values(by=['importance'], ascending=False)\n",
    "\n",
    "print(df2)\n",
    "\n",
    "#Create variable importance plot\n",
    "plt.figure(figsize=(5, 10))\n",
    "plt.title('Variable Importance')\n",
    "plt.xlabel('Importance')\n",
    "plt.ylabel('Feature')\n",
    "sns.barplot(data=df2,\n",
    "            y=df2['feature'],\n",
    "            x=df2['importance'], color=\"lightblue\")\n",
    "\n",
    "plt.show()"
   ]
  },
  {
   "cell_type": "markdown",
   "metadata": {
    "id": "8UJG56Oac2Zs"
   },
   "source": [
    "#Tune Parameters of the Classification Tree"
   ]
  },
  {
   "cell_type": "code",
   "execution_count": 16,
   "metadata": {
    "colab": {
     "base_uri": "https://localhost:8080/"
    },
    "executionInfo": {
     "elapsed": 22691,
     "status": "ok",
     "timestamp": 1698776905955,
     "user": {
      "displayName": "Tonya Balan",
      "userId": "10033140935938229295"
     },
     "user_tz": 240
    },
    "id": "XvqLpjQKc1ny",
    "outputId": "abecb322-697e-47b7-ccb7-578e9adc7aeb"
   },
   "outputs": [
    {
     "name": "stdout",
     "output_type": "stream",
     "text": [
      "{'ccp_alpha': 0.001, 'max_depth': 5, 'min_samples_leaf': 1}\n",
      "DecisionTreeClassifier(ccp_alpha=0.001, max_depth=5)\n"
     ]
    }
   ],
   "source": [
    "dt_tune = DecisionTreeClassifier()\n",
    "\n",
    "param_grid = {\n",
    "    'max_depth': [None, 5, 10, 15, 20, 25],\n",
    "    'min_samples_leaf': [1, 10, 20, 50, 100],\n",
    "    'ccp_alpha': [0, 0.001, 0.01, 0.1, 0.5, 1]\n",
    "}\n",
    "\n",
    "grid_search = GridSearchCV(dt_tune, param_grid, cv=5)\n",
    "grid_search.fit(X_train, y_train)\n",
    "\n",
    "best_params = grid_search.best_params_\n",
    "best_estimator = grid_search.best_estimator_\n",
    "\n",
    "print(best_params)\n",
    "print(best_estimator)"
   ]
  },
  {
   "cell_type": "markdown",
   "metadata": {
    "id": "Lrt-JQfO_zx4"
   },
   "source": [
    "#Score New Customers"
   ]
  },
  {
   "cell_type": "markdown",
   "metadata": {
    "id": "jF2euT9MAcV6"
   },
   "source": [
    "Load new customer data into a data frame"
   ]
  },
  {
   "cell_type": "code",
   "execution_count": 17,
   "metadata": {
    "colab": {
     "base_uri": "https://localhost:8080/"
    },
    "executionInfo": {
     "elapsed": 357,
     "status": "ok",
     "timestamp": 1698777497159,
     "user": {
      "displayName": "Tonya Balan",
      "userId": "10033140935938229295"
     },
     "user_tz": 240
    },
    "id": "ZWZGxjsJ_3pQ",
    "outputId": "90fe4873-d513-4107-be21-0bc69b8d5108"
   },
   "outputs": [
    {
     "name": "stdout",
     "output_type": "stream",
     "text": [
      "<class 'pandas.core.frame.DataFrame'>\n",
      "RangeIndex: 100 entries, 0 to 99\n",
      "Data columns (total 20 columns):\n",
      " #   Column          Non-Null Count  Dtype  \n",
      "---  ------          --------------  -----  \n",
      " 0   State           100 non-null    object \n",
      " 1   Account Length  100 non-null    int64  \n",
      " 2   Area Code       100 non-null    int64  \n",
      " 3   Phone           100 non-null    object \n",
      " 4   Int'l Plan      100 non-null    object \n",
      " 5   VMail Plan      100 non-null    object \n",
      " 6   VMail Message   100 non-null    int64  \n",
      " 7   Day Mins        100 non-null    float64\n",
      " 8   Day Calls       100 non-null    int64  \n",
      " 9   Day Charge      100 non-null    float64\n",
      " 10  Eve Mins        100 non-null    float64\n",
      " 11  Eve Calls       100 non-null    int64  \n",
      " 12  Eve Charge      100 non-null    float64\n",
      " 13  Night Mins      100 non-null    float64\n",
      " 14  Night Calls     100 non-null    int64  \n",
      " 15  Night Charge    100 non-null    float64\n",
      " 16  Intl Mins       100 non-null    float64\n",
      " 17  Intl Calls      100 non-null    int64  \n",
      " 18  Intl Charge     100 non-null    float64\n",
      " 19  CustServ Calls  100 non-null    int64  \n",
      "dtypes: float64(8), int64(8), object(4)\n",
      "memory usage: 15.8+ KB\n",
      "   State  Account Length  Area Code     Phone Int'l Plan VMail Plan  \\\n",
      "0     ND              59        510  351-4226         no         no   \n",
      "1     NC             165        415  330-6630         no         no   \n",
      "2     MI             133        408  387-9137         no         no   \n",
      "3     TN             140        415  372-3987         no         no   \n",
      "4     VT              93        408  408-5183         no        yes   \n",
      "..   ...             ...        ...       ...        ...        ...   \n",
      "95    VA             210        408  360-8666         no         no   \n",
      "96    AK             115        415  333-3704         no         no   \n",
      "97    ID             106        510  383-2566         no         no   \n",
      "98    RI              93        415  406-5584         no         no   \n",
      "99    KY              57        415  344-4691         no        yes   \n",
      "\n",
      "    VMail Message  Day Mins  Day Calls  Day Charge  Eve Mins  Eve Calls  \\\n",
      "0               0     179.4         80       30.50     232.5         99   \n",
      "1               0     207.7        109       35.31     164.8         94   \n",
      "2               0     277.3        138       47.14     228.4        117   \n",
      "3               0     125.3         84       21.30     167.6        121   \n",
      "4              32     138.1         91       23.48     167.3         72   \n",
      "..            ...       ...        ...         ...       ...        ...   \n",
      "95              0     104.6        121       17.78     149.5         71   \n",
      "96              0     245.2        105       41.68     159.0        109   \n",
      "97              0     274.4        120       46.65     198.6         82   \n",
      "98              0      98.4         78       16.73     249.6        129   \n",
      "99             29     279.9        121       47.58     223.1        109   \n",
      "\n",
      "    Eve Charge  Night Mins  Night Calls  Night Charge  Intl Mins  Intl Calls  \\\n",
      "0        19.76       175.8          105          7.91       14.7           3   \n",
      "1        14.01        54.5           91          2.45        7.9           3   \n",
      "2        19.41       117.3          103          5.28       12.8           4   \n",
      "3        14.25       260.6           94         11.73        8.4           4   \n",
      "4        14.22       238.9          115         10.75        6.8           3   \n",
      "..         ...         ...          ...           ...        ...         ...   \n",
      "95       12.71       255.1           67         11.48        6.5           8   \n",
      "96       13.52       229.9           74         10.35        7.2           8   \n",
      "97       16.88       160.8           62          7.24        6.0           3   \n",
      "98       21.22       248.2          114         11.17       14.2           4   \n",
      "99       18.96       251.7           94         11.33       13.0           2   \n",
      "\n",
      "    Intl Charge  CustServ Calls  \n",
      "0          3.97               0  \n",
      "1          2.13               0  \n",
      "2          3.46               2  \n",
      "3          2.27               1  \n",
      "4          1.84               2  \n",
      "..          ...             ...  \n",
      "95         1.76               2  \n",
      "96         1.94               0  \n",
      "97         1.62               1  \n",
      "98         3.83               1  \n",
      "99         3.51               1  \n",
      "\n",
      "[100 rows x 20 columns]\n"
     ]
    }
   ],
   "source": [
    "# load the data into a pandas dataframe\n",
    "\n",
    "data_path = r\"C:\\Users\\trush\\OneDrive\\Documents\\WFU Grad School Info\\BAN 6025 Machine Learning\\Data\\NewChurnCustomers.csv\"\n",
    "dfnew = pd.read_csv(data_path)\n",
    "\n",
    "# preview data\n",
    "dfnew.info()\n",
    "dfnew.head\n",
    "print(dfnew)\n"
   ]
  },
  {
   "cell_type": "markdown",
   "metadata": {
    "id": "k0TvjSxmAfKn"
   },
   "source": [
    "Preprocess the new data so that it matches the structure of the data used to train the model"
   ]
  },
  {
   "cell_type": "code",
   "execution_count": 18,
   "metadata": {
    "colab": {
     "base_uri": "https://localhost:8080/",
     "height": 244
    },
    "executionInfo": {
     "elapsed": 161,
     "status": "ok",
     "timestamp": 1698777512117,
     "user": {
      "displayName": "Tonya Balan",
      "userId": "10033140935938229295"
     },
     "user_tz": 240
    },
    "id": "tzCmxzKGADEb",
    "outputId": "8fee37bb-c5bf-47fd-bbfb-842757dd820f"
   },
   "outputs": [
    {
     "data": {
      "text/html": [
       "<div>\n",
       "<style scoped>\n",
       "    .dataframe tbody tr th:only-of-type {\n",
       "        vertical-align: middle;\n",
       "    }\n",
       "\n",
       "    .dataframe tbody tr th {\n",
       "        vertical-align: top;\n",
       "    }\n",
       "\n",
       "    .dataframe thead th {\n",
       "        text-align: right;\n",
       "    }\n",
       "</style>\n",
       "<table border=\"1\" class=\"dataframe\">\n",
       "  <thead>\n",
       "    <tr style=\"text-align: right;\">\n",
       "      <th></th>\n",
       "      <th>Account Length</th>\n",
       "      <th>Int'l Plan</th>\n",
       "      <th>VMail Plan</th>\n",
       "      <th>VMail Message</th>\n",
       "      <th>Day Mins</th>\n",
       "      <th>Day Calls</th>\n",
       "      <th>Day Charge</th>\n",
       "      <th>Eve Mins</th>\n",
       "      <th>Eve Calls</th>\n",
       "      <th>Eve Charge</th>\n",
       "      <th>Night Mins</th>\n",
       "      <th>Night Calls</th>\n",
       "      <th>Night Charge</th>\n",
       "      <th>Intl Mins</th>\n",
       "      <th>Intl Calls</th>\n",
       "      <th>Intl Charge</th>\n",
       "      <th>CustServ Calls</th>\n",
       "    </tr>\n",
       "  </thead>\n",
       "  <tbody>\n",
       "    <tr>\n",
       "      <th>0</th>\n",
       "      <td>59</td>\n",
       "      <td>0</td>\n",
       "      <td>0</td>\n",
       "      <td>0</td>\n",
       "      <td>179.4</td>\n",
       "      <td>80</td>\n",
       "      <td>30.50</td>\n",
       "      <td>232.5</td>\n",
       "      <td>99</td>\n",
       "      <td>19.76</td>\n",
       "      <td>175.8</td>\n",
       "      <td>105</td>\n",
       "      <td>7.91</td>\n",
       "      <td>14.7</td>\n",
       "      <td>3</td>\n",
       "      <td>3.97</td>\n",
       "      <td>0</td>\n",
       "    </tr>\n",
       "    <tr>\n",
       "      <th>1</th>\n",
       "      <td>165</td>\n",
       "      <td>0</td>\n",
       "      <td>0</td>\n",
       "      <td>0</td>\n",
       "      <td>207.7</td>\n",
       "      <td>109</td>\n",
       "      <td>35.31</td>\n",
       "      <td>164.8</td>\n",
       "      <td>94</td>\n",
       "      <td>14.01</td>\n",
       "      <td>54.5</td>\n",
       "      <td>91</td>\n",
       "      <td>2.45</td>\n",
       "      <td>7.9</td>\n",
       "      <td>3</td>\n",
       "      <td>2.13</td>\n",
       "      <td>0</td>\n",
       "    </tr>\n",
       "    <tr>\n",
       "      <th>2</th>\n",
       "      <td>133</td>\n",
       "      <td>0</td>\n",
       "      <td>0</td>\n",
       "      <td>0</td>\n",
       "      <td>277.3</td>\n",
       "      <td>138</td>\n",
       "      <td>47.14</td>\n",
       "      <td>228.4</td>\n",
       "      <td>117</td>\n",
       "      <td>19.41</td>\n",
       "      <td>117.3</td>\n",
       "      <td>103</td>\n",
       "      <td>5.28</td>\n",
       "      <td>12.8</td>\n",
       "      <td>4</td>\n",
       "      <td>3.46</td>\n",
       "      <td>2</td>\n",
       "    </tr>\n",
       "    <tr>\n",
       "      <th>3</th>\n",
       "      <td>140</td>\n",
       "      <td>0</td>\n",
       "      <td>0</td>\n",
       "      <td>0</td>\n",
       "      <td>125.3</td>\n",
       "      <td>84</td>\n",
       "      <td>21.30</td>\n",
       "      <td>167.6</td>\n",
       "      <td>121</td>\n",
       "      <td>14.25</td>\n",
       "      <td>260.6</td>\n",
       "      <td>94</td>\n",
       "      <td>11.73</td>\n",
       "      <td>8.4</td>\n",
       "      <td>4</td>\n",
       "      <td>2.27</td>\n",
       "      <td>1</td>\n",
       "    </tr>\n",
       "    <tr>\n",
       "      <th>4</th>\n",
       "      <td>93</td>\n",
       "      <td>0</td>\n",
       "      <td>1</td>\n",
       "      <td>32</td>\n",
       "      <td>138.1</td>\n",
       "      <td>91</td>\n",
       "      <td>23.48</td>\n",
       "      <td>167.3</td>\n",
       "      <td>72</td>\n",
       "      <td>14.22</td>\n",
       "      <td>238.9</td>\n",
       "      <td>115</td>\n",
       "      <td>10.75</td>\n",
       "      <td>6.8</td>\n",
       "      <td>3</td>\n",
       "      <td>1.84</td>\n",
       "      <td>2</td>\n",
       "    </tr>\n",
       "  </tbody>\n",
       "</table>\n",
       "</div>"
      ],
      "text/plain": [
       "   Account Length  Int'l Plan  VMail Plan  VMail Message  Day Mins  Day Calls  \\\n",
       "0              59           0           0              0     179.4         80   \n",
       "1             165           0           0              0     207.7        109   \n",
       "2             133           0           0              0     277.3        138   \n",
       "3             140           0           0              0     125.3         84   \n",
       "4              93           0           1             32     138.1         91   \n",
       "\n",
       "   Day Charge  Eve Mins  Eve Calls  Eve Charge  Night Mins  Night Calls  \\\n",
       "0       30.50     232.5         99       19.76       175.8          105   \n",
       "1       35.31     164.8         94       14.01        54.5           91   \n",
       "2       47.14     228.4        117       19.41       117.3          103   \n",
       "3       21.30     167.6        121       14.25       260.6           94   \n",
       "4       23.48     167.3         72       14.22       238.9          115   \n",
       "\n",
       "   Night Charge  Intl Mins  Intl Calls  Intl Charge  CustServ Calls  \n",
       "0          7.91       14.7           3         3.97               0  \n",
       "1          2.45        7.9           3         2.13               0  \n",
       "2          5.28       12.8           4         3.46               2  \n",
       "3         11.73        8.4           4         2.27               1  \n",
       "4         10.75        6.8           3         1.84               2  "
      ]
     },
     "execution_count": 18,
     "metadata": {},
     "output_type": "execute_result"
    }
   ],
   "source": [
    "# drop unnecessary columns\n",
    "dfnew.drop(['State', 'Area Code', 'Phone'], axis=1, inplace=True)\n",
    "# convert plan variables to numerical\n",
    "dfnew[\"Int'l Plan\"] = dfnew[\"Int'l Plan\"].apply(lambda x: 1 if x == 'yes' else 0)\n",
    "dfnew['VMail Plan'] = dfnew['VMail Plan'].apply(lambda x: 1 if x == 'yes' else 0)\n",
    "dfnew.head()\n",
    "\n"
   ]
  },
  {
   "cell_type": "markdown",
   "metadata": {
    "id": "xR7ckjKHAr5g"
   },
   "source": [
    "\"Score\" the new data\n"
   ]
  },
  {
   "cell_type": "code",
   "execution_count": 19,
   "metadata": {
    "colab": {
     "base_uri": "https://localhost:8080/"
    },
    "executionInfo": {
     "elapsed": 149,
     "status": "ok",
     "timestamp": 1698777519586,
     "user": {
      "displayName": "Tonya Balan",
      "userId": "10033140935938229295"
     },
     "user_tz": 240
    },
    "id": "TU4LGyhHAI90",
    "outputId": "bded6c75-80f2-4df6-f6dc-4fc3cd2a6ecb"
   },
   "outputs": [
    {
     "name": "stdout",
     "output_type": "stream",
     "text": [
      "    Account Length  Int'l Plan  VMail Plan  VMail Message  Day Mins  \\\n",
      "0               59           0           0              0     179.4   \n",
      "1              165           0           0              0     207.7   \n",
      "2              133           0           0              0     277.3   \n",
      "3              140           0           0              0     125.3   \n",
      "4               93           0           1             32     138.1   \n",
      "..             ...         ...         ...            ...       ...   \n",
      "95             210           0           0              0     104.6   \n",
      "96             115           0           0              0     245.2   \n",
      "97             106           0           0              0     274.4   \n",
      "98              93           0           0              0      98.4   \n",
      "99              57           0           1             29     279.9   \n",
      "\n",
      "    Day Calls  Day Charge  Eve Mins  Eve Calls  Eve Charge  Night Mins  \\\n",
      "0          80       30.50     232.5         99       19.76       175.8   \n",
      "1         109       35.31     164.8         94       14.01        54.5   \n",
      "2         138       47.14     228.4        117       19.41       117.3   \n",
      "3          84       21.30     167.6        121       14.25       260.6   \n",
      "4          91       23.48     167.3         72       14.22       238.9   \n",
      "..        ...         ...       ...        ...         ...         ...   \n",
      "95        121       17.78     149.5         71       12.71       255.1   \n",
      "96        105       41.68     159.0        109       13.52       229.9   \n",
      "97        120       46.65     198.6         82       16.88       160.8   \n",
      "98         78       16.73     249.6        129       21.22       248.2   \n",
      "99        121       47.58     223.1        109       18.96       251.7   \n",
      "\n",
      "    Night Calls  Night Charge  Intl Mins  Intl Calls  Intl Charge  \\\n",
      "0           105          7.91       14.7           3         3.97   \n",
      "1            91          2.45        7.9           3         2.13   \n",
      "2           103          5.28       12.8           4         3.46   \n",
      "3            94         11.73        8.4           4         2.27   \n",
      "4           115         10.75        6.8           3         1.84   \n",
      "..          ...           ...        ...         ...          ...   \n",
      "95           67         11.48        6.5           8         1.76   \n",
      "96           74         10.35        7.2           8         1.94   \n",
      "97           62          7.24        6.0           3         1.62   \n",
      "98          114         11.17       14.2           4         3.83   \n",
      "99           94         11.33       13.0           2         3.51   \n",
      "\n",
      "    CustServ Calls  pred_Churn  prod_prob_churn  \n",
      "0                0           0         0.028791  \n",
      "1                0           0         0.028791  \n",
      "2                2           1         0.615385  \n",
      "3                1           0         0.028791  \n",
      "4                2           0         0.028791  \n",
      "..             ...         ...              ...  \n",
      "95               2           0         0.028791  \n",
      "96               0           0         0.035211  \n",
      "97               1           1         0.984375  \n",
      "98               1           0         0.028791  \n",
      "99               1           0         0.116279  \n",
      "\n",
      "[100 rows x 19 columns]\n"
     ]
    }
   ],
   "source": [
    "# make predictions on the training and test data\n",
    "Scored_class = dt.predict(dfnew)\n",
    "Scored_probs = dt.predict_proba(dfnew)\n",
    "\n",
    "dfnew['pred_Churn'] = Scored_class\n",
    "dfnew['prod_prob_churn']=Scored_probs[:,1]\n",
    "\n",
    "print(dfnew)"
   ]
  },
  {
   "cell_type": "markdown",
   "metadata": {
    "id": "eV2lRdotAumO"
   },
   "source": [
    "Export the scored data to Excel\n"
   ]
  },
  {
   "cell_type": "code",
   "execution_count": 20,
   "metadata": {
    "executionInfo": {
     "elapsed": 584,
     "status": "ok",
     "timestamp": 1698777596346,
     "user": {
      "displayName": "Tonya Balan",
      "userId": "10033140935938229295"
     },
     "user_tz": 240
    },
    "id": "pue4N_U8AZ_1"
   },
   "outputs": [],
   "source": [
    "scored_file = 'ChurnCustomerScores.xlsx'\n",
    "dfnew.to_excel(scored_file)"
   ]
  },
  {
   "cell_type": "code",
   "execution_count": null,
   "metadata": {},
   "outputs": [],
   "source": []
  }
 ],
 "metadata": {
  "colab": {
   "provenance": [
    {
     "file_id": "1mKRswYrc1i5c1D10ReCHST7G1dRlI52n",
     "timestamp": 1698762553498
    },
    {
     "file_id": "1QUSfNLzzorJ9i52H3gMMOKppH8hYjPrP",
     "timestamp": 1698683789005
    },
    {
     "file_id": "1-xJ-RK3fKXlrWF79Q-AniqFvDJog7j5D",
     "timestamp": 1697723884553
    }
   ]
  },
  "kernelspec": {
   "display_name": "base",
   "language": "python",
   "name": "python3"
  },
  "language_info": {
   "codemirror_mode": {
    "name": "ipython",
    "version": 3
   },
   "file_extension": ".py",
   "mimetype": "text/x-python",
   "name": "python",
   "nbconvert_exporter": "python",
   "pygments_lexer": "ipython3",
   "version": "3.12.4"
  }
 },
 "nbformat": 4,
 "nbformat_minor": 0
}

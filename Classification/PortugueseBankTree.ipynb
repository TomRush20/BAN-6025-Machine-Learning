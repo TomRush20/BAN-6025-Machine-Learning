{
 "cells": [
  {
   "cell_type": "code",
   "execution_count": 18,
   "metadata": {
    "colab": {
     "base_uri": "https://localhost:8080/",
     "height": 17
    },
    "executionInfo": {
     "elapsed": 3835,
     "status": "ok",
     "timestamp": 1698526311281,
     "user": {
      "displayName": "Tonya Balan",
      "userId": "10033140935938229295"
     },
     "user_tz": 240
    },
    "id": "NH4gND5Jv9ZR",
    "outputId": "e1ee1c56-30b6-4151-90e6-afff010ba9b2"
   },
   "outputs": [
    {
     "name": "stderr",
     "output_type": "stream",
     "text": [
      "ERROR: Could not find a version that satisfies the requirement cv2 (from versions: none)\n",
      "ERROR: No matching distribution found for cv2\n"
     ]
    }
   ],
   "source": [
    "!pip install cv2\n",
    "import numpy as np\n",
    "import matplotlib.pyplot as plt\n",
    "import seaborn as sns\n",
    "import pandas as pd\n",
    "import statsmodels.api as sample_data\n",
    "\n",
    "from sklearn.model_selection import train_test_split\n",
    "from sklearn.tree import DecisionTreeClassifier\n",
    "from sklearn import tree\n",
    "from sklearn.metrics import accuracy_score, precision_score, recall_score\n",
    "from sklearn.metrics import accuracy_score, precision_score, recall_score\n",
    "from sklearn.feature_selection import chi2, SelectKBest\n",
    "from sklearn.metrics import confusion_matrix, roc_curve, roc_auc_score\n",
    "\n",
    "\n"
   ]
  },
  {
   "cell_type": "markdown",
   "metadata": {
    "id": "Ns3onAZnwSXq"
   },
   "source": [
    "# Load Data"
   ]
  },
  {
   "cell_type": "code",
   "execution_count": 19,
   "metadata": {
    "colab": {
     "base_uri": "https://localhost:8080/"
    },
    "executionInfo": {
     "elapsed": 1194,
     "status": "ok",
     "timestamp": 1698526354468,
     "user": {
      "displayName": "Tonya Balan",
      "userId": "10033140935938229295"
     },
     "user_tz": 240
    },
    "id": "NZM5Q02fwR8l",
    "outputId": "872f581d-20da-4346-eea3-bf8308baf1ff"
   },
   "outputs": [
    {
     "name": "stdout",
     "output_type": "stream",
     "text": [
      "<class 'pandas.core.frame.DataFrame'>\n",
      "RangeIndex: 41188 entries, 0 to 41187\n",
      "Data columns (total 21 columns):\n",
      " #   Column     Non-Null Count  Dtype  \n",
      "---  ------     --------------  -----  \n",
      " 0   AGE        41188 non-null  int64  \n",
      " 1   JOB        41188 non-null  object \n",
      " 2   MARITAL    41188 non-null  object \n",
      " 3   EDUCATION  41188 non-null  object \n",
      " 4   DEFAULT    41188 non-null  object \n",
      " 5   HOUSING    41188 non-null  object \n",
      " 6   LOAN       41188 non-null  object \n",
      " 7   CONTACT    41188 non-null  object \n",
      " 8   MONTH      41188 non-null  object \n",
      " 9   DOW        41188 non-null  object \n",
      " 10  DURATION   41188 non-null  int64  \n",
      " 11  CAMPAIGN   41188 non-null  int64  \n",
      " 12  PDAYS      41188 non-null  int64  \n",
      " 13  PREVIOUS   41188 non-null  int64  \n",
      " 14  POUTCOME   41188 non-null  object \n",
      " 15  EMPVAR     41188 non-null  float64\n",
      " 16  CPI        41188 non-null  float64\n",
      " 17  CCI        41188 non-null  float64\n",
      " 18  EURIBOR3M  41188 non-null  float64\n",
      " 19  NREMP      41188 non-null  float64\n",
      " 20  RESPOND    41188 non-null  object \n",
      "dtypes: float64(5), int64(5), object(11)\n",
      "memory usage: 6.6+ MB\n",
      "       AGE      JOB   MARITAL EDUCATION  DEFAULT  HOUSING     LOAN   CONTACT  \\\n",
      "0       17  student    single   unknown       no      yes       no  cellular   \n",
      "1       17  student    single  basic.9y       no      yes       no  cellular   \n",
      "2       17  student    single  basic.9y       no      yes       no  cellular   \n",
      "3       17  student    single  basic.9y       no  unknown  unknown  cellular   \n",
      "4       17  student    single   unknown       no       no      yes  cellular   \n",
      "...    ...      ...       ...       ...      ...      ...      ...       ...   \n",
      "41183   89  retired   married  basic.9y       no       no       no  cellular   \n",
      "41184   89  retired   married   unknown       no      yes       no  cellular   \n",
      "41185   89  retired  divorced   unknown  unknown       no       no  cellular   \n",
      "41186   89  retired   married   unknown       no       no      yes  cellular   \n",
      "41187   89  retired   married   unknown       no       no      yes  cellular   \n",
      "\n",
      "      MONTH  DOW  ...  CAMPAIGN  PDAYS  PREVIOUS  POUTCOME EMPVAR     CPI  \\\n",
      "0       aug  wed  ...         3      4         2   success   -2.9  92.201   \n",
      "1       aug  fri  ...         2    999         2   failure   -2.9  92.201   \n",
      "2       aug  fri  ...         3      4         2   success   -2.9  92.201   \n",
      "3       aug  fri  ...         2    999         1   failure   -2.9  92.201   \n",
      "4       oct  tue  ...         1      2         2   success   -3.4  92.431   \n",
      "...     ...  ...  ...       ...    ...       ...       ...    ...     ...   \n",
      "41183   nov  wed  ...         1    999         1   failure   -3.4  92.649   \n",
      "41184   may  thu  ...         1      6         2   success   -1.8  93.876   \n",
      "41185   may  wed  ...         3    999         1   failure   -1.8  93.876   \n",
      "41186   aug  tue  ...         1      3         1   success   -1.7  94.027   \n",
      "41187   aug  wed  ...         1      3         4   success   -1.7  94.027   \n",
      "\n",
      "        CCI  EURIBOR3M   NREMP  RESPOND  \n",
      "0     -31.4      0.884  5076.2       no  \n",
      "1     -31.4      0.869  5076.2       no  \n",
      "2     -31.4      0.869  5076.2       no  \n",
      "3     -31.4      0.869  5076.2      yes  \n",
      "4     -26.9      0.742  5017.5      yes  \n",
      "...     ...        ...     ...      ...  \n",
      "41183 -30.1      0.716  5017.5       no  \n",
      "41184 -40.0      0.683  5008.7       no  \n",
      "41185 -40.0      0.697  5008.7      yes  \n",
      "41186 -38.3      0.904  4991.6      yes  \n",
      "41187 -38.3      0.903  4991.6      yes  \n",
      "\n",
      "[41188 rows x 21 columns]\n"
     ]
    }
   ],
   "source": [
    "# load the data into a pandas dataframe\n",
    "\n",
    "data_path = r\"C:\\Users\\trush\\OneDrive\\Documents\\WFU Grad School Info\\BAN 6025 Machine Learning\\Data\\portuguesebankall.csv\"\n",
    "df = pd.read_csv(data_path)\n",
    "\n",
    "# preview data\n",
    "df.info()\n",
    "df.head\n",
    "print(df)\n",
    "\n"
   ]
  },
  {
   "cell_type": "markdown",
   "metadata": {
    "id": "BhW759uRylri"
   },
   "source": [
    "# Preprocess Data\n",
    "\n",
    "\n",
    "*   Drop unnecessary variables\n",
    "*   Convert target to numeric\n",
    "\n",
    "\n"
   ]
  },
  {
   "cell_type": "code",
   "execution_count": 20,
   "metadata": {
    "colab": {
     "base_uri": "https://localhost:8080/",
     "height": 226
    },
    "executionInfo": {
     "elapsed": 4,
     "status": "ok",
     "timestamp": 1698526354468,
     "user": {
      "displayName": "Tonya Balan",
      "userId": "10033140935938229295"
     },
     "user_tz": 240
    },
    "id": "r8DXP2CDxRI2",
    "outputId": "dbd6ed0e-d7fa-45d2-cab2-4a95f6268810"
   },
   "outputs": [
    {
     "data": {
      "text/html": [
       "<div>\n",
       "<style scoped>\n",
       "    .dataframe tbody tr th:only-of-type {\n",
       "        vertical-align: middle;\n",
       "    }\n",
       "\n",
       "    .dataframe tbody tr th {\n",
       "        vertical-align: top;\n",
       "    }\n",
       "\n",
       "    .dataframe thead th {\n",
       "        text-align: right;\n",
       "    }\n",
       "</style>\n",
       "<table border=\"1\" class=\"dataframe\">\n",
       "  <thead>\n",
       "    <tr style=\"text-align: right;\">\n",
       "      <th></th>\n",
       "      <th>AGE</th>\n",
       "      <th>JOB</th>\n",
       "      <th>MARITAL</th>\n",
       "      <th>EDUCATION</th>\n",
       "      <th>DEFAULT</th>\n",
       "      <th>HOUSING</th>\n",
       "      <th>LOAN</th>\n",
       "      <th>CONTACT</th>\n",
       "      <th>MONTH</th>\n",
       "      <th>DOW</th>\n",
       "      <th>CAMPAIGN</th>\n",
       "      <th>PDAYS</th>\n",
       "      <th>PREVIOUS</th>\n",
       "      <th>POUTCOME</th>\n",
       "      <th>EMPVAR</th>\n",
       "      <th>CPI</th>\n",
       "      <th>CCI</th>\n",
       "      <th>EURIBOR3M</th>\n",
       "      <th>NREMP</th>\n",
       "      <th>RESPOND</th>\n",
       "    </tr>\n",
       "  </thead>\n",
       "  <tbody>\n",
       "    <tr>\n",
       "      <th>0</th>\n",
       "      <td>17</td>\n",
       "      <td>student</td>\n",
       "      <td>single</td>\n",
       "      <td>unknown</td>\n",
       "      <td>no</td>\n",
       "      <td>yes</td>\n",
       "      <td>no</td>\n",
       "      <td>cellular</td>\n",
       "      <td>aug</td>\n",
       "      <td>wed</td>\n",
       "      <td>3</td>\n",
       "      <td>4</td>\n",
       "      <td>2</td>\n",
       "      <td>success</td>\n",
       "      <td>-2.9</td>\n",
       "      <td>92.201</td>\n",
       "      <td>-31.4</td>\n",
       "      <td>0.884</td>\n",
       "      <td>5076.2</td>\n",
       "      <td>0</td>\n",
       "    </tr>\n",
       "    <tr>\n",
       "      <th>1</th>\n",
       "      <td>17</td>\n",
       "      <td>student</td>\n",
       "      <td>single</td>\n",
       "      <td>basic.9y</td>\n",
       "      <td>no</td>\n",
       "      <td>yes</td>\n",
       "      <td>no</td>\n",
       "      <td>cellular</td>\n",
       "      <td>aug</td>\n",
       "      <td>fri</td>\n",
       "      <td>2</td>\n",
       "      <td>999</td>\n",
       "      <td>2</td>\n",
       "      <td>failure</td>\n",
       "      <td>-2.9</td>\n",
       "      <td>92.201</td>\n",
       "      <td>-31.4</td>\n",
       "      <td>0.869</td>\n",
       "      <td>5076.2</td>\n",
       "      <td>0</td>\n",
       "    </tr>\n",
       "    <tr>\n",
       "      <th>2</th>\n",
       "      <td>17</td>\n",
       "      <td>student</td>\n",
       "      <td>single</td>\n",
       "      <td>basic.9y</td>\n",
       "      <td>no</td>\n",
       "      <td>yes</td>\n",
       "      <td>no</td>\n",
       "      <td>cellular</td>\n",
       "      <td>aug</td>\n",
       "      <td>fri</td>\n",
       "      <td>3</td>\n",
       "      <td>4</td>\n",
       "      <td>2</td>\n",
       "      <td>success</td>\n",
       "      <td>-2.9</td>\n",
       "      <td>92.201</td>\n",
       "      <td>-31.4</td>\n",
       "      <td>0.869</td>\n",
       "      <td>5076.2</td>\n",
       "      <td>0</td>\n",
       "    </tr>\n",
       "    <tr>\n",
       "      <th>3</th>\n",
       "      <td>17</td>\n",
       "      <td>student</td>\n",
       "      <td>single</td>\n",
       "      <td>basic.9y</td>\n",
       "      <td>no</td>\n",
       "      <td>unknown</td>\n",
       "      <td>unknown</td>\n",
       "      <td>cellular</td>\n",
       "      <td>aug</td>\n",
       "      <td>fri</td>\n",
       "      <td>2</td>\n",
       "      <td>999</td>\n",
       "      <td>1</td>\n",
       "      <td>failure</td>\n",
       "      <td>-2.9</td>\n",
       "      <td>92.201</td>\n",
       "      <td>-31.4</td>\n",
       "      <td>0.869</td>\n",
       "      <td>5076.2</td>\n",
       "      <td>1</td>\n",
       "    </tr>\n",
       "    <tr>\n",
       "      <th>4</th>\n",
       "      <td>17</td>\n",
       "      <td>student</td>\n",
       "      <td>single</td>\n",
       "      <td>unknown</td>\n",
       "      <td>no</td>\n",
       "      <td>no</td>\n",
       "      <td>yes</td>\n",
       "      <td>cellular</td>\n",
       "      <td>oct</td>\n",
       "      <td>tue</td>\n",
       "      <td>1</td>\n",
       "      <td>2</td>\n",
       "      <td>2</td>\n",
       "      <td>success</td>\n",
       "      <td>-3.4</td>\n",
       "      <td>92.431</td>\n",
       "      <td>-26.9</td>\n",
       "      <td>0.742</td>\n",
       "      <td>5017.5</td>\n",
       "      <td>1</td>\n",
       "    </tr>\n",
       "  </tbody>\n",
       "</table>\n",
       "</div>"
      ],
      "text/plain": [
       "   AGE      JOB MARITAL EDUCATION DEFAULT  HOUSING     LOAN   CONTACT MONTH  \\\n",
       "0   17  student  single   unknown      no      yes       no  cellular   aug   \n",
       "1   17  student  single  basic.9y      no      yes       no  cellular   aug   \n",
       "2   17  student  single  basic.9y      no      yes       no  cellular   aug   \n",
       "3   17  student  single  basic.9y      no  unknown  unknown  cellular   aug   \n",
       "4   17  student  single   unknown      no       no      yes  cellular   oct   \n",
       "\n",
       "   DOW  CAMPAIGN  PDAYS  PREVIOUS POUTCOME  EMPVAR     CPI   CCI  EURIBOR3M  \\\n",
       "0  wed         3      4         2  success    -2.9  92.201 -31.4      0.884   \n",
       "1  fri         2    999         2  failure    -2.9  92.201 -31.4      0.869   \n",
       "2  fri         3      4         2  success    -2.9  92.201 -31.4      0.869   \n",
       "3  fri         2    999         1  failure    -2.9  92.201 -31.4      0.869   \n",
       "4  tue         1      2         2  success    -3.4  92.431 -26.9      0.742   \n",
       "\n",
       "    NREMP RESPOND  \n",
       "0  5076.2       0  \n",
       "1  5076.2       0  \n",
       "2  5076.2       0  \n",
       "3  5076.2       1  \n",
       "4  5017.5       1  "
      ]
     },
     "execution_count": 20,
     "metadata": {},
     "output_type": "execute_result"
    }
   ],
   "source": [
    "# drop unnecessary columns\n",
    "df.drop(['DURATION'], axis=1, inplace=True)\n",
    "# convert diagnosis variable to numerical (optional)\n",
    "df['RESPOND'] = df['RESPOND'].apply(lambda x: 1 if x == 'yes' else 0)\n",
    "# Convert response from an integer to a categorical variable\n",
    "df['RESPOND'] = df['RESPOND'].astype('category')\n",
    "df.head()\n",
    "\n"
   ]
  },
  {
   "cell_type": "markdown",
   "metadata": {
    "id": "AxAfVwRJyrsa"
   },
   "source": [
    "# Split data into training and test sets\n",
    "\n",
    "Before splitting\n",
    "*   Separate X and y variables into separate data frames\n",
    "*   Create dummy variables\n",
    "\n"
   ]
  },
  {
   "cell_type": "code",
   "execution_count": 21,
   "metadata": {
    "colab": {
     "base_uri": "https://localhost:8080/"
    },
    "executionInfo": {
     "elapsed": 248,
     "status": "ok",
     "timestamp": 1698526354713,
     "user": {
      "displayName": "Tonya Balan",
      "userId": "10033140935938229295"
     },
     "user_tz": 240
    },
    "id": "HTJd7CyMxDrq",
    "outputId": "3c5c8efe-096e-4d6d-d38e-25ce795f36b2"
   },
   "outputs": [
    {
     "name": "stdout",
     "output_type": "stream",
     "text": [
      "<class 'pandas.core.frame.DataFrame'>\n",
      "Index: 28831 entries, 39075 to 15795\n",
      "Data columns (total 52 columns):\n",
      " #   Column                         Non-Null Count  Dtype  \n",
      "---  ------                         --------------  -----  \n",
      " 0   AGE                            28831 non-null  int64  \n",
      " 1   CAMPAIGN                       28831 non-null  int64  \n",
      " 2   PDAYS                          28831 non-null  int64  \n",
      " 3   PREVIOUS                       28831 non-null  int64  \n",
      " 4   EMPVAR                         28831 non-null  float64\n",
      " 5   CPI                            28831 non-null  float64\n",
      " 6   CCI                            28831 non-null  float64\n",
      " 7   EURIBOR3M                      28831 non-null  float64\n",
      " 8   NREMP                          28831 non-null  float64\n",
      " 9   JOB_blue-collar                28831 non-null  bool   \n",
      " 10  JOB_entrepreneur               28831 non-null  bool   \n",
      " 11  JOB_housemaid                  28831 non-null  bool   \n",
      " 12  JOB_management                 28831 non-null  bool   \n",
      " 13  JOB_retired                    28831 non-null  bool   \n",
      " 14  JOB_self-employed              28831 non-null  bool   \n",
      " 15  JOB_services                   28831 non-null  bool   \n",
      " 16  JOB_student                    28831 non-null  bool   \n",
      " 17  JOB_technician                 28831 non-null  bool   \n",
      " 18  JOB_unemployed                 28831 non-null  bool   \n",
      " 19  JOB_unknown                    28831 non-null  bool   \n",
      " 20  MARITAL_married                28831 non-null  bool   \n",
      " 21  MARITAL_single                 28831 non-null  bool   \n",
      " 22  MARITAL_unknown                28831 non-null  bool   \n",
      " 23  EDUCATION_basic.6y             28831 non-null  bool   \n",
      " 24  EDUCATION_basic.9y             28831 non-null  bool   \n",
      " 25  EDUCATION_high.school          28831 non-null  bool   \n",
      " 26  EDUCATION_illiterate           28831 non-null  bool   \n",
      " 27  EDUCATION_professional.course  28831 non-null  bool   \n",
      " 28  EDUCATION_university.degree    28831 non-null  bool   \n",
      " 29  EDUCATION_unknown              28831 non-null  bool   \n",
      " 30  DEFAULT_unknown                28831 non-null  bool   \n",
      " 31  DEFAULT_yes                    28831 non-null  bool   \n",
      " 32  HOUSING_unknown                28831 non-null  bool   \n",
      " 33  HOUSING_yes                    28831 non-null  bool   \n",
      " 34  LOAN_unknown                   28831 non-null  bool   \n",
      " 35  LOAN_yes                       28831 non-null  bool   \n",
      " 36  CONTACT_telephone              28831 non-null  bool   \n",
      " 37  MONTH_aug                      28831 non-null  bool   \n",
      " 38  MONTH_dec                      28831 non-null  bool   \n",
      " 39  MONTH_jul                      28831 non-null  bool   \n",
      " 40  MONTH_jun                      28831 non-null  bool   \n",
      " 41  MONTH_mar                      28831 non-null  bool   \n",
      " 42  MONTH_may                      28831 non-null  bool   \n",
      " 43  MONTH_nov                      28831 non-null  bool   \n",
      " 44  MONTH_oct                      28831 non-null  bool   \n",
      " 45  MONTH_sep                      28831 non-null  bool   \n",
      " 46  DOW_mon                        28831 non-null  bool   \n",
      " 47  DOW_thu                        28831 non-null  bool   \n",
      " 48  DOW_tue                        28831 non-null  bool   \n",
      " 49  DOW_wed                        28831 non-null  bool   \n",
      " 50  POUTCOME_nonexistent           28831 non-null  bool   \n",
      " 51  POUTCOME_success               28831 non-null  bool   \n",
      "dtypes: bool(43), float64(5), int64(4)\n",
      "memory usage: 3.4 MB\n",
      "<class 'pandas.core.series.Series'>\n",
      "Index: 28831 entries, 39075 to 15795\n",
      "Series name: RESPOND\n",
      "Non-Null Count  Dtype   \n",
      "--------------  -----   \n",
      "28831 non-null  category\n",
      "dtypes: category(1)\n",
      "memory usage: 253.5 KB\n"
     ]
    }
   ],
   "source": [
    "# split the data into training and testing sets\n",
    "X = df.drop(['RESPOND'], axis=1)\n",
    "X=df[['AGE', 'JOB','MARITAL','EDUCATION','DEFAULT','HOUSING','LOAN','CONTACT', 'MONTH','DOW','CAMPAIGN','PDAYS','PREVIOUS','POUTCOME','EMPVAR', 'CPI','CCI','EURIBOR3M','NREMP']]\n",
    "X = pd.get_dummies(X, columns=['JOB', 'MARITAL', 'EDUCATION','DEFAULT','HOUSING','LOAN','CONTACT','MONTH','DOW','POUTCOME'], drop_first=True)\n",
    "\n",
    "y = df['RESPOND']\n",
    "X_train, X_test, y_train, y_test = train_test_split(X, y, test_size=0.3, random_state=42)\n",
    "\n",
    "X_train.info()\n",
    "y_train.info()\n",
    "\n",
    "\n"
   ]
  },
  {
   "cell_type": "markdown",
   "metadata": {
    "id": "8kqorhpPy-vK"
   },
   "source": [
    "# Decision Tree  \n",
    "We will use 3 parameters to control the growth of the tree\n",
    "\n",
    "- **max_depth** determines the maximum number of levels for the tree.  Smaller values help to prevent overfitting.  Default value = None\n",
    "\n",
    "- **min_samples_leaf** determines the minimum number of observations that must remain in a leaf.  If a split leaves fewer than this number of observations, the split cannot be performed.  Larger values help to prevent overfitting.  Default value = 1.\n",
    "\n",
    "- **ccp_alpha** is the cost complexity parameter and can be used for post-pruning the tree to help prevent overfitting.  Default value = 0.  Larger values yield a smaller tree."
   ]
  },
  {
   "cell_type": "code",
   "execution_count": 22,
   "metadata": {
    "colab": {
     "base_uri": "https://localhost:8080/",
     "height": 74
    },
    "executionInfo": {
     "elapsed": 6,
     "status": "ok",
     "timestamp": 1698526354713,
     "user": {
      "displayName": "Tonya Balan",
      "userId": "10033140935938229295"
     },
     "user_tz": 240
    },
    "id": "OHvzSEZvy-16",
    "outputId": "98420a22-1842-44c1-da23-6161301ca537"
   },
   "outputs": [
    {
     "data": {
      "text/html": [
       "<style>#sk-container-id-3 {\n",
       "  /* Definition of color scheme common for light and dark mode */\n",
       "  --sklearn-color-text: black;\n",
       "  --sklearn-color-line: gray;\n",
       "  /* Definition of color scheme for unfitted estimators */\n",
       "  --sklearn-color-unfitted-level-0: #fff5e6;\n",
       "  --sklearn-color-unfitted-level-1: #f6e4d2;\n",
       "  --sklearn-color-unfitted-level-2: #ffe0b3;\n",
       "  --sklearn-color-unfitted-level-3: chocolate;\n",
       "  /* Definition of color scheme for fitted estimators */\n",
       "  --sklearn-color-fitted-level-0: #f0f8ff;\n",
       "  --sklearn-color-fitted-level-1: #d4ebff;\n",
       "  --sklearn-color-fitted-level-2: #b3dbfd;\n",
       "  --sklearn-color-fitted-level-3: cornflowerblue;\n",
       "\n",
       "  /* Specific color for light theme */\n",
       "  --sklearn-color-text-on-default-background: var(--sg-text-color, var(--theme-code-foreground, var(--jp-content-font-color1, black)));\n",
       "  --sklearn-color-background: var(--sg-background-color, var(--theme-background, var(--jp-layout-color0, white)));\n",
       "  --sklearn-color-border-box: var(--sg-text-color, var(--theme-code-foreground, var(--jp-content-font-color1, black)));\n",
       "  --sklearn-color-icon: #696969;\n",
       "\n",
       "  @media (prefers-color-scheme: dark) {\n",
       "    /* Redefinition of color scheme for dark theme */\n",
       "    --sklearn-color-text-on-default-background: var(--sg-text-color, var(--theme-code-foreground, var(--jp-content-font-color1, white)));\n",
       "    --sklearn-color-background: var(--sg-background-color, var(--theme-background, var(--jp-layout-color0, #111)));\n",
       "    --sklearn-color-border-box: var(--sg-text-color, var(--theme-code-foreground, var(--jp-content-font-color1, white)));\n",
       "    --sklearn-color-icon: #878787;\n",
       "  }\n",
       "}\n",
       "\n",
       "#sk-container-id-3 {\n",
       "  color: var(--sklearn-color-text);\n",
       "}\n",
       "\n",
       "#sk-container-id-3 pre {\n",
       "  padding: 0;\n",
       "}\n",
       "\n",
       "#sk-container-id-3 input.sk-hidden--visually {\n",
       "  border: 0;\n",
       "  clip: rect(1px 1px 1px 1px);\n",
       "  clip: rect(1px, 1px, 1px, 1px);\n",
       "  height: 1px;\n",
       "  margin: -1px;\n",
       "  overflow: hidden;\n",
       "  padding: 0;\n",
       "  position: absolute;\n",
       "  width: 1px;\n",
       "}\n",
       "\n",
       "#sk-container-id-3 div.sk-dashed-wrapped {\n",
       "  border: 1px dashed var(--sklearn-color-line);\n",
       "  margin: 0 0.4em 0.5em 0.4em;\n",
       "  box-sizing: border-box;\n",
       "  padding-bottom: 0.4em;\n",
       "  background-color: var(--sklearn-color-background);\n",
       "}\n",
       "\n",
       "#sk-container-id-3 div.sk-container {\n",
       "  /* jupyter's `normalize.less` sets `[hidden] { display: none; }`\n",
       "     but bootstrap.min.css set `[hidden] { display: none !important; }`\n",
       "     so we also need the `!important` here to be able to override the\n",
       "     default hidden behavior on the sphinx rendered scikit-learn.org.\n",
       "     See: https://github.com/scikit-learn/scikit-learn/issues/21755 */\n",
       "  display: inline-block !important;\n",
       "  position: relative;\n",
       "}\n",
       "\n",
       "#sk-container-id-3 div.sk-text-repr-fallback {\n",
       "  display: none;\n",
       "}\n",
       "\n",
       "div.sk-parallel-item,\n",
       "div.sk-serial,\n",
       "div.sk-item {\n",
       "  /* draw centered vertical line to link estimators */\n",
       "  background-image: linear-gradient(var(--sklearn-color-text-on-default-background), var(--sklearn-color-text-on-default-background));\n",
       "  background-size: 2px 100%;\n",
       "  background-repeat: no-repeat;\n",
       "  background-position: center center;\n",
       "}\n",
       "\n",
       "/* Parallel-specific style estimator block */\n",
       "\n",
       "#sk-container-id-3 div.sk-parallel-item::after {\n",
       "  content: \"\";\n",
       "  width: 100%;\n",
       "  border-bottom: 2px solid var(--sklearn-color-text-on-default-background);\n",
       "  flex-grow: 1;\n",
       "}\n",
       "\n",
       "#sk-container-id-3 div.sk-parallel {\n",
       "  display: flex;\n",
       "  align-items: stretch;\n",
       "  justify-content: center;\n",
       "  background-color: var(--sklearn-color-background);\n",
       "  position: relative;\n",
       "}\n",
       "\n",
       "#sk-container-id-3 div.sk-parallel-item {\n",
       "  display: flex;\n",
       "  flex-direction: column;\n",
       "}\n",
       "\n",
       "#sk-container-id-3 div.sk-parallel-item:first-child::after {\n",
       "  align-self: flex-end;\n",
       "  width: 50%;\n",
       "}\n",
       "\n",
       "#sk-container-id-3 div.sk-parallel-item:last-child::after {\n",
       "  align-self: flex-start;\n",
       "  width: 50%;\n",
       "}\n",
       "\n",
       "#sk-container-id-3 div.sk-parallel-item:only-child::after {\n",
       "  width: 0;\n",
       "}\n",
       "\n",
       "/* Serial-specific style estimator block */\n",
       "\n",
       "#sk-container-id-3 div.sk-serial {\n",
       "  display: flex;\n",
       "  flex-direction: column;\n",
       "  align-items: center;\n",
       "  background-color: var(--sklearn-color-background);\n",
       "  padding-right: 1em;\n",
       "  padding-left: 1em;\n",
       "}\n",
       "\n",
       "\n",
       "/* Toggleable style: style used for estimator/Pipeline/ColumnTransformer box that is\n",
       "clickable and can be expanded/collapsed.\n",
       "- Pipeline and ColumnTransformer use this feature and define the default style\n",
       "- Estimators will overwrite some part of the style using the `sk-estimator` class\n",
       "*/\n",
       "\n",
       "/* Pipeline and ColumnTransformer style (default) */\n",
       "\n",
       "#sk-container-id-3 div.sk-toggleable {\n",
       "  /* Default theme specific background. It is overwritten whether we have a\n",
       "  specific estimator or a Pipeline/ColumnTransformer */\n",
       "  background-color: var(--sklearn-color-background);\n",
       "}\n",
       "\n",
       "/* Toggleable label */\n",
       "#sk-container-id-3 label.sk-toggleable__label {\n",
       "  cursor: pointer;\n",
       "  display: block;\n",
       "  width: 100%;\n",
       "  margin-bottom: 0;\n",
       "  padding: 0.5em;\n",
       "  box-sizing: border-box;\n",
       "  text-align: center;\n",
       "}\n",
       "\n",
       "#sk-container-id-3 label.sk-toggleable__label-arrow:before {\n",
       "  /* Arrow on the left of the label */\n",
       "  content: \"▸\";\n",
       "  float: left;\n",
       "  margin-right: 0.25em;\n",
       "  color: var(--sklearn-color-icon);\n",
       "}\n",
       "\n",
       "#sk-container-id-3 label.sk-toggleable__label-arrow:hover:before {\n",
       "  color: var(--sklearn-color-text);\n",
       "}\n",
       "\n",
       "/* Toggleable content - dropdown */\n",
       "\n",
       "#sk-container-id-3 div.sk-toggleable__content {\n",
       "  max-height: 0;\n",
       "  max-width: 0;\n",
       "  overflow: hidden;\n",
       "  text-align: left;\n",
       "  /* unfitted */\n",
       "  background-color: var(--sklearn-color-unfitted-level-0);\n",
       "}\n",
       "\n",
       "#sk-container-id-3 div.sk-toggleable__content.fitted {\n",
       "  /* fitted */\n",
       "  background-color: var(--sklearn-color-fitted-level-0);\n",
       "}\n",
       "\n",
       "#sk-container-id-3 div.sk-toggleable__content pre {\n",
       "  margin: 0.2em;\n",
       "  border-radius: 0.25em;\n",
       "  color: var(--sklearn-color-text);\n",
       "  /* unfitted */\n",
       "  background-color: var(--sklearn-color-unfitted-level-0);\n",
       "}\n",
       "\n",
       "#sk-container-id-3 div.sk-toggleable__content.fitted pre {\n",
       "  /* unfitted */\n",
       "  background-color: var(--sklearn-color-fitted-level-0);\n",
       "}\n",
       "\n",
       "#sk-container-id-3 input.sk-toggleable__control:checked~div.sk-toggleable__content {\n",
       "  /* Expand drop-down */\n",
       "  max-height: 200px;\n",
       "  max-width: 100%;\n",
       "  overflow: auto;\n",
       "}\n",
       "\n",
       "#sk-container-id-3 input.sk-toggleable__control:checked~label.sk-toggleable__label-arrow:before {\n",
       "  content: \"▾\";\n",
       "}\n",
       "\n",
       "/* Pipeline/ColumnTransformer-specific style */\n",
       "\n",
       "#sk-container-id-3 div.sk-label input.sk-toggleable__control:checked~label.sk-toggleable__label {\n",
       "  color: var(--sklearn-color-text);\n",
       "  background-color: var(--sklearn-color-unfitted-level-2);\n",
       "}\n",
       "\n",
       "#sk-container-id-3 div.sk-label.fitted input.sk-toggleable__control:checked~label.sk-toggleable__label {\n",
       "  background-color: var(--sklearn-color-fitted-level-2);\n",
       "}\n",
       "\n",
       "/* Estimator-specific style */\n",
       "\n",
       "/* Colorize estimator box */\n",
       "#sk-container-id-3 div.sk-estimator input.sk-toggleable__control:checked~label.sk-toggleable__label {\n",
       "  /* unfitted */\n",
       "  background-color: var(--sklearn-color-unfitted-level-2);\n",
       "}\n",
       "\n",
       "#sk-container-id-3 div.sk-estimator.fitted input.sk-toggleable__control:checked~label.sk-toggleable__label {\n",
       "  /* fitted */\n",
       "  background-color: var(--sklearn-color-fitted-level-2);\n",
       "}\n",
       "\n",
       "#sk-container-id-3 div.sk-label label.sk-toggleable__label,\n",
       "#sk-container-id-3 div.sk-label label {\n",
       "  /* The background is the default theme color */\n",
       "  color: var(--sklearn-color-text-on-default-background);\n",
       "}\n",
       "\n",
       "/* On hover, darken the color of the background */\n",
       "#sk-container-id-3 div.sk-label:hover label.sk-toggleable__label {\n",
       "  color: var(--sklearn-color-text);\n",
       "  background-color: var(--sklearn-color-unfitted-level-2);\n",
       "}\n",
       "\n",
       "/* Label box, darken color on hover, fitted */\n",
       "#sk-container-id-3 div.sk-label.fitted:hover label.sk-toggleable__label.fitted {\n",
       "  color: var(--sklearn-color-text);\n",
       "  background-color: var(--sklearn-color-fitted-level-2);\n",
       "}\n",
       "\n",
       "/* Estimator label */\n",
       "\n",
       "#sk-container-id-3 div.sk-label label {\n",
       "  font-family: monospace;\n",
       "  font-weight: bold;\n",
       "  display: inline-block;\n",
       "  line-height: 1.2em;\n",
       "}\n",
       "\n",
       "#sk-container-id-3 div.sk-label-container {\n",
       "  text-align: center;\n",
       "}\n",
       "\n",
       "/* Estimator-specific */\n",
       "#sk-container-id-3 div.sk-estimator {\n",
       "  font-family: monospace;\n",
       "  border: 1px dotted var(--sklearn-color-border-box);\n",
       "  border-radius: 0.25em;\n",
       "  box-sizing: border-box;\n",
       "  margin-bottom: 0.5em;\n",
       "  /* unfitted */\n",
       "  background-color: var(--sklearn-color-unfitted-level-0);\n",
       "}\n",
       "\n",
       "#sk-container-id-3 div.sk-estimator.fitted {\n",
       "  /* fitted */\n",
       "  background-color: var(--sklearn-color-fitted-level-0);\n",
       "}\n",
       "\n",
       "/* on hover */\n",
       "#sk-container-id-3 div.sk-estimator:hover {\n",
       "  /* unfitted */\n",
       "  background-color: var(--sklearn-color-unfitted-level-2);\n",
       "}\n",
       "\n",
       "#sk-container-id-3 div.sk-estimator.fitted:hover {\n",
       "  /* fitted */\n",
       "  background-color: var(--sklearn-color-fitted-level-2);\n",
       "}\n",
       "\n",
       "/* Specification for estimator info (e.g. \"i\" and \"?\") */\n",
       "\n",
       "/* Common style for \"i\" and \"?\" */\n",
       "\n",
       ".sk-estimator-doc-link,\n",
       "a:link.sk-estimator-doc-link,\n",
       "a:visited.sk-estimator-doc-link {\n",
       "  float: right;\n",
       "  font-size: smaller;\n",
       "  line-height: 1em;\n",
       "  font-family: monospace;\n",
       "  background-color: var(--sklearn-color-background);\n",
       "  border-radius: 1em;\n",
       "  height: 1em;\n",
       "  width: 1em;\n",
       "  text-decoration: none !important;\n",
       "  margin-left: 1ex;\n",
       "  /* unfitted */\n",
       "  border: var(--sklearn-color-unfitted-level-1) 1pt solid;\n",
       "  color: var(--sklearn-color-unfitted-level-1);\n",
       "}\n",
       "\n",
       ".sk-estimator-doc-link.fitted,\n",
       "a:link.sk-estimator-doc-link.fitted,\n",
       "a:visited.sk-estimator-doc-link.fitted {\n",
       "  /* fitted */\n",
       "  border: var(--sklearn-color-fitted-level-1) 1pt solid;\n",
       "  color: var(--sklearn-color-fitted-level-1);\n",
       "}\n",
       "\n",
       "/* On hover */\n",
       "div.sk-estimator:hover .sk-estimator-doc-link:hover,\n",
       ".sk-estimator-doc-link:hover,\n",
       "div.sk-label-container:hover .sk-estimator-doc-link:hover,\n",
       ".sk-estimator-doc-link:hover {\n",
       "  /* unfitted */\n",
       "  background-color: var(--sklearn-color-unfitted-level-3);\n",
       "  color: var(--sklearn-color-background);\n",
       "  text-decoration: none;\n",
       "}\n",
       "\n",
       "div.sk-estimator.fitted:hover .sk-estimator-doc-link.fitted:hover,\n",
       ".sk-estimator-doc-link.fitted:hover,\n",
       "div.sk-label-container:hover .sk-estimator-doc-link.fitted:hover,\n",
       ".sk-estimator-doc-link.fitted:hover {\n",
       "  /* fitted */\n",
       "  background-color: var(--sklearn-color-fitted-level-3);\n",
       "  color: var(--sklearn-color-background);\n",
       "  text-decoration: none;\n",
       "}\n",
       "\n",
       "/* Span, style for the box shown on hovering the info icon */\n",
       ".sk-estimator-doc-link span {\n",
       "  display: none;\n",
       "  z-index: 9999;\n",
       "  position: relative;\n",
       "  font-weight: normal;\n",
       "  right: .2ex;\n",
       "  padding: .5ex;\n",
       "  margin: .5ex;\n",
       "  width: min-content;\n",
       "  min-width: 20ex;\n",
       "  max-width: 50ex;\n",
       "  color: var(--sklearn-color-text);\n",
       "  box-shadow: 2pt 2pt 4pt #999;\n",
       "  /* unfitted */\n",
       "  background: var(--sklearn-color-unfitted-level-0);\n",
       "  border: .5pt solid var(--sklearn-color-unfitted-level-3);\n",
       "}\n",
       "\n",
       ".sk-estimator-doc-link.fitted span {\n",
       "  /* fitted */\n",
       "  background: var(--sklearn-color-fitted-level-0);\n",
       "  border: var(--sklearn-color-fitted-level-3);\n",
       "}\n",
       "\n",
       ".sk-estimator-doc-link:hover span {\n",
       "  display: block;\n",
       "}\n",
       "\n",
       "/* \"?\"-specific style due to the `<a>` HTML tag */\n",
       "\n",
       "#sk-container-id-3 a.estimator_doc_link {\n",
       "  float: right;\n",
       "  font-size: 1rem;\n",
       "  line-height: 1em;\n",
       "  font-family: monospace;\n",
       "  background-color: var(--sklearn-color-background);\n",
       "  border-radius: 1rem;\n",
       "  height: 1rem;\n",
       "  width: 1rem;\n",
       "  text-decoration: none;\n",
       "  /* unfitted */\n",
       "  color: var(--sklearn-color-unfitted-level-1);\n",
       "  border: var(--sklearn-color-unfitted-level-1) 1pt solid;\n",
       "}\n",
       "\n",
       "#sk-container-id-3 a.estimator_doc_link.fitted {\n",
       "  /* fitted */\n",
       "  border: var(--sklearn-color-fitted-level-1) 1pt solid;\n",
       "  color: var(--sklearn-color-fitted-level-1);\n",
       "}\n",
       "\n",
       "/* On hover */\n",
       "#sk-container-id-3 a.estimator_doc_link:hover {\n",
       "  /* unfitted */\n",
       "  background-color: var(--sklearn-color-unfitted-level-3);\n",
       "  color: var(--sklearn-color-background);\n",
       "  text-decoration: none;\n",
       "}\n",
       "\n",
       "#sk-container-id-3 a.estimator_doc_link.fitted:hover {\n",
       "  /* fitted */\n",
       "  background-color: var(--sklearn-color-fitted-level-3);\n",
       "}\n",
       "</style><div id=\"sk-container-id-3\" class=\"sk-top-container\"><div class=\"sk-text-repr-fallback\"><pre>DecisionTreeClassifier(ccp_alpha=0, max_depth=5, min_samples_leaf=10)</pre><b>In a Jupyter environment, please rerun this cell to show the HTML representation or trust the notebook. <br />On GitHub, the HTML representation is unable to render, please try loading this page with nbviewer.org.</b></div><div class=\"sk-container\" hidden><div class=\"sk-item\"><div class=\"sk-estimator fitted sk-toggleable\"><input class=\"sk-toggleable__control sk-hidden--visually\" id=\"sk-estimator-id-3\" type=\"checkbox\" checked><label for=\"sk-estimator-id-3\" class=\"sk-toggleable__label fitted sk-toggleable__label-arrow fitted\">&nbsp;&nbsp;DecisionTreeClassifier<a class=\"sk-estimator-doc-link fitted\" rel=\"noreferrer\" target=\"_blank\" href=\"https://scikit-learn.org/1.4/modules/generated/sklearn.tree.DecisionTreeClassifier.html\">?<span>Documentation for DecisionTreeClassifier</span></a><span class=\"sk-estimator-doc-link fitted\">i<span>Fitted</span></span></label><div class=\"sk-toggleable__content fitted\"><pre>DecisionTreeClassifier(ccp_alpha=0, max_depth=5, min_samples_leaf=10)</pre></div> </div></div></div></div>"
      ],
      "text/plain": [
       "DecisionTreeClassifier(ccp_alpha=0, max_depth=5, min_samples_leaf=10)"
      ]
     },
     "execution_count": 22,
     "metadata": {},
     "output_type": "execute_result"
    }
   ],
   "source": [
    "# create an instance of a decision tree classifier\n",
    "\n",
    "dt = DecisionTreeClassifier(max_depth = 5, min_samples_leaf=10, ccp_alpha = 0)\n",
    "\n",
    "# fit the model to the training data\n",
    "dt.fit(X_train, y_train)\n",
    "\n",
    "# this code can be used to produce a textual representation of the tree if desired\n",
    "#text_rep = tree.export_text(dt)\n",
    "#print(text_rep)\n",
    "\n"
   ]
  },
  {
   "cell_type": "markdown",
   "metadata": {
    "id": "wWNrRoPR16Qm"
   },
   "source": [
    "# Visualize Tree"
   ]
  },
  {
   "cell_type": "markdown",
   "metadata": {
    "id": "MmwwYYExzC2M"
   },
   "source": [
    "# Make Predictions on the training and test data"
   ]
  },
  {
   "cell_type": "code",
   "execution_count": 23,
   "metadata": {
    "executionInfo": {
     "elapsed": 5,
     "status": "ok",
     "timestamp": 1698526357272,
     "user": {
      "displayName": "Tonya Balan",
      "userId": "10033140935938229295"
     },
     "user_tz": 240
    },
    "id": "ZbVVKar5zDNm"
   },
   "outputs": [],
   "source": [
    "# make predictions on the training and test data\n",
    "y_pred_train = dt.predict(X_train)\n",
    "y_pred_test = dt.predict(X_test)\n",
    "\n",
    "y_prob_train = dt.predict_proba(X_train)\n",
    "y_prob_test = dt.predict_proba(X_test)\n",
    "\n"
   ]
  },
  {
   "cell_type": "markdown",
   "metadata": {
    "id": "GKg5u6u5zS1p"
   },
   "source": [
    "## Assess Model on Training and Test data"
   ]
  },
  {
   "cell_type": "code",
   "execution_count": 24,
   "metadata": {
    "colab": {
     "base_uri": "https://localhost:8080/"
    },
    "executionInfo": {
     "elapsed": 4,
     "status": "ok",
     "timestamp": 1698526357272,
     "user": {
      "displayName": "Tonya Balan",
      "userId": "10033140935938229295"
     },
     "user_tz": 240
    },
    "id": "WoP348-zzV_9",
    "outputId": "3388fd2c-3336-40d5-8479-c8ae6e4a07fc"
   },
   "outputs": [
    {
     "name": "stdout",
     "output_type": "stream",
     "text": [
      " -- train set -- \n",
      "Accuracy : 0.9035\n",
      "Precision: 0.6612\n",
      "Recall.  : 0.2757\n",
      "\n",
      " -- test set -- \n",
      "Accuracy : 0.9003\n",
      "Precision: 0.6644\n",
      "Recall.  : 0.2749\n"
     ]
    }
   ],
   "source": [
    "# calculate the accuracy, precision, and recall scores\n",
    "acc_train = accuracy_score(y_train, y_pred_train)\n",
    "prec_train = precision_score(y_train, y_pred_train)\n",
    "rec_train = recall_score(y_train, y_pred_train)\n",
    "\n",
    "# print the scores\n",
    "print(\" -- train set -- \")\n",
    "print(\"Accuracy : {:.4f}\".format(acc_train))\n",
    "print(\"Precision: {:.4f}\".format(prec_train))\n",
    "print(\"Recall.  : {:.4f}\".format(rec_train))\n",
    "print(\"\")\n",
    "\n",
    "# calculate the accuracy, precision, and recall scores\n",
    "acc_test = accuracy_score(y_test, y_pred_test)\n",
    "prec_test = precision_score(y_test, y_pred_test)\n",
    "rec_test = recall_score(y_test, y_pred_test)\n",
    "\n",
    "print(\" -- test set -- \")\n",
    "print(\"Accuracy : {:.4f}\".format(acc_test))\n",
    "print(\"Precision: {:.4f}\".format(prec_test))\n",
    "print(\"Recall.  : {:.4f}\".format(rec_test))"
   ]
  },
  {
   "cell_type": "markdown",
   "metadata": {
    "id": "N5u_sgQqc-Un"
   },
   "source": [
    "#Generate a confusion matrix for the training and test data"
   ]
  },
  {
   "cell_type": "code",
   "execution_count": 25,
   "metadata": {
    "colab": {
     "base_uri": "https://localhost:8080/"
    },
    "executionInfo": {
     "elapsed": 3,
     "status": "ok",
     "timestamp": 1698526357272,
     "user": {
      "displayName": "Tonya Balan",
      "userId": "10033140935938229295"
     },
     "user_tz": 240
    },
    "id": "Q2VZ-bXwd3FP",
    "outputId": "6a92aec5-7b24-4f2f-b8ea-0b223fd7ba28"
   },
   "outputs": [
    {
     "name": "stdout",
     "output_type": "stream",
     "text": [
      "[[25163  2328]\n",
      " [  454   886]]\n",
      "[[10733  1034]\n",
      " [  198   392]]\n"
     ]
    }
   ],
   "source": [
    "# confusion matrix\n",
    "conf_matrix = confusion_matrix(y_pred_train, y_train)\n",
    "print(conf_matrix)\n",
    "\n",
    "# Generate confusion matrix for test set\n",
    "conf_matrix = confusion_matrix(y_pred_test, y_test)\n",
    "print(conf_matrix)"
   ]
  },
  {
   "cell_type": "markdown",
   "metadata": {
    "id": "vEtwuwCkdDEp"
   },
   "source": [
    "#Generate ROC curves for training and test data"
   ]
  },
  {
   "cell_type": "code",
   "execution_count": 26,
   "metadata": {
    "colab": {
     "base_uri": "https://localhost:8080/",
     "height": 472
    },
    "executionInfo": {
     "elapsed": 401,
     "status": "ok",
     "timestamp": 1698526357671,
     "user": {
      "displayName": "Tonya Balan",
      "userId": "10033140935938229295"
     },
     "user_tz": 240
    },
    "id": "UrTbG6dbfl2m",
    "outputId": "07d43c54-729f-4579-c5c0-72c87de49001"
   },
   "outputs": [
    {
     "data": {
      "image/png": "[encoded data removed]",
      "text/plain": [
       "<Figure size 640x480 with 1 Axes>"
      ]
     },
     "metadata": {},
     "output_type": "display_data"
    }
   ],
   "source": [
    "# Generate ROC curve for training data\n",
    "\n",
    "fpr, tpr, thresholds = roc_curve(y_train.cat.codes, y_prob_train[:,1])\n",
    "roc_auc = roc_auc_score(y_train.cat.codes, y_prob_train[:,1])\n",
    "\n",
    "# Plot ROC curve\n",
    "plt.figure()\n",
    "plt.plot(fpr, tpr, color='darkorange', lw=2, label=f'ROC curve (area = {roc_auc:.4f})')\n",
    "plt.plot([0, 1], [0, 1], color='navy', lw=2, linestyle='--')\n",
    "plt.xlim([0.0, 1.0])\n",
    "plt.ylim([0.0, 1.05])\n",
    "plt.xlabel('False Positive Rate')\n",
    "plt.ylabel('True Positive Rate')\n",
    "plt.title('Receiver Operating Characteristic for Training Data')\n",
    "plt.legend(loc='lower right')\n",
    "plt.show()"
   ]
  },
  {
   "cell_type": "code",
   "execution_count": 27,
   "metadata": {
    "colab": {
     "base_uri": "https://localhost:8080/",
     "height": 472
    },
    "executionInfo": {
     "elapsed": 200,
     "status": "ok",
     "timestamp": 1698526357869,
     "user": {
      "displayName": "Tonya Balan",
      "userId": "10033140935938229295"
     },
     "user_tz": 240
    },
    "id": "bgMUNvFshGIW",
    "outputId": "2d3ed367-0ad3-4f6c-c1f1-a9764a19179f"
   },
   "outputs": [
    {
     "data": {
      "image/png": "[encoded data removed]",
      "text/plain": [
       "<Figure size 640x480 with 1 Axes>"
      ]
     },
     "metadata": {},
     "output_type": "display_data"
    }
   ],
   "source": [
    "# Generate ROC curve for test data\n",
    "fpr, tpr, thresholds = roc_curve(y_test.cat.codes, y_prob_test[:,1])\n",
    "roc_auc = roc_auc_score(y_test.cat.codes, y_prob_test[:,1])\n",
    "\n",
    "# Plot ROC curve\n",
    "plt.figure()\n",
    "plt.plot(fpr, tpr, color='darkorange', lw=2, label=f'ROC curve (area = {roc_auc:.4f})')\n",
    "plt.plot([0, 1], [0, 1], color='navy', lw=2, linestyle='--')\n",
    "plt.xlim([0.0, 1.0])\n",
    "plt.ylim([0.0, 1.05])\n",
    "plt.xlabel('False Positive Rate')\n",
    "plt.ylabel('True Positive Rate')\n",
    "plt.title('Receiver Operating Characteristic for Test Data')\n",
    "plt.legend(loc='lower right')\n",
    "plt.show()\n"
   ]
  },
  {
   "cell_type": "markdown",
   "metadata": {
    "id": "qKCO_e2QrOvk"
   },
   "source": [
    "#Print feature importance for the tree"
   ]
  },
  {
   "cell_type": "code",
   "execution_count": 28,
   "metadata": {
    "colab": {
     "base_uri": "https://localhost:8080/",
     "height": 1000
    },
    "executionInfo": {
     "elapsed": 1158,
     "status": "ok",
     "timestamp": 1698526359022,
     "user": {
      "displayName": "Tonya Balan",
      "userId": "10033140935938229295"
     },
     "user_tz": 240
    },
    "id": "gs1j_UqFKjVS",
    "outputId": "306add4a-8d65-4406-8fe7-e6e415345089"
   },
   "outputs": [
    {
     "name": "stdout",
     "output_type": "stream",
     "text": [
      "    importance                        feature\n",
      "8     0.643921                          NREMP\n",
      "51    0.115565               POUTCOME_success\n",
      "7     0.069128                      EURIBOR3M\n",
      "6     0.062914                            CCI\n",
      "44    0.023501                      MONTH_oct\n",
      "36    0.017387              CONTACT_telephone\n",
      "5     0.015983                            CPI\n",
      "2     0.013649                          PDAYS\n",
      "0     0.010637                            AGE\n",
      "3     0.009641                       PREVIOUS\n",
      "46    0.008593                        DOW_mon\n",
      "1     0.005005                       CAMPAIGN\n",
      "20    0.001908                MARITAL_married\n",
      "25    0.001313          EDUCATION_high.school\n",
      "28    0.000855    EDUCATION_university.degree\n",
      "40    0.000000                      MONTH_jun\n",
      "35    0.000000                       LOAN_yes\n",
      "4     0.000000                         EMPVAR\n",
      "37    0.000000                      MONTH_aug\n",
      "38    0.000000                      MONTH_dec\n",
      "39    0.000000                      MONTH_jul\n",
      "9     0.000000                JOB_blue-collar\n",
      "41    0.000000                      MONTH_mar\n",
      "33    0.000000                    HOUSING_yes\n",
      "42    0.000000                      MONTH_may\n",
      "43    0.000000                      MONTH_nov\n",
      "45    0.000000                      MONTH_sep\n",
      "47    0.000000                        DOW_thu\n",
      "48    0.000000                        DOW_tue\n",
      "49    0.000000                        DOW_wed\n",
      "50    0.000000           POUTCOME_nonexistent\n",
      "34    0.000000                   LOAN_unknown\n",
      "30    0.000000                DEFAULT_unknown\n",
      "32    0.000000                HOUSING_unknown\n",
      "18    0.000000                 JOB_unemployed\n",
      "11    0.000000                  JOB_housemaid\n",
      "12    0.000000                 JOB_management\n",
      "13    0.000000                    JOB_retired\n",
      "14    0.000000              JOB_self-employed\n",
      "15    0.000000                   JOB_services\n",
      "16    0.000000                    JOB_student\n",
      "17    0.000000                 JOB_technician\n",
      "19    0.000000                    JOB_unknown\n",
      "31    0.000000                    DEFAULT_yes\n",
      "21    0.000000                 MARITAL_single\n",
      "22    0.000000                MARITAL_unknown\n",
      "23    0.000000             EDUCATION_basic.6y\n",
      "24    0.000000             EDUCATION_basic.9y\n",
      "27    0.000000  EDUCATION_professional.course\n",
      "29    0.000000              EDUCATION_unknown\n",
      "10    0.000000               JOB_entrepreneur\n",
      "26    0.000000           EDUCATION_illiterate\n"
     ]
    },
    {
     "data": {
      "image/png": "[encoded data removed]",
      "text/plain": [
       "<Figure size 500x1000 with 1 Axes>"
      ]
     },
     "metadata": {},
     "output_type": "display_data"
    }
   ],
   "source": [
    "#calculate feature importance\n",
    "tree_imp = dt.feature_importances_\n",
    "\n",
    "#create a data frame with feature names\n",
    "\n",
    "# creating a list of column names\n",
    "column_values = ['importance']\n",
    "\n",
    "# creating the dataframe\n",
    "df = pd.DataFrame(data = tree_imp,\n",
    "                  columns = column_values)\n",
    "df['feature']=X.columns\n",
    "\n",
    "#sort data so features with largest importance values are at the top\n",
    "df2 = df.sort_values(by=['importance'], ascending=False)\n",
    "\n",
    "print(df2)\n",
    "\n",
    "#Create variable importance plot\n",
    "plt.figure(figsize=(5, 10))\n",
    "plt.title('Variable Importance')\n",
    "plt.xlabel('Importance')\n",
    "plt.ylabel('Feature')\n",
    "sns.barplot(data=df2,\n",
    "            y=df2['feature'],\n",
    "            x=df2['importance'], color=\"lightblue\")\n",
    "\n",
    "plt.show()"
   ]
  },
  {
   "cell_type": "code",
   "execution_count": 29,
   "metadata": {},
   "outputs": [],
   "source": [
    "import tensorflow as tf\n",
    "from tensorflow.keras import layers, models"
   ]
  },
  {
   "cell_type": "markdown",
   "metadata": {},
   "source": [
    "Using the feature importances to create a neural network that can classify responses"
   ]
  },
  {
   "cell_type": "code",
   "execution_count": 37,
   "metadata": {},
   "outputs": [
    {
     "name": "stderr",
     "output_type": "stream",
     "text": [
      "C:\\Users\\trush\\AppData\\Local\\Temp\\ipykernel_43372\\1736442626.py:2: SettingWithCopyWarning: \n",
      "A value is trying to be set on a copy of a slice from a DataFrame.\n",
      "Try using .loc[row_indexer,col_indexer] = value instead\n",
      "\n",
      "See the caveats in the documentation: https://pandas.pydata.org/pandas-docs/stable/user_guide/indexing.html#returning-a-view-versus-a-copy\n",
      "  neural_df['RESPOND'] = y\n"
     ]
    },
    {
     "data": {
      "text/plain": [
       "(41188, 13)"
      ]
     },
     "execution_count": 37,
     "metadata": {},
     "output_type": "execute_result"
    }
   ],
   "source": [
    "neural_df = X[['NREMP', 'POUTCOME_success', 'EURIBOR3M', 'CCI', 'MONTH_oct', 'CONTACT_telephone', 'CPI', 'PDAYS', 'AGE', 'PREVIOUS', 'DOW_mon', 'CAMPAIGN']]\n",
    "neural_df['RESPOND'] = y\n",
    "neural_df.shape"
   ]
  },
  {
   "cell_type": "markdown",
   "metadata": {},
   "source": [
    "Create the model"
   ]
  },
  {
   "cell_type": "code",
   "execution_count": 44,
   "metadata": {},
   "outputs": [],
   "source": [
    "model = models.Sequential()"
   ]
  },
  {
   "cell_type": "markdown",
   "metadata": {},
   "source": [
    "Input Layer"
   ]
  },
  {
   "cell_type": "code",
   "execution_count": 45,
   "metadata": {},
   "outputs": [
    {
     "name": "stderr",
     "output_type": "stream",
     "text": [
      "c:\\Users\\trush\\anaconda3\\Lib\\site-packages\\keras\\src\\layers\\core\\input_layer.py:26: UserWarning: Argument `input_shape` is deprecated. Use `shape` instead.\n",
      "  warnings.warn(\n"
     ]
    }
   ],
   "source": [
    "input_shape = (neural_df.shape[1] - 1,)\n",
    "model.add(layers.InputLayer(input_shape=input_shape))"
   ]
  },
  {
   "cell_type": "markdown",
   "metadata": {},
   "source": [
    "Hidden Layers"
   ]
  },
  {
   "cell_type": "code",
   "execution_count": 46,
   "metadata": {},
   "outputs": [],
   "source": [
    "model.add(layers.Dense(32, activation='relu'))\n",
    "model.add(layers.Dense(16, activation='relu'))"
   ]
  },
  {
   "cell_type": "markdown",
   "metadata": {},
   "source": [
    "Output Layer"
   ]
  },
  {
   "cell_type": "code",
   "execution_count": 47,
   "metadata": {},
   "outputs": [],
   "source": [
    "model.add(layers.Dense(1, activation='sigmoid'))"
   ]
  },
  {
   "cell_type": "code",
   "execution_count": 48,
   "metadata": {},
   "outputs": [],
   "source": [
    "model.compile(optimizer='adam', loss='binary_crossentropy', metrics=['accuracy'])"
   ]
  },
  {
   "cell_type": "code",
   "execution_count": 49,
   "metadata": {},
   "outputs": [
    {
     "data": {
      "text/html": [
       "<pre style=\"white-space:pre;overflow-x:auto;line-height:normal;font-family:Menlo,'DejaVu Sans Mono',consolas,'Courier New',monospace\"><span style=\"font-weight: bold\">Model: \"sequential_1\"</span>\n",
       "</pre>\n"
      ],
      "text/plain": [
       "\u001b[1mModel: \"sequential_1\"\u001b[0m\n"
      ]
     },
     "metadata": {},
     "output_type": "display_data"
    },
    {
     "data": {
      "text/html": [
       "<pre style=\"white-space:pre;overflow-x:auto;line-height:normal;font-family:Menlo,'DejaVu Sans Mono',consolas,'Courier New',monospace\">┏━━━━━━━━━━━━━━━━━━━━━━━━━━━━━━━━━┳━━━━━━━━━━━━━━━━━━━━━━━━┳━━━━━━━━━━━━━━━┓\n",
       "┃<span style=\"font-weight: bold\"> Layer (type)                    </span>┃<span style=\"font-weight: bold\"> Output Shape           </span>┃<span style=\"font-weight: bold\">       Param # </span>┃\n",
       "┡━━━━━━━━━━━━━━━━━━━━━━━━━━━━━━━━━╇━━━━━━━━━━━━━━━━━━━━━━━━╇━━━━━━━━━━━━━━━┩\n",
       "│ dense_3 (<span style=\"color: #0087ff; text-decoration-color: #0087ff\">Dense</span>)                 │ (<span style=\"color: #00d7ff; text-decoration-color: #00d7ff\">None</span>, <span style=\"color: #00af00; text-decoration-color: #00af00\">32</span>)             │           <span style=\"color: #00af00; text-decoration-color: #00af00\">416</span> │\n",
       "├─────────────────────────────────┼────────────────────────┼───────────────┤\n",
       "│ dense_4 (<span style=\"color: #0087ff; text-decoration-color: #0087ff\">Dense</span>)                 │ (<span style=\"color: #00d7ff; text-decoration-color: #00d7ff\">None</span>, <span style=\"color: #00af00; text-decoration-color: #00af00\">16</span>)             │           <span style=\"color: #00af00; text-decoration-color: #00af00\">528</span> │\n",
       "├─────────────────────────────────┼────────────────────────┼───────────────┤\n",
       "│ dense_5 (<span style=\"color: #0087ff; text-decoration-color: #0087ff\">Dense</span>)                 │ (<span style=\"color: #00d7ff; text-decoration-color: #00d7ff\">None</span>, <span style=\"color: #00af00; text-decoration-color: #00af00\">1</span>)              │            <span style=\"color: #00af00; text-decoration-color: #00af00\">17</span> │\n",
       "└─────────────────────────────────┴────────────────────────┴───────────────┘\n",
       "</pre>\n"
      ],
      "text/plain": [
       "┏━━━━━━━━━━━━━━━━━━━━━━━━━━━━━━━━━┳━━━━━━━━━━━━━━━━━━━━━━━━┳━━━━━━━━━━━━━━━┓\n",
       "┃\u001b[1m \u001b[0m\u001b[1mLayer (type)                   \u001b[0m\u001b[1m \u001b[0m┃\u001b[1m \u001b[0m\u001b[1mOutput Shape          \u001b[0m\u001b[1m \u001b[0m┃\u001b[1m \u001b[0m\u001b[1m      Param #\u001b[0m\u001b[1m \u001b[0m┃\n",
       "┡━━━━━━━━━━━━━━━━━━━━━━━━━━━━━━━━━╇━━━━━━━━━━━━━━━━━━━━━━━━╇━━━━━━━━━━━━━━━┩\n",
       "│ dense_3 (\u001b[38;5;33mDense\u001b[0m)                 │ (\u001b[38;5;45mNone\u001b[0m, \u001b[38;5;34m32\u001b[0m)             │           \u001b[38;5;34m416\u001b[0m │\n",
       "├─────────────────────────────────┼────────────────────────┼───────────────┤\n",
       "│ dense_4 (\u001b[38;5;33mDense\u001b[0m)                 │ (\u001b[38;5;45mNone\u001b[0m, \u001b[38;5;34m16\u001b[0m)             │           \u001b[38;5;34m528\u001b[0m │\n",
       "├─────────────────────────────────┼────────────────────────┼───────────────┤\n",
       "│ dense_5 (\u001b[38;5;33mDense\u001b[0m)                 │ (\u001b[38;5;45mNone\u001b[0m, \u001b[38;5;34m1\u001b[0m)              │            \u001b[38;5;34m17\u001b[0m │\n",
       "└─────────────────────────────────┴────────────────────────┴───────────────┘\n"
      ]
     },
     "metadata": {},
     "output_type": "display_data"
    },
    {
     "data": {
      "text/html": [
       "<pre style=\"white-space:pre;overflow-x:auto;line-height:normal;font-family:Menlo,'DejaVu Sans Mono',consolas,'Courier New',monospace\"><span style=\"font-weight: bold\"> Total params: </span><span style=\"color: #00af00; text-decoration-color: #00af00\">961</span> (3.75 KB)\n",
       "</pre>\n"
      ],
      "text/plain": [
       "\u001b[1m Total params: \u001b[0m\u001b[38;5;34m961\u001b[0m (3.75 KB)\n"
      ]
     },
     "metadata": {},
     "output_type": "display_data"
    },
    {
     "data": {
      "text/html": [
       "<pre style=\"white-space:pre;overflow-x:auto;line-height:normal;font-family:Menlo,'DejaVu Sans Mono',consolas,'Courier New',monospace\"><span style=\"font-weight: bold\"> Trainable params: </span><span style=\"color: #00af00; text-decoration-color: #00af00\">961</span> (3.75 KB)\n",
       "</pre>\n"
      ],
      "text/plain": [
       "\u001b[1m Trainable params: \u001b[0m\u001b[38;5;34m961\u001b[0m (3.75 KB)\n"
      ]
     },
     "metadata": {},
     "output_type": "display_data"
    },
    {
     "data": {
      "text/html": [
       "<pre style=\"white-space:pre;overflow-x:auto;line-height:normal;font-family:Menlo,'DejaVu Sans Mono',consolas,'Courier New',monospace\"><span style=\"font-weight: bold\"> Non-trainable params: </span><span style=\"color: #00af00; text-decoration-color: #00af00\">0</span> (0.00 B)\n",
       "</pre>\n"
      ],
      "text/plain": [
       "\u001b[1m Non-trainable params: \u001b[0m\u001b[38;5;34m0\u001b[0m (0.00 B)\n"
      ]
     },
     "metadata": {},
     "output_type": "display_data"
    }
   ],
   "source": [
    "model.summary()"
   ]
  },
  {
   "cell_type": "code",
   "execution_count": 51,
   "metadata": {},
   "outputs": [
    {
     "name": "stdout",
     "output_type": "stream",
     "text": [
      "Epoch 1/10\n",
      "\u001b[1m901/901\u001b[0m \u001b[32m━━━━━━━━━━━━━━━━━━━━\u001b[0m\u001b[37m\u001b[0m \u001b[1m3s\u001b[0m 1ms/step - accuracy: 0.8180 - loss: 5.3082\n",
      "Epoch 2/10\n",
      "\u001b[1m901/901\u001b[0m \u001b[32m━━━━━━━━━━━━━━━━━━━━\u001b[0m\u001b[37m\u001b[0m \u001b[1m1s\u001b[0m 1ms/step - accuracy: 0.8267 - loss: 3.8661\n",
      "Epoch 3/10\n",
      "\u001b[1m901/901\u001b[0m \u001b[32m━━━━━━━━━━━━━━━━━━━━\u001b[0m\u001b[37m\u001b[0m \u001b[1m1s\u001b[0m 1ms/step - accuracy: 0.8304 - loss: 2.4214\n",
      "Epoch 4/10\n",
      "\u001b[1m901/901\u001b[0m \u001b[32m━━━━━━━━━━━━━━━━━━━━\u001b[0m\u001b[37m\u001b[0m \u001b[1m1s\u001b[0m 1ms/step - accuracy: 0.8302 - loss: 1.9577\n",
      "Epoch 5/10\n",
      "\u001b[1m901/901\u001b[0m \u001b[32m━━━━━━━━━━━━━━━━━━━━\u001b[0m\u001b[37m\u001b[0m \u001b[1m1s\u001b[0m 1ms/step - accuracy: 0.8307 - loss: 1.9543\n",
      "Epoch 6/10\n",
      "\u001b[1m901/901\u001b[0m \u001b[32m━━━━━━━━━━━━━━━━━━━━\u001b[0m\u001b[37m\u001b[0m \u001b[1m1s\u001b[0m 1ms/step - accuracy: 0.8350 - loss: 2.0126\n",
      "Epoch 7/10\n",
      "\u001b[1m901/901\u001b[0m \u001b[32m━━━━━━━━━━━━━━━━━━━━\u001b[0m\u001b[37m\u001b[0m \u001b[1m1s\u001b[0m 1ms/step - accuracy: 0.8337 - loss: 2.0767\n",
      "Epoch 8/10\n",
      "\u001b[1m901/901\u001b[0m \u001b[32m━━━━━━━━━━━━━━━━━━━━\u001b[0m\u001b[37m\u001b[0m \u001b[1m1s\u001b[0m 1ms/step - accuracy: 0.8395 - loss: 1.4341\n",
      "Epoch 9/10\n",
      "\u001b[1m901/901\u001b[0m \u001b[32m━━━━━━━━━━━━━━━━━━━━\u001b[0m\u001b[37m\u001b[0m \u001b[1m1s\u001b[0m 1ms/step - accuracy: 0.8300 - loss: 2.0751\n",
      "Epoch 10/10\n",
      "\u001b[1m901/901\u001b[0m \u001b[32m━━━━━━━━━━━━━━━━━━━━\u001b[0m\u001b[37m\u001b[0m \u001b[1m1s\u001b[0m 1ms/step - accuracy: 0.8330 - loss: 2.1536\n"
     ]
    },
    {
     "data": {
      "text/plain": [
       "<keras.src.callbacks.history.History at 0x203cb3b7b60>"
      ]
     },
     "execution_count": 51,
     "metadata": {},
     "output_type": "execute_result"
    }
   ],
   "source": [
    "X = neural_df.drop(columns=['RESPOND'])\n",
    "y = neural_df['RESPOND'].astype(float)\n",
    "\n",
    "X_train, X_test, y_train, y_test = train_test_split(X, y, test_size=0.3, random_state=42)\n",
    "\n",
    "model.fit(X_train, y_train, epochs=10, batch_size=32)"
   ]
  },
  {
   "cell_type": "code",
   "execution_count": 54,
   "metadata": {},
   "outputs": [
    {
     "name": "stdout",
     "output_type": "stream",
     "text": [
      "\u001b[1m387/387\u001b[0m \u001b[32m━━━━━━━━━━━━━━━━━━━━\u001b[0m\u001b[37m\u001b[0m \u001b[1m0s\u001b[0m 1ms/step - accuracy: 0.8845 - loss: 0.8566\n"
     ]
    }
   ],
   "source": [
    "metrics = model.evaluate(X_test, y_test)"
   ]
  },
  {
   "cell_type": "code",
   "execution_count": 55,
   "metadata": {},
   "outputs": [
    {
     "name": "stdout",
     "output_type": "stream",
     "text": [
      "Test loss 0.766737163066864\n",
      "Test accuracy 0.8842760920524597\n"
     ]
    }
   ],
   "source": [
    "print(f'Test loss {metrics[0]}')\n",
    "print(f'Test accuracy {metrics[1]}')"
   ]
  },
  {
   "cell_type": "code",
   "execution_count": null,
   "metadata": {},
   "outputs": [],
   "source": []
  }
 ],
 "metadata": {
  "colab": {
   "provenance": [
    {
     "file_id": "1-xJ-RK3fKXlrWF79Q-AniqFvDJog7j5D",
     "timestamp": 1697723884553
    }
   ]
  },
  "kernelspec": {
   "display_name": "base",
   "language": "python",
   "name": "python3"
  },
  "language_info": {
   "codemirror_mode": {
    "name": "ipython",
    "version": 3
   },
   "file_extension": ".py",
   "mimetype": "text/x-python",
   "name": "python",
   "nbconvert_exporter": "python",
   "pygments_lexer": "ipython3",
   "version": "3.12.4"
  }
 },
 "nbformat": 4,
 "nbformat_minor": 0
}

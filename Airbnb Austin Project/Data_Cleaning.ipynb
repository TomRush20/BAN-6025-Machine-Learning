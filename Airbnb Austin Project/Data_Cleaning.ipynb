{
 "cells": [
  {
   "cell_type": "code",
   "execution_count": 13,
   "metadata": {},
   "outputs": [],
   "source": [
    "import pandas as pd\n",
    "import numpy as np"
   ]
  },
  {
   "cell_type": "code",
   "execution_count": 14,
   "metadata": {},
   "outputs": [],
   "source": [
    "def percentage_missing(df):\n",
    "    return df.isna().sum() / len(df) * 100"
   ]
  },
  {
   "cell_type": "code",
   "execution_count": 15,
   "metadata": {},
   "outputs": [
    {
     "data": {
      "text/html": [
       "<div>\n",
       "<style scoped>\n",
       "    .dataframe tbody tr th:only-of-type {\n",
       "        vertical-align: middle;\n",
       "    }\n",
       "\n",
       "    .dataframe tbody tr th {\n",
       "        vertical-align: top;\n",
       "    }\n",
       "\n",
       "    .dataframe thead th {\n",
       "        text-align: right;\n",
       "    }\n",
       "</style>\n",
       "<table border=\"1\" class=\"dataframe\">\n",
       "  <thead>\n",
       "    <tr style=\"text-align: right;\">\n",
       "      <th></th>\n",
       "      <th>id</th>\n",
       "      <th>listing_url</th>\n",
       "      <th>name</th>\n",
       "      <th>summary</th>\n",
       "      <th>space</th>\n",
       "      <th>description</th>\n",
       "      <th>experiences_offered</th>\n",
       "      <th>neighborhood_overview</th>\n",
       "      <th>notes</th>\n",
       "      <th>transit</th>\n",
       "      <th>...</th>\n",
       "      <th>number_of_reviews</th>\n",
       "      <th>review_scores_rating</th>\n",
       "      <th>review_scores_accuracy</th>\n",
       "      <th>review_scores_cleanliness</th>\n",
       "      <th>review_scores_checkin</th>\n",
       "      <th>review_scores_communication</th>\n",
       "      <th>review_scores_location</th>\n",
       "      <th>review_scores_value</th>\n",
       "      <th>instant_bookable</th>\n",
       "      <th>cancellation_policy</th>\n",
       "    </tr>\n",
       "  </thead>\n",
       "  <tbody>\n",
       "    <tr>\n",
       "      <th>0</th>\n",
       "      <td>72635</td>\n",
       "      <td>https://www.airbnb.com/rooms/72635</td>\n",
       "      <td>3 Private Bedrooms, SW Austin</td>\n",
       "      <td>Conveniently located 10-15 from downtown in SW...</td>\n",
       "      <td>We have three spare bedrooms, each with a quee...</td>\n",
       "      <td>Conveniently located 10-15 from downtown in SW...</td>\n",
       "      <td>none</td>\n",
       "      <td>Location and convenience are key.  Easy access...</td>\n",
       "      <td>NaN</td>\n",
       "      <td>Unfortunately there is no convenient public tr...</td>\n",
       "      <td>...</td>\n",
       "      <td>1</td>\n",
       "      <td>100.0</td>\n",
       "      <td>10.0</td>\n",
       "      <td>10.0</td>\n",
       "      <td>10.0</td>\n",
       "      <td>10.0</td>\n",
       "      <td>10.0</td>\n",
       "      <td>10.0</td>\n",
       "      <td>f</td>\n",
       "      <td>moderate</td>\n",
       "    </tr>\n",
       "    <tr>\n",
       "      <th>1</th>\n",
       "      <td>5386323</td>\n",
       "      <td>https://www.airbnb.com/rooms/5386323</td>\n",
       "      <td>Cricket Trailer</td>\n",
       "      <td>Rent this cool concept trailer that has everyt...</td>\n",
       "      <td>Rental arrangements for this trailer allows yo...</td>\n",
       "      <td>Rent this cool concept trailer that has everyt...</td>\n",
       "      <td>none</td>\n",
       "      <td>We're talking about wherever you'd like in the...</td>\n",
       "      <td>NaN</td>\n",
       "      <td>Bike, Bus, Metrorail, etc. you name it we've g...</td>\n",
       "      <td>...</td>\n",
       "      <td>0</td>\n",
       "      <td>NaN</td>\n",
       "      <td>NaN</td>\n",
       "      <td>NaN</td>\n",
       "      <td>NaN</td>\n",
       "      <td>NaN</td>\n",
       "      <td>NaN</td>\n",
       "      <td>NaN</td>\n",
       "      <td>f</td>\n",
       "      <td>moderate</td>\n",
       "    </tr>\n",
       "    <tr>\n",
       "      <th>2</th>\n",
       "      <td>8826517</td>\n",
       "      <td>https://www.airbnb.com/rooms/8826517</td>\n",
       "      <td>Private room 1 in South Austin</td>\n",
       "      <td>Upstairs, private, 12ft x 13 1/2ft room.  Priv...</td>\n",
       "      <td>NaN</td>\n",
       "      <td>Upstairs, private, 12ft x 13 1/2ft room.  Priv...</td>\n",
       "      <td>none</td>\n",
       "      <td>NaN</td>\n",
       "      <td>NaN</td>\n",
       "      <td>NaN</td>\n",
       "      <td>...</td>\n",
       "      <td>0</td>\n",
       "      <td>NaN</td>\n",
       "      <td>NaN</td>\n",
       "      <td>NaN</td>\n",
       "      <td>NaN</td>\n",
       "      <td>NaN</td>\n",
       "      <td>NaN</td>\n",
       "      <td>NaN</td>\n",
       "      <td>f</td>\n",
       "      <td>flexible</td>\n",
       "    </tr>\n",
       "    <tr>\n",
       "      <th>3</th>\n",
       "      <td>8828616</td>\n",
       "      <td>https://www.airbnb.com/rooms/8828616</td>\n",
       "      <td>Private room 2 in South Austin</td>\n",
       "      <td>Upstairs, private, 11ft x 13 1/2ft room.  Priv...</td>\n",
       "      <td>NaN</td>\n",
       "      <td>Upstairs, private, 11ft x 13 1/2ft room.  Priv...</td>\n",
       "      <td>none</td>\n",
       "      <td>NaN</td>\n",
       "      <td>NaN</td>\n",
       "      <td>NaN</td>\n",
       "      <td>...</td>\n",
       "      <td>0</td>\n",
       "      <td>NaN</td>\n",
       "      <td>NaN</td>\n",
       "      <td>NaN</td>\n",
       "      <td>NaN</td>\n",
       "      <td>NaN</td>\n",
       "      <td>NaN</td>\n",
       "      <td>NaN</td>\n",
       "      <td>f</td>\n",
       "      <td>flexible</td>\n",
       "    </tr>\n",
       "    <tr>\n",
       "      <th>4</th>\n",
       "      <td>8536913</td>\n",
       "      <td>https://www.airbnb.com/rooms/8536913</td>\n",
       "      <td>Brand-New 3BR Austin Home</td>\n",
       "      <td>Brand-new 3BR/2BA Austin home with landscaped ...</td>\n",
       "      <td>Feel instantly at home at our brand new 3BR/2B...</td>\n",
       "      <td>Brand-new 3BR/2BA Austin home with landscaped ...</td>\n",
       "      <td>none</td>\n",
       "      <td>Entertainment and activities are plentiful her...</td>\n",
       "      <td>NaN</td>\n",
       "      <td>NaN</td>\n",
       "      <td>...</td>\n",
       "      <td>0</td>\n",
       "      <td>NaN</td>\n",
       "      <td>NaN</td>\n",
       "      <td>NaN</td>\n",
       "      <td>NaN</td>\n",
       "      <td>NaN</td>\n",
       "      <td>NaN</td>\n",
       "      <td>NaN</td>\n",
       "      <td>f</td>\n",
       "      <td>strict</td>\n",
       "    </tr>\n",
       "  </tbody>\n",
       "</table>\n",
       "<p>5 rows × 54 columns</p>\n",
       "</div>"
      ],
      "text/plain": [
       "        id                           listing_url  \\\n",
       "0    72635    https://www.airbnb.com/rooms/72635   \n",
       "1  5386323  https://www.airbnb.com/rooms/5386323   \n",
       "2  8826517  https://www.airbnb.com/rooms/8826517   \n",
       "3  8828616  https://www.airbnb.com/rooms/8828616   \n",
       "4  8536913  https://www.airbnb.com/rooms/8536913   \n",
       "\n",
       "                             name  \\\n",
       "0   3 Private Bedrooms, SW Austin   \n",
       "1                 Cricket Trailer   \n",
       "2  Private room 1 in South Austin   \n",
       "3  Private room 2 in South Austin   \n",
       "4       Brand-New 3BR Austin Home   \n",
       "\n",
       "                                             summary  \\\n",
       "0  Conveniently located 10-15 from downtown in SW...   \n",
       "1  Rent this cool concept trailer that has everyt...   \n",
       "2  Upstairs, private, 12ft x 13 1/2ft room.  Priv...   \n",
       "3  Upstairs, private, 11ft x 13 1/2ft room.  Priv...   \n",
       "4  Brand-new 3BR/2BA Austin home with landscaped ...   \n",
       "\n",
       "                                               space  \\\n",
       "0  We have three spare bedrooms, each with a quee...   \n",
       "1  Rental arrangements for this trailer allows yo...   \n",
       "2                                                NaN   \n",
       "3                                                NaN   \n",
       "4  Feel instantly at home at our brand new 3BR/2B...   \n",
       "\n",
       "                                         description experiences_offered  \\\n",
       "0  Conveniently located 10-15 from downtown in SW...                none   \n",
       "1  Rent this cool concept trailer that has everyt...                none   \n",
       "2  Upstairs, private, 12ft x 13 1/2ft room.  Priv...                none   \n",
       "3  Upstairs, private, 11ft x 13 1/2ft room.  Priv...                none   \n",
       "4  Brand-new 3BR/2BA Austin home with landscaped ...                none   \n",
       "\n",
       "                               neighborhood_overview notes  \\\n",
       "0  Location and convenience are key.  Easy access...   NaN   \n",
       "1  We're talking about wherever you'd like in the...   NaN   \n",
       "2                                                NaN   NaN   \n",
       "3                                                NaN   NaN   \n",
       "4  Entertainment and activities are plentiful her...   NaN   \n",
       "\n",
       "                                             transit  ...  number_of_reviews  \\\n",
       "0  Unfortunately there is no convenient public tr...  ...                  1   \n",
       "1  Bike, Bus, Metrorail, etc. you name it we've g...  ...                  0   \n",
       "2                                                NaN  ...                  0   \n",
       "3                                                NaN  ...                  0   \n",
       "4                                                NaN  ...                  0   \n",
       "\n",
       "  review_scores_rating review_scores_accuracy review_scores_cleanliness  \\\n",
       "0                100.0                   10.0                      10.0   \n",
       "1                  NaN                    NaN                       NaN   \n",
       "2                  NaN                    NaN                       NaN   \n",
       "3                  NaN                    NaN                       NaN   \n",
       "4                  NaN                    NaN                       NaN   \n",
       "\n",
       "  review_scores_checkin review_scores_communication review_scores_location  \\\n",
       "0                  10.0                        10.0                   10.0   \n",
       "1                   NaN                         NaN                    NaN   \n",
       "2                   NaN                         NaN                    NaN   \n",
       "3                   NaN                         NaN                    NaN   \n",
       "4                   NaN                         NaN                    NaN   \n",
       "\n",
       "  review_scores_value  instant_bookable cancellation_policy  \n",
       "0                10.0                 f            moderate  \n",
       "1                 NaN                 f            moderate  \n",
       "2                 NaN                 f            flexible  \n",
       "3                 NaN                 f            flexible  \n",
       "4                 NaN                 f              strict  \n",
       "\n",
       "[5 rows x 54 columns]"
      ]
     },
     "execution_count": 15,
     "metadata": {},
     "output_type": "execute_result"
    }
   ],
   "source": [
    "austin_df = pd.read_csv(r\"C:\\Users\\trush\\OneDrive\\Documents\\WFU Grad School Info\\BAN 6025 Machine Learning\\Data\\airbnb_listings_austin.csv\")\n",
    "austin_df.head()"
   ]
  },
  {
   "cell_type": "code",
   "execution_count": 16,
   "metadata": {},
   "outputs": [
    {
     "data": {
      "text/plain": [
       "id                               int64\n",
       "listing_url                     object\n",
       "name                            object\n",
       "summary                         object\n",
       "space                           object\n",
       "description                     object\n",
       "experiences_offered             object\n",
       "neighborhood_overview           object\n",
       "notes                           object\n",
       "transit                         object\n",
       "host_id                          int64\n",
       "host_name                       object\n",
       "host_since                      object\n",
       "host_location                   object\n",
       "host_about                      object\n",
       "host_response_time              object\n",
       "host_response_rate              object\n",
       "host_is_superhost               object\n",
       "host_listings_count            float64\n",
       "host_has_profile_pic            object\n",
       "host_identity_verified          object\n",
       "neighbourhood                   object\n",
       "city                            object\n",
       "property_type                   object\n",
       "room_type                       object\n",
       "accommodates                     int64\n",
       "bathrooms                      float64\n",
       "bedrooms                       float64\n",
       "beds                           float64\n",
       "bed_type                        object\n",
       "amenities                       object\n",
       "square_feet                    float64\n",
       "price                           object\n",
       "weekly_price                    object\n",
       "security_deposit                object\n",
       "cleaning_fee                    object\n",
       "guests_included                  int64\n",
       "extra_people                    object\n",
       "minimum_nights                   int64\n",
       "has_availability                object\n",
       "availability_30                  int64\n",
       "availability_60                  int64\n",
       "availability_90                  int64\n",
       "availability_365                 int64\n",
       "number_of_reviews                int64\n",
       "review_scores_rating           float64\n",
       "review_scores_accuracy         float64\n",
       "review_scores_cleanliness      float64\n",
       "review_scores_checkin          float64\n",
       "review_scores_communication    float64\n",
       "review_scores_location         float64\n",
       "review_scores_value            float64\n",
       "instant_bookable                object\n",
       "cancellation_policy             object\n",
       "dtype: object"
      ]
     },
     "execution_count": 16,
     "metadata": {},
     "output_type": "execute_result"
    }
   ],
   "source": [
    "austin_df.dtypes"
   ]
  },
  {
   "cell_type": "code",
   "execution_count": 17,
   "metadata": {},
   "outputs": [],
   "source": [
    "missing_list = percentage_missing(austin_df)"
   ]
  },
  {
   "cell_type": "markdown",
   "metadata": {},
   "source": [
    "I am going to drop any columns that have more than 20% missing values."
   ]
  },
  {
   "cell_type": "code",
   "execution_count": 18,
   "metadata": {},
   "outputs": [
    {
     "name": "stderr",
     "output_type": "stream",
     "text": [
      "C:\\Users\\trush\\AppData\\Local\\Temp\\ipykernel_11340\\3124817765.py:2: FutureWarning: Series.__getitem__ treating keys as positions is deprecated. In a future version, integer keys will always be treated as labels (consistent with DataFrame behavior). To access a value by position, use `ser.iloc[pos]`\n",
      "  drop_columns = [missing_list.keys()[index] for index in range(len(missing_list)) if missing_list[index] > 20]\n"
     ]
    }
   ],
   "source": [
    "#print(missing_list.keys()[0])\n",
    "drop_columns = [missing_list.keys()[index] for index in range(len(missing_list)) if missing_list[index] > 20]\n",
    "austin_df = austin_df.drop(columns=drop_columns)"
   ]
  },
  {
   "cell_type": "code",
   "execution_count": 19,
   "metadata": {},
   "outputs": [
    {
     "data": {
      "text/plain": [
       "id                         0.000000\n",
       "listing_url                0.000000\n",
       "name                       0.000000\n",
       "summary                    7.917738\n",
       "description                0.051414\n",
       "experiences_offered        0.000000\n",
       "host_id                    0.000000\n",
       "host_name                  0.257069\n",
       "host_since                 0.257069\n",
       "host_location              0.428449\n",
       "host_is_superhost          0.257069\n",
       "host_listings_count        0.257069\n",
       "host_has_profile_pic       0.257069\n",
       "host_identity_verified     0.257069\n",
       "neighbourhood             17.737789\n",
       "city                       0.000000\n",
       "property_type              0.000000\n",
       "room_type                  0.000000\n",
       "accommodates               0.000000\n",
       "bathrooms                  0.788346\n",
       "bedrooms                   0.102828\n",
       "beds                       0.394173\n",
       "bed_type                   0.000000\n",
       "amenities                  0.000000\n",
       "price                      0.000000\n",
       "guests_included            0.000000\n",
       "extra_people               0.000000\n",
       "minimum_nights             0.000000\n",
       "has_availability           0.000000\n",
       "availability_30            0.000000\n",
       "availability_60            0.000000\n",
       "availability_90            0.000000\n",
       "availability_365           0.000000\n",
       "number_of_reviews          0.000000\n",
       "instant_bookable           0.000000\n",
       "cancellation_policy        0.000000\n",
       "dtype: float64"
      ]
     },
     "execution_count": 19,
     "metadata": {},
     "output_type": "execute_result"
    }
   ],
   "source": [
    "percentage_missing(austin_df)"
   ]
  },
  {
   "cell_type": "markdown",
   "metadata": {},
   "source": [
    "Dropping Unnecessary Columns"
   ]
  },
  {
   "cell_type": "code",
   "execution_count": 20,
   "metadata": {},
   "outputs": [],
   "source": [
    "austin_df = austin_df.drop(columns=['id', 'host_id', 'listing_url', 'name', 'summary', 'description', 'host_name', 'city',\n",
    "                                    'host_location', 'neighbourhood'])"
   ]
  },
  {
   "cell_type": "markdown",
   "metadata": {},
   "source": [
    "Drop experiences_offered since it only has none."
   ]
  },
  {
   "cell_type": "code",
   "execution_count": 21,
   "metadata": {},
   "outputs": [],
   "source": [
    "austin_df['experiences_offered'].unique()\n",
    "austin_df = austin_df.drop(columns=['experiences_offered'])"
   ]
  },
  {
   "cell_type": "code",
   "execution_count": 22,
   "metadata": {},
   "outputs": [
    {
     "data": {
      "text/plain": [
       "0       2011.0\n",
       "1       2015.0\n",
       "2       2015.0\n",
       "3       2015.0\n",
       "4       2015.0\n",
       "         ...  \n",
       "5830    2013.0\n",
       "5831    2015.0\n",
       "5832    2014.0\n",
       "5833    2015.0\n",
       "5834    2014.0\n",
       "Name: host_since, Length: 5835, dtype: float64"
      ]
     },
     "execution_count": 22,
     "metadata": {},
     "output_type": "execute_result"
    }
   ],
   "source": [
    "austin_df['host_since'] = pd.to_datetime(austin_df['host_since'], format='%m/%d/%Y')\n",
    "austin_df['host_since'] = austin_df['host_since'].dt.year\n",
    "austin_df['host_since']"
   ]
  },
  {
   "cell_type": "code",
   "execution_count": 23,
   "metadata": {},
   "outputs": [
    {
     "data": {
      "text/plain": [
       "array([2011., 2015., 2014., 2012., 2013., 2009., 2010., 2008.])"
      ]
     },
     "execution_count": 23,
     "metadata": {},
     "output_type": "execute_result"
    }
   ],
   "source": [
    "austin_df = austin_df[austin_df['host_since'].notna()]\n",
    "austin_df['host_since'].unique()"
   ]
  },
  {
   "cell_type": "code",
   "execution_count": 24,
   "metadata": {},
   "outputs": [],
   "source": [
    "austin_df = austin_df[austin_df['bathrooms'].notna()]\n",
    "austin_df = austin_df[austin_df['bedrooms'].notna()]\n",
    "austin_df = austin_df[austin_df['beds'].notna()]\n",
    "#austin_df = austin_df[austin_df['neighbourhood'].notna()]"
   ]
  },
  {
   "cell_type": "code",
   "execution_count": 25,
   "metadata": {},
   "outputs": [
    {
     "data": {
      "text/plain": [
       "host_since                0.0\n",
       "host_is_superhost         0.0\n",
       "host_listings_count       0.0\n",
       "host_has_profile_pic      0.0\n",
       "host_identity_verified    0.0\n",
       "property_type             0.0\n",
       "room_type                 0.0\n",
       "accommodates              0.0\n",
       "bathrooms                 0.0\n",
       "bedrooms                  0.0\n",
       "beds                      0.0\n",
       "bed_type                  0.0\n",
       "amenities                 0.0\n",
       "price                     0.0\n",
       "guests_included           0.0\n",
       "extra_people              0.0\n",
       "minimum_nights            0.0\n",
       "has_availability          0.0\n",
       "availability_30           0.0\n",
       "availability_60           0.0\n",
       "availability_90           0.0\n",
       "availability_365          0.0\n",
       "number_of_reviews         0.0\n",
       "instant_bookable          0.0\n",
       "cancellation_policy       0.0\n",
       "dtype: float64"
      ]
     },
     "execution_count": 25,
     "metadata": {},
     "output_type": "execute_result"
    }
   ],
   "source": [
    "percentage_missing(austin_df)"
   ]
  },
  {
   "cell_type": "code",
   "execution_count": 26,
   "metadata": {},
   "outputs": [],
   "source": [
    "austin_df['price'] = austin_df['price'].str.strip('$')\n",
    "austin_df['price'] = austin_df['price'].str.replace(',', '')\n",
    "austin_df['price'] = austin_df['price'].astype(float)"
   ]
  },
  {
   "cell_type": "code",
   "execution_count": 27,
   "metadata": {},
   "outputs": [],
   "source": [
    "austin_df['extra_people'] = austin_df['extra_people'].str.strip('$')\n",
    "austin_df['extra_people'] = austin_df['extra_people'].astype(float)"
   ]
  },
  {
   "cell_type": "code",
   "execution_count": 28,
   "metadata": {},
   "outputs": [],
   "source": [
    "#host_is_superhost, host_identity_verified, host_has_profile_pic, has_availability, instant_bookable\n",
    "austin_df['host_is_superhost'] = austin_df['host_is_superhost'].apply(lambda x: 1 if x == 't' else 0)\n",
    "austin_df['host_identity_verified'] = austin_df['host_identity_verified'].apply(lambda x: 1 if x == 't' else 0)\n",
    "austin_df['host_has_profile_pic'] = austin_df['host_has_profile_pic'].apply(lambda x: 1 if x == 't' else 0)\n",
    "austin_df['has_availability'] = austin_df['has_availability'].apply(lambda x: 1 if x == 't' else 0)\n",
    "austin_df['instant_bookable'] = austin_df['instant_bookable'].apply(lambda x: 1 if x == 't' else 0)"
   ]
  },
  {
   "cell_type": "code",
   "execution_count": 29,
   "metadata": {},
   "outputs": [],
   "source": [
    "austin_df['amenities'] = austin_df['amenities'].str.split(',')"
   ]
  },
  {
   "cell_type": "code",
   "execution_count": 30,
   "metadata": {},
   "outputs": [],
   "source": [
    "austin_df['amenities'] = austin_df['amenities'].apply(lambda x: len(x))"
   ]
  },
  {
   "cell_type": "code",
   "execution_count": 31,
   "metadata": {},
   "outputs": [
    {
     "data": {
      "text/plain": [
       "host_since                float64\n",
       "host_is_superhost           int64\n",
       "host_listings_count       float64\n",
       "host_has_profile_pic        int64\n",
       "host_identity_verified      int64\n",
       "property_type              object\n",
       "room_type                  object\n",
       "accommodates                int64\n",
       "bathrooms                 float64\n",
       "bedrooms                  float64\n",
       "beds                      float64\n",
       "bed_type                   object\n",
       "amenities                   int64\n",
       "price                     float64\n",
       "guests_included             int64\n",
       "extra_people              float64\n",
       "minimum_nights              int64\n",
       "has_availability            int64\n",
       "availability_30             int64\n",
       "availability_60             int64\n",
       "availability_90             int64\n",
       "availability_365            int64\n",
       "number_of_reviews           int64\n",
       "instant_bookable            int64\n",
       "cancellation_policy        object\n",
       "dtype: object"
      ]
     },
     "execution_count": 31,
     "metadata": {},
     "output_type": "execute_result"
    }
   ],
   "source": [
    "austin_df.dtypes"
   ]
  },
  {
   "cell_type": "code",
   "execution_count": 32,
   "metadata": {},
   "outputs": [],
   "source": [
    "austin_df.to_csv('airbnb_final.csv', index=False)"
   ]
  },
  {
   "cell_type": "code",
   "execution_count": null,
   "metadata": {},
   "outputs": [],
   "source": [
    "austin_df_cleaned = austin_df\n",
    "\n",
    "#austin_df_cleaned.to_csv('airbnb_cleaned.csv', index=False)"
   ]
  },
  {
   "cell_type": "code",
   "execution_count": null,
   "metadata": {},
   "outputs": [],
   "source": []
  }
 ],
 "metadata": {
  "kernelspec": {
   "display_name": "base",
   "language": "python",
   "name": "python3"
  },
  "language_info": {
   "codemirror_mode": {
    "name": "ipython",
    "version": 3
   },
   "file_extension": ".py",
   "mimetype": "text/x-python",
   "name": "python",
   "nbconvert_exporter": "python",
   "pygments_lexer": "ipython3",
   "version": "3.12.4"
  }
 },
 "nbformat": 4,
 "nbformat_minor": 2
}

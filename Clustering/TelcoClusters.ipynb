{
 "cells": [
  {
   "cell_type": "code",
   "execution_count": 8,
   "metadata": {
    "colab": {
     "base_uri": "https://localhost:8080/",
     "height": 17
    },
    "executionInfo": {
     "elapsed": 171,
     "status": "ok",
     "timestamp": 1701037649027,
     "user": {
      "displayName": "Tonya Balan",
      "userId": "10033140935938229295"
     },
     "user_tz": 300
    },
    "id": "NH4gND5Jv9ZR",
    "outputId": "84d684a2-06ac-4773-8eb2-640612a4cf8e"
   },
   "outputs": [],
   "source": [
    "import numpy as np\n",
    "import matplotlib.pyplot as plt\n",
    "import seaborn as sns\n",
    "import pandas as pd\n",
    "import statsmodels.api as sample_data\n",
    "from yellowbrick.cluster import KElbowVisualizer\n",
    "from sklearn.cluster import KMeans\n",
    "from sklearn.preprocessing import StandardScaler\n",
    "\n",
    "\n",
    "\n"
   ]
  },
  {
   "cell_type": "markdown",
   "metadata": {
    "id": "Ns3onAZnwSXq"
   },
   "source": [
    "# Load Data and check for missing values"
   ]
  },
  {
   "cell_type": "code",
   "execution_count": 9,
   "metadata": {
    "colab": {
     "base_uri": "https://localhost:8080/"
    },
    "executionInfo": {
     "elapsed": 7,
     "status": "ok",
     "timestamp": 1701037650104,
     "user": {
      "displayName": "Tonya Balan",
      "userId": "10033140935938229295"
     },
     "user_tz": 300
    },
    "id": "NZM5Q02fwR8l",
    "outputId": "6fd1383d-31e4-4037-b489-7ddd70e54c0b"
   },
   "outputs": [
    {
     "name": "stdout",
     "output_type": "stream",
     "text": [
      "<class 'pandas.core.frame.DataFrame'>\n",
      "RangeIndex: 3333 entries, 0 to 3332\n",
      "Data columns (total 21 columns):\n",
      " #   Column          Non-Null Count  Dtype  \n",
      "---  ------          --------------  -----  \n",
      " 0   State           3333 non-null   object \n",
      " 1   Account Length  3333 non-null   int64  \n",
      " 2   Area Code       3333 non-null   int64  \n",
      " 3   Phone           3333 non-null   object \n",
      " 4   Int'l Plan      3333 non-null   object \n",
      " 5   VMail Plan      3333 non-null   object \n",
      " 6   VMail Message   3333 non-null   int64  \n",
      " 7   Day Mins        3333 non-null   float64\n",
      " 8   Day Calls       3333 non-null   int64  \n",
      " 9   Day Charge      3333 non-null   float64\n",
      " 10  Eve Mins        3333 non-null   float64\n",
      " 11  Eve Calls       3333 non-null   int64  \n",
      " 12  Eve Charge      3333 non-null   float64\n",
      " 13  Night Mins      3333 non-null   float64\n",
      " 14  Night Calls     3333 non-null   int64  \n",
      " 15  Night Charge    3333 non-null   float64\n",
      " 16  Intl Mins       3333 non-null   float64\n",
      " 17  Intl Calls      3333 non-null   int64  \n",
      " 18  Intl Charge     3333 non-null   float64\n",
      " 19  CustServ Calls  3333 non-null   int64  \n",
      " 20  Churn?          3333 non-null   int64  \n",
      "dtypes: float64(8), int64(9), object(4)\n",
      "memory usage: 546.9+ KB\n",
      "     State  Account Length  Area Code     Phone Int'l Plan VMail Plan  \\\n",
      "0       KS             128        415  382-4657         no        yes   \n",
      "1       OH             107        415  371-7191         no        yes   \n",
      "2       NJ             137        415  358-1921         no         no   \n",
      "3       OH              84        408  375-9999        yes         no   \n",
      "4       OK              75        415  330-6626        yes         no   \n",
      "...    ...             ...        ...       ...        ...        ...   \n",
      "3328    AZ             192        415  414-4276         no        yes   \n",
      "3329    WV              68        415  370-3271         no         no   \n",
      "3330    RI              28        510  328-8230         no         no   \n",
      "3331    CT             184        510  364-6381        yes         no   \n",
      "3332    TN              74        415  400-4344         no        yes   \n",
      "\n",
      "      VMail Message  Day Mins  Day Calls  Day Charge  ...  Eve Calls  \\\n",
      "0                25     265.1        110       45.07  ...         99   \n",
      "1                26     161.6        123       27.47  ...        103   \n",
      "2                 0     243.4        114       41.38  ...        110   \n",
      "3                 0     299.4         71       50.90  ...         88   \n",
      "4                 0     166.7        113       28.34  ...        122   \n",
      "...             ...       ...        ...         ...  ...        ...   \n",
      "3328             36     156.2         77       26.55  ...        126   \n",
      "3329              0     231.1         57       39.29  ...         55   \n",
      "3330              0     180.8        109       30.74  ...         58   \n",
      "3331              0     213.8        105       36.35  ...         84   \n",
      "3332             25     234.4        113       39.85  ...         82   \n",
      "\n",
      "      Eve Charge  Night Mins  Night Calls  Night Charge  Intl Mins  \\\n",
      "0          16.78       244.7           91         11.01       10.0   \n",
      "1          16.62       254.4          103         11.45       13.7   \n",
      "2          10.30       162.6          104          7.32       12.2   \n",
      "3           5.26       196.9           89          8.86        6.6   \n",
      "4          12.61       186.9          121          8.41       10.1   \n",
      "...          ...         ...          ...           ...        ...   \n",
      "3328       18.32       279.1           83         12.56        9.9   \n",
      "3329       13.04       191.3          123          8.61        9.6   \n",
      "3330       24.55       191.9           91          8.64       14.1   \n",
      "3331       13.57       139.2          137          6.26        5.0   \n",
      "3332       22.60       241.4           77         10.86       13.7   \n",
      "\n",
      "      Intl Calls  Intl Charge  CustServ Calls  Churn?  \n",
      "0              3         2.70               1       0  \n",
      "1              3         3.70               1       0  \n",
      "2              5         3.29               0       0  \n",
      "3              7         1.78               2       0  \n",
      "4              3         2.73               3       0  \n",
      "...          ...          ...             ...     ...  \n",
      "3328           6         2.67               2       0  \n",
      "3329           4         2.59               3       0  \n",
      "3330           6         3.81               2       0  \n",
      "3331          10         1.35               2       0  \n",
      "3332           4         3.70               0       0  \n",
      "\n",
      "[3333 rows x 21 columns]\n",
      "State             0\n",
      "Account Length    0\n",
      "Area Code         0\n",
      "Phone             0\n",
      "Int'l Plan        0\n",
      "VMail Plan        0\n",
      "VMail Message     0\n",
      "Day Mins          0\n",
      "Day Calls         0\n",
      "Day Charge        0\n",
      "Eve Mins          0\n",
      "Eve Calls         0\n",
      "Eve Charge        0\n",
      "Night Mins        0\n",
      "Night Calls       0\n",
      "Night Charge      0\n",
      "Intl Mins         0\n",
      "Intl Calls        0\n",
      "Intl Charge       0\n",
      "CustServ Calls    0\n",
      "Churn?            0\n",
      "dtype: int64\n"
     ]
    }
   ],
   "source": [
    "# load the data into a pandas dataframe\n",
    "\n",
    "data_path = r\"C:\\Users\\trush\\OneDrive\\Documents\\WFU Grad School Info\\BAN 6025 Machine Learning\\Data\\Churn2-1 (1).csv\"\n",
    "df = pd.read_csv(data_path)\n",
    "\n",
    "# preview data\n",
    "df.info()\n",
    "df.head\n",
    "print(df)\n",
    "\n",
    "# total count of NaN values\n",
    "print(df.isnull().sum())\n",
    "\n"
   ]
  },
  {
   "cell_type": "markdown",
   "metadata": {
    "id": "BhW759uRylri"
   },
   "source": [
    "# Preprocess Data\n",
    "\n",
    "\n",
    "*   Drop unnecessary variables\n",
    "*   Convert target to numeric\n",
    "\n",
    "\n"
   ]
  },
  {
   "cell_type": "code",
   "execution_count": 10,
   "metadata": {
    "colab": {
     "base_uri": "https://localhost:8080/",
     "height": 243
    },
    "executionInfo": {
     "elapsed": 5,
     "status": "ok",
     "timestamp": 1701037650104,
     "user": {
      "displayName": "Tonya Balan",
      "userId": "10033140935938229295"
     },
     "user_tz": 300
    },
    "id": "r8DXP2CDxRI2",
    "outputId": "e61f373d-04b3-4337-8e2d-70cc7ea64a5f"
   },
   "outputs": [
    {
     "data": {
      "text/html": [
       "<div>\n",
       "<style scoped>\n",
       "    .dataframe tbody tr th:only-of-type {\n",
       "        vertical-align: middle;\n",
       "    }\n",
       "\n",
       "    .dataframe tbody tr th {\n",
       "        vertical-align: top;\n",
       "    }\n",
       "\n",
       "    .dataframe thead th {\n",
       "        text-align: right;\n",
       "    }\n",
       "</style>\n",
       "<table border=\"1\" class=\"dataframe\">\n",
       "  <thead>\n",
       "    <tr style=\"text-align: right;\">\n",
       "      <th></th>\n",
       "      <th>Account Length</th>\n",
       "      <th>Int'l Plan</th>\n",
       "      <th>VMail Plan</th>\n",
       "      <th>VMail Message</th>\n",
       "      <th>Day Mins</th>\n",
       "      <th>Day Calls</th>\n",
       "      <th>Day Charge</th>\n",
       "      <th>Eve Mins</th>\n",
       "      <th>Eve Calls</th>\n",
       "      <th>Eve Charge</th>\n",
       "      <th>Night Mins</th>\n",
       "      <th>Night Calls</th>\n",
       "      <th>Night Charge</th>\n",
       "      <th>Intl Mins</th>\n",
       "      <th>Intl Calls</th>\n",
       "      <th>Intl Charge</th>\n",
       "      <th>CustServ Calls</th>\n",
       "    </tr>\n",
       "  </thead>\n",
       "  <tbody>\n",
       "    <tr>\n",
       "      <th>0</th>\n",
       "      <td>128</td>\n",
       "      <td>0</td>\n",
       "      <td>1</td>\n",
       "      <td>25</td>\n",
       "      <td>265.1</td>\n",
       "      <td>110</td>\n",
       "      <td>45.07</td>\n",
       "      <td>197.4</td>\n",
       "      <td>99</td>\n",
       "      <td>16.78</td>\n",
       "      <td>244.7</td>\n",
       "      <td>91</td>\n",
       "      <td>11.01</td>\n",
       "      <td>10.0</td>\n",
       "      <td>3</td>\n",
       "      <td>2.70</td>\n",
       "      <td>1</td>\n",
       "    </tr>\n",
       "    <tr>\n",
       "      <th>1</th>\n",
       "      <td>107</td>\n",
       "      <td>0</td>\n",
       "      <td>1</td>\n",
       "      <td>26</td>\n",
       "      <td>161.6</td>\n",
       "      <td>123</td>\n",
       "      <td>27.47</td>\n",
       "      <td>195.5</td>\n",
       "      <td>103</td>\n",
       "      <td>16.62</td>\n",
       "      <td>254.4</td>\n",
       "      <td>103</td>\n",
       "      <td>11.45</td>\n",
       "      <td>13.7</td>\n",
       "      <td>3</td>\n",
       "      <td>3.70</td>\n",
       "      <td>1</td>\n",
       "    </tr>\n",
       "    <tr>\n",
       "      <th>2</th>\n",
       "      <td>137</td>\n",
       "      <td>0</td>\n",
       "      <td>0</td>\n",
       "      <td>0</td>\n",
       "      <td>243.4</td>\n",
       "      <td>114</td>\n",
       "      <td>41.38</td>\n",
       "      <td>121.2</td>\n",
       "      <td>110</td>\n",
       "      <td>10.30</td>\n",
       "      <td>162.6</td>\n",
       "      <td>104</td>\n",
       "      <td>7.32</td>\n",
       "      <td>12.2</td>\n",
       "      <td>5</td>\n",
       "      <td>3.29</td>\n",
       "      <td>0</td>\n",
       "    </tr>\n",
       "    <tr>\n",
       "      <th>3</th>\n",
       "      <td>84</td>\n",
       "      <td>1</td>\n",
       "      <td>0</td>\n",
       "      <td>0</td>\n",
       "      <td>299.4</td>\n",
       "      <td>71</td>\n",
       "      <td>50.90</td>\n",
       "      <td>61.9</td>\n",
       "      <td>88</td>\n",
       "      <td>5.26</td>\n",
       "      <td>196.9</td>\n",
       "      <td>89</td>\n",
       "      <td>8.86</td>\n",
       "      <td>6.6</td>\n",
       "      <td>7</td>\n",
       "      <td>1.78</td>\n",
       "      <td>2</td>\n",
       "    </tr>\n",
       "    <tr>\n",
       "      <th>4</th>\n",
       "      <td>75</td>\n",
       "      <td>1</td>\n",
       "      <td>0</td>\n",
       "      <td>0</td>\n",
       "      <td>166.7</td>\n",
       "      <td>113</td>\n",
       "      <td>28.34</td>\n",
       "      <td>148.3</td>\n",
       "      <td>122</td>\n",
       "      <td>12.61</td>\n",
       "      <td>186.9</td>\n",
       "      <td>121</td>\n",
       "      <td>8.41</td>\n",
       "      <td>10.1</td>\n",
       "      <td>3</td>\n",
       "      <td>2.73</td>\n",
       "      <td>3</td>\n",
       "    </tr>\n",
       "  </tbody>\n",
       "</table>\n",
       "</div>"
      ],
      "text/plain": [
       "   Account Length  Int'l Plan  VMail Plan  VMail Message  Day Mins  Day Calls  \\\n",
       "0             128           0           1             25     265.1        110   \n",
       "1             107           0           1             26     161.6        123   \n",
       "2             137           0           0              0     243.4        114   \n",
       "3              84           1           0              0     299.4         71   \n",
       "4              75           1           0              0     166.7        113   \n",
       "\n",
       "   Day Charge  Eve Mins  Eve Calls  Eve Charge  Night Mins  Night Calls  \\\n",
       "0       45.07     197.4         99       16.78       244.7           91   \n",
       "1       27.47     195.5        103       16.62       254.4          103   \n",
       "2       41.38     121.2        110       10.30       162.6          104   \n",
       "3       50.90      61.9         88        5.26       196.9           89   \n",
       "4       28.34     148.3        122       12.61       186.9          121   \n",
       "\n",
       "   Night Charge  Intl Mins  Intl Calls  Intl Charge  CustServ Calls  \n",
       "0         11.01       10.0           3         2.70               1  \n",
       "1         11.45       13.7           3         3.70               1  \n",
       "2          7.32       12.2           5         3.29               0  \n",
       "3          8.86        6.6           7         1.78               2  \n",
       "4          8.41       10.1           3         2.73               3  "
      ]
     },
     "execution_count": 10,
     "metadata": {},
     "output_type": "execute_result"
    }
   ],
   "source": [
    "# drop unnecessary columns\n",
    "df.drop(['State', 'Area Code', 'Phone','Churn?'], axis=1, inplace=True)\n",
    "# convert plan variables to numerical\n",
    "df[\"Int'l Plan\"] = df[\"Int'l Plan\"].apply(lambda x: 1 if x == 'yes' else 0)\n",
    "df['VMail Plan'] = df['VMail Plan'].apply(lambda x: 1 if x == 'yes' else 0)\n",
    "\n",
    "df.head()\n",
    "\n"
   ]
  },
  {
   "cell_type": "markdown",
   "metadata": {
    "id": "_UgZtuL41d66"
   },
   "source": [
    "Scale Data"
   ]
  },
  {
   "cell_type": "code",
   "execution_count": 11,
   "metadata": {
    "colab": {
     "base_uri": "https://localhost:8080/",
     "height": 243
    },
    "executionInfo": {
     "elapsed": 4,
     "status": "ok",
     "timestamp": 1701037650104,
     "user": {
      "displayName": "Tonya Balan",
      "userId": "10033140935938229295"
     },
     "user_tz": 300
    },
    "id": "7b75ApLO2vKV",
    "outputId": "c21a9e48-b315-472b-9a17-057e9fc75768"
   },
   "outputs": [
    {
     "data": {
      "text/html": [
       "<div>\n",
       "<style scoped>\n",
       "    .dataframe tbody tr th:only-of-type {\n",
       "        vertical-align: middle;\n",
       "    }\n",
       "\n",
       "    .dataframe tbody tr th {\n",
       "        vertical-align: top;\n",
       "    }\n",
       "\n",
       "    .dataframe thead th {\n",
       "        text-align: right;\n",
       "    }\n",
       "</style>\n",
       "<table border=\"1\" class=\"dataframe\">\n",
       "  <thead>\n",
       "    <tr style=\"text-align: right;\">\n",
       "      <th></th>\n",
       "      <th>Account Length</th>\n",
       "      <th>Int'l Plan</th>\n",
       "      <th>VMail Plan</th>\n",
       "      <th>VMail Message</th>\n",
       "      <th>Day Mins</th>\n",
       "      <th>Day Calls</th>\n",
       "      <th>Day Charge</th>\n",
       "      <th>Eve Mins</th>\n",
       "      <th>Eve Calls</th>\n",
       "      <th>Eve Charge</th>\n",
       "      <th>Night Mins</th>\n",
       "      <th>Night Calls</th>\n",
       "      <th>Night Charge</th>\n",
       "      <th>Intl Mins</th>\n",
       "      <th>Intl Calls</th>\n",
       "      <th>Intl Charge</th>\n",
       "      <th>CustServ Calls</th>\n",
       "    </tr>\n",
       "  </thead>\n",
       "  <tbody>\n",
       "    <tr>\n",
       "      <th>0</th>\n",
       "      <td>0.676489</td>\n",
       "      <td>-0.327580</td>\n",
       "      <td>1.617086</td>\n",
       "      <td>1.234883</td>\n",
       "      <td>1.566767</td>\n",
       "      <td>0.476643</td>\n",
       "      <td>1.567036</td>\n",
       "      <td>-0.070610</td>\n",
       "      <td>-0.055940</td>\n",
       "      <td>-0.070427</td>\n",
       "      <td>0.866743</td>\n",
       "      <td>-0.465494</td>\n",
       "      <td>0.866029</td>\n",
       "      <td>-0.085008</td>\n",
       "      <td>-0.601195</td>\n",
       "      <td>-0.085690</td>\n",
       "      <td>-0.427932</td>\n",
       "    </tr>\n",
       "    <tr>\n",
       "      <th>1</th>\n",
       "      <td>0.149065</td>\n",
       "      <td>-0.327580</td>\n",
       "      <td>1.617086</td>\n",
       "      <td>1.307948</td>\n",
       "      <td>-0.333738</td>\n",
       "      <td>1.124503</td>\n",
       "      <td>-0.334013</td>\n",
       "      <td>-0.108080</td>\n",
       "      <td>0.144867</td>\n",
       "      <td>-0.107549</td>\n",
       "      <td>1.058571</td>\n",
       "      <td>0.147825</td>\n",
       "      <td>1.059390</td>\n",
       "      <td>1.240482</td>\n",
       "      <td>-0.601195</td>\n",
       "      <td>1.241169</td>\n",
       "      <td>-0.427932</td>\n",
       "    </tr>\n",
       "    <tr>\n",
       "      <th>2</th>\n",
       "      <td>0.902529</td>\n",
       "      <td>-0.327580</td>\n",
       "      <td>-0.618396</td>\n",
       "      <td>-0.591760</td>\n",
       "      <td>1.168304</td>\n",
       "      <td>0.675985</td>\n",
       "      <td>1.168464</td>\n",
       "      <td>-1.573383</td>\n",
       "      <td>0.496279</td>\n",
       "      <td>-1.573900</td>\n",
       "      <td>-0.756869</td>\n",
       "      <td>0.198935</td>\n",
       "      <td>-0.755571</td>\n",
       "      <td>0.703121</td>\n",
       "      <td>0.211534</td>\n",
       "      <td>0.697156</td>\n",
       "      <td>-1.188218</td>\n",
       "    </tr>\n",
       "    <tr>\n",
       "      <th>3</th>\n",
       "      <td>-0.428590</td>\n",
       "      <td>3.052685</td>\n",
       "      <td>-0.618396</td>\n",
       "      <td>-0.591760</td>\n",
       "      <td>2.196596</td>\n",
       "      <td>-1.466936</td>\n",
       "      <td>2.196759</td>\n",
       "      <td>-2.742865</td>\n",
       "      <td>-0.608159</td>\n",
       "      <td>-2.743268</td>\n",
       "      <td>-0.078551</td>\n",
       "      <td>-0.567714</td>\n",
       "      <td>-0.078806</td>\n",
       "      <td>-1.303026</td>\n",
       "      <td>1.024263</td>\n",
       "      <td>-1.306401</td>\n",
       "      <td>0.332354</td>\n",
       "    </tr>\n",
       "    <tr>\n",
       "      <th>4</th>\n",
       "      <td>-0.654629</td>\n",
       "      <td>3.052685</td>\n",
       "      <td>-0.618396</td>\n",
       "      <td>-0.591760</td>\n",
       "      <td>-0.240090</td>\n",
       "      <td>0.626149</td>\n",
       "      <td>-0.240041</td>\n",
       "      <td>-1.038932</td>\n",
       "      <td>1.098699</td>\n",
       "      <td>-1.037939</td>\n",
       "      <td>-0.276311</td>\n",
       "      <td>1.067803</td>\n",
       "      <td>-0.276562</td>\n",
       "      <td>-0.049184</td>\n",
       "      <td>-0.601195</td>\n",
       "      <td>-0.045885</td>\n",
       "      <td>1.092641</td>\n",
       "    </tr>\n",
       "  </tbody>\n",
       "</table>\n",
       "</div>"
      ],
      "text/plain": [
       "   Account Length  Int'l Plan  VMail Plan  VMail Message  Day Mins  Day Calls  \\\n",
       "0        0.676489   -0.327580    1.617086       1.234883  1.566767   0.476643   \n",
       "1        0.149065   -0.327580    1.617086       1.307948 -0.333738   1.124503   \n",
       "2        0.902529   -0.327580   -0.618396      -0.591760  1.168304   0.675985   \n",
       "3       -0.428590    3.052685   -0.618396      -0.591760  2.196596  -1.466936   \n",
       "4       -0.654629    3.052685   -0.618396      -0.591760 -0.240090   0.626149   \n",
       "\n",
       "   Day Charge  Eve Mins  Eve Calls  Eve Charge  Night Mins  Night Calls  \\\n",
       "0    1.567036 -0.070610  -0.055940   -0.070427    0.866743    -0.465494   \n",
       "1   -0.334013 -0.108080   0.144867   -0.107549    1.058571     0.147825   \n",
       "2    1.168464 -1.573383   0.496279   -1.573900   -0.756869     0.198935   \n",
       "3    2.196759 -2.742865  -0.608159   -2.743268   -0.078551    -0.567714   \n",
       "4   -0.240041 -1.038932   1.098699   -1.037939   -0.276311     1.067803   \n",
       "\n",
       "   Night Charge  Intl Mins  Intl Calls  Intl Charge  CustServ Calls  \n",
       "0      0.866029  -0.085008   -0.601195    -0.085690       -0.427932  \n",
       "1      1.059390   1.240482   -0.601195     1.241169       -0.427932  \n",
       "2     -0.755571   0.703121    0.211534     0.697156       -1.188218  \n",
       "3     -0.078806  -1.303026    1.024263    -1.306401        0.332354  \n",
       "4     -0.276562  -0.049184   -0.601195    -0.045885        1.092641  "
      ]
     },
     "execution_count": 11,
     "metadata": {},
     "output_type": "execute_result"
    }
   ],
   "source": [
    "#Standardize Data\n",
    "dfcolumns = df.columns.values.tolist()\n",
    "\n",
    "scaler = StandardScaler()\n",
    "\n",
    "#Transformation Work\n",
    "df_scaled = scaler.fit_transform(df.to_numpy())\n",
    "df_scaled = pd.DataFrame(df_scaled, columns=dfcolumns)\n",
    "\n",
    "\n",
    "df_scaled.head()\n",
    "\n"
   ]
  },
  {
   "cell_type": "markdown",
   "metadata": {
    "id": "l-LOc0SD1h5g"
   },
   "source": [
    "How Many Clusters"
   ]
  },
  {
   "cell_type": "code",
   "execution_count": null,
   "metadata": {
    "colab": {
     "base_uri": "https://localhost:8080/",
     "height": 541
    },
    "executionInfo": {
     "elapsed": 13803,
     "status": "ok",
     "timestamp": 1701037664079,
     "user": {
      "displayName": "Tonya Balan",
      "userId": "10033140935938229295"
     },
     "user_tz": 300
    },
    "id": "30ITM6Kf6NGX",
    "outputId": "ce179ded-bc98-4d78-bde8-7b6c20006908"
   },
   "outputs": [
    {
     "data": {
      "image/png": "[encoded data removed]",
      "text/plain": [
       "<Figure size 800x550 with 2 Axes>"
      ]
     },
     "metadata": {},
     "output_type": "display_data"
    },
    {
     "data": {
      "text/plain": [
       "<Axes: title={'center': 'Distortion Score Elbow for KMeans Clustering'}, xlabel='k', ylabel='distortion score'>"
      ]
     },
     "execution_count": 12,
     "metadata": {},
     "output_type": "execute_result"
    }
   ],
   "source": [
    "model = KMeans()\n",
    "#k is the range of cluster sizes\n",
    "visualizer = KElbowVisualizer(model, k=(2, 12))\n",
    "visualizer.fit(df_scaled)\n",
    "visualizer.show()"
   ]
  },
  {
   "cell_type": "markdown",
   "metadata": {
    "id": "sa-dMW5A1kp8"
   },
   "source": [
    "Generate and Visualize Clusters"
   ]
  },
  {
   "cell_type": "code",
   "execution_count": 13,
   "metadata": {
    "colab": {
     "base_uri": "https://localhost:8080/"
    },
    "executionInfo": {
     "elapsed": 158,
     "status": "ok",
     "timestamp": 1701037765661,
     "user": {
      "displayName": "Tonya Balan",
      "userId": "10033140935938229295"
     },
     "user_tz": 300
    },
    "id": "jJ5XT55_6xxm",
    "outputId": "10e44f24-daa6-477b-f9a6-85166be93842"
   },
   "outputs": [
    {
     "name": "stdout",
     "output_type": "stream",
     "text": [
      "<class 'pandas.core.frame.DataFrame'>\n",
      "RangeIndex: 3333 entries, 0 to 3332\n",
      "Data columns (total 18 columns):\n",
      " #   Column          Non-Null Count  Dtype  \n",
      "---  ------          --------------  -----  \n",
      " 0   Account Length  3333 non-null   int64  \n",
      " 1   Int'l Plan      3333 non-null   int64  \n",
      " 2   VMail Plan      3333 non-null   int64  \n",
      " 3   VMail Message   3333 non-null   int64  \n",
      " 4   Day Mins        3333 non-null   float64\n",
      " 5   Day Calls       3333 non-null   int64  \n",
      " 6   Day Charge      3333 non-null   float64\n",
      " 7   Eve Mins        3333 non-null   float64\n",
      " 8   Eve Calls       3333 non-null   int64  \n",
      " 9   Eve Charge      3333 non-null   float64\n",
      " 10  Night Mins      3333 non-null   float64\n",
      " 11  Night Calls     3333 non-null   int64  \n",
      " 12  Night Charge    3333 non-null   float64\n",
      " 13  Intl Mins       3333 non-null   float64\n",
      " 14  Intl Calls      3333 non-null   int64  \n",
      " 15  Intl Charge     3333 non-null   float64\n",
      " 16  CustServ Calls  3333 non-null   int64  \n",
      " 17  cluster         3333 non-null   int32  \n",
      "dtypes: float64(8), int32(1), int64(9)\n",
      "memory usage: 455.8 KB\n",
      "cluster\n",
      "0    875\n",
      "1    643\n",
      "3    635\n",
      "2    629\n",
      "4    551\n",
      "Name: count, dtype: int64\n",
      "         Account Length  Int'l Plan  VMail Plan  VMail Message    Day Mins  \\\n",
      "cluster                                                                      \n",
      "0            101.124571    0.102857    1.000000      29.692571  180.862400   \n",
      "1            104.213064    0.093313    0.012442       0.191291  135.632504   \n",
      "2             99.799682    0.141494    0.003180       0.071542  237.954849   \n",
      "3             99.360630    0.078740    0.020472       0.462992  165.609921   \n",
      "4            100.704174    0.061706    0.043557       1.000000  179.470417   \n",
      "\n",
      "          Day Calls  Day Charge    Eve Mins   Eve Calls  Eve Charge  \\\n",
      "cluster                                                               \n",
      "0        100.066286   30.747143  203.106971  100.082286   17.264400   \n",
      "1        100.065319   23.058258  231.507309  100.147745   19.678258   \n",
      "2        102.082671   40.452878  204.498728  102.570747   17.382496   \n",
      "3        101.097638   28.154142  164.310709   98.420472   13.966614   \n",
      "4         98.811252   30.510381  200.222686   99.274047   17.019201   \n",
      "\n",
      "         Night Mins  Night Calls  Night Charge  Intl Mins  Intl Calls  \\\n",
      "cluster                                                                 \n",
      "0        200.311657   100.537143      9.014023  10.366171    4.523429   \n",
      "1        172.781337    98.318818      7.775319  11.118196    4.405910   \n",
      "2        180.400000   100.640700      8.117981  10.934181    4.540541   \n",
      "3        240.878740    99.957480     10.839811  11.695906    4.474016   \n",
      "4        211.807260   101.078040      9.531361   6.528131    4.431942   \n",
      "\n",
      "         Intl Charge  CustServ Calls  \n",
      "cluster                               \n",
      "0           2.799406        1.529143  \n",
      "1           3.002411        1.449456  \n",
      "2           2.952830        1.519873  \n",
      "3           3.158268        1.699213  \n",
      "4           1.763140        1.640653  \n"
     ]
    }
   ],
   "source": [
    "kmeans = KMeans(n_clusters=5, random_state=904)\n",
    "kmclus=kmeans.fit(df_scaled)\n",
    "\n",
    "clusters = kmeans.fit_predict(df_scaled)\n",
    "\n",
    "#append cluster to original data\n",
    "df['cluster']=clusters\n",
    "\n",
    "df.info()\n",
    "\n",
    "print(df['cluster'].value_counts())\n",
    "\n",
    "df_desc = df.groupby('cluster').mean()\n",
    "print(df_desc)\n",
    "\n"
   ]
  },
  {
   "cell_type": "markdown",
   "metadata": {
    "id": "B3prHF731psv"
   },
   "source": [
    "Profile Clusters"
   ]
  },
  {
   "cell_type": "code",
   "execution_count": 14,
   "metadata": {
    "colab": {
     "base_uri": "https://localhost:8080/",
     "height": 1000
    },
    "executionInfo": {
     "elapsed": 1677,
     "status": "ok",
     "timestamp": 1701037667383,
     "user": {
      "displayName": "Tonya Balan",
      "userId": "10033140935938229295"
     },
     "user_tz": 300
    },
    "id": "CLAS3d5BN4qB",
    "outputId": "d0af023b-db71-4b2c-835b-bd317ef4aeec"
   },
   "outputs": [
    {
     "name": "stdout",
     "output_type": "stream",
     "text": [
      "International Charges\n"
     ]
    },
    {
     "data": {
      "text/plain": [
       "<Figure size 800x400 with 0 Axes>"
      ]
     },
     "metadata": {},
     "output_type": "display_data"
    },
    {
     "data": {
      "image/png": "[encoded data removed]",
      "text/plain": [
       "<Figure size 1000x1500 with 5 Axes>"
      ]
     },
     "metadata": {},
     "output_type": "display_data"
    }
   ],
   "source": [
    "#day charge eve charge night charge Intl min\n",
    "plt.figure(figsize=(8,4))\n",
    "print(\"International Charges\")\n",
    "sns.displot(data=df, x=\"Intl Charge\", bins=8, col='cluster', col_wrap=2, common_bins=True)\n",
    "plt.show()\n",
    "\n",
    "\n",
    "\n"
   ]
  },
  {
   "cell_type": "code",
   "execution_count": 15,
   "metadata": {
    "colab": {
     "base_uri": "https://localhost:8080/"
    },
    "executionInfo": {
     "elapsed": 5,
     "status": "ok",
     "timestamp": 1701037667383,
     "user": {
      "displayName": "Tonya Balan",
      "userId": "10033140935938229295"
     },
     "user_tz": 300
    },
    "id": "5c0lFKCnlNEx",
    "outputId": "39352d5e-da52-456e-c780-0a85b030dfff"
   },
   "outputs": [
    {
     "name": "stdout",
     "output_type": "stream",
     "text": [
      "        Day Charge                                                         \n",
      "             count       mean       std    min     25%    50%    75%    max\n",
      "cluster                                                                    \n",
      "0            875.0  30.747143  8.978461   0.44  24.635  30.96  36.92  54.81\n",
      "1            643.0  23.058258  6.814009   0.00  18.675  24.36  28.05  36.92\n",
      "2            629.0  40.452878  5.874392  28.82  35.920  39.58  44.27  59.64\n",
      "3            635.0  28.154142  7.216577   4.59  23.215  28.53  32.92  46.63\n",
      "4            551.0  30.510381  7.295081   9.71  25.290  30.60  35.54  53.48\n",
      "        Eve Charge                                                        \n",
      "             count       mean       std   min    25%    50%     75%    max\n",
      "cluster                                                                   \n",
      "0            875.0  17.264400  4.184283  3.59  14.25  17.34  20.110  30.75\n",
      "1            643.0  19.678258  3.698406  9.72  17.19  19.59  22.255  30.91\n",
      "2            629.0  17.382496  3.902939  5.17  14.63  17.44  19.870  29.83\n",
      "3            635.0  13.966614  3.692586  0.00  11.62  14.10  16.510  24.98\n",
      "4            551.0  17.019201  4.053018  5.01  14.13  16.89  19.665  29.52\n",
      "        Night Charge                                                        \n",
      "               count       mean       std   min    25%    50%     75%    max\n",
      "cluster                                                                     \n",
      "0              875.0   9.014023  2.254953  1.04  7.460   9.04  10.610  17.19\n",
      "1              643.0   7.775319  1.857861  1.97  6.560   7.89   9.095  13.37\n",
      "2              629.0   8.117981  1.950206  2.45  6.850   8.12   9.490  13.66\n",
      "3              635.0  10.839811  1.900358  5.23  9.615  10.77  11.990  17.77\n",
      "4              551.0   9.531361  1.984721  2.13  8.325   9.49  10.935  15.43\n",
      "        Intl Charge                                                  \n",
      "              count      mean       std   min   25%   50%   75%   max\n",
      "cluster                                                              \n",
      "0             875.0  2.799406  0.699515  1.00  2.30  2.78  3.27  5.40\n",
      "1             643.0  3.002411  0.563477  1.73  2.62  2.94  3.35  4.97\n",
      "2             629.0  2.952830  0.570943  1.46  2.57  2.92  3.29  4.94\n",
      "3             635.0  3.158268  0.545398  1.97  2.73  3.13  3.48  5.10\n",
      "4             551.0  1.763140  0.535328  0.00  1.51  1.86  2.13  2.65\n"
     ]
    }
   ],
   "source": [
    "dfday = df[['Day Charge', 'cluster']]\n",
    "dfeve = df[['Eve Charge', 'cluster']]\n",
    "dfnight = df[['Night Charge','cluster']]\n",
    "dfintl = df[['Intl Charge', 'cluster']]\n",
    "\n",
    "df_desc1 = dfday.groupby('cluster').describe()\n",
    "print(df_desc1)\n",
    "\n",
    "df_desc2 = dfeve.groupby('cluster').describe()\n",
    "print(df_desc2)\n",
    "\n",
    "df_desc3 = dfnight.groupby('cluster').describe()\n",
    "print(df_desc3)\n",
    "\n",
    "df_desc4 = dfintl.groupby('cluster').describe()\n",
    "print(df_desc4)"
   ]
  },
  {
   "cell_type": "code",
   "execution_count": null,
   "metadata": {},
   "outputs": [],
   "source": []
  }
 ],
 "metadata": {
  "colab": {
   "provenance": [
    {
     "file_id": "1RwN4-hpadFj9vpG9kyjHQ8CvV6ENq_ca",
     "timestamp": 1700921533903
    },
    {
     "file_id": "1mKRswYrc1i5c1D10ReCHST7G1dRlI52n",
     "timestamp": 1698762553498
    },
    {
     "file_id": "1QUSfNLzzorJ9i52H3gMMOKppH8hYjPrP",
     "timestamp": 1698683789005
    },
    {
     "file_id": "1-xJ-RK3fKXlrWF79Q-AniqFvDJog7j5D",
     "timestamp": 1697723884553
    }
   ]
  },
  "kernelspec": {
   "display_name": "base",
   "language": "python",
   "name": "python3"
  },
  "language_info": {
   "codemirror_mode": {
    "name": "ipython",
    "version": 3
   },
   "file_extension": ".py",
   "mimetype": "text/x-python",
   "name": "python",
   "nbconvert_exporter": "python",
   "pygments_lexer": "ipython3",
   "version": "3.12.4"
  }
 },
 "nbformat": 4,
 "nbformat_minor": 0
}

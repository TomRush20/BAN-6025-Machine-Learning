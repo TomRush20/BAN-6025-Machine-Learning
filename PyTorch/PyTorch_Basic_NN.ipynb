{
 "cells": [
  {
   "cell_type": "code",
   "execution_count": 2,
   "metadata": {},
   "outputs": [
    {
     "name": "stdout",
     "output_type": "stream",
     "text": [
      "Requirement already satisfied: torch in c:\\users\\trush\\anaconda3\\lib\\site-packages (2.5.0)\n",
      "Requirement already satisfied: filelock in c:\\users\\trush\\anaconda3\\lib\\site-packages (from torch) (3.13.1)\n",
      "Requirement already satisfied: typing-extensions>=4.8.0 in c:\\users\\trush\\anaconda3\\lib\\site-packages (from torch) (4.11.0)\n",
      "Requirement already satisfied: networkx in c:\\users\\trush\\anaconda3\\lib\\site-packages (from torch) (3.2.1)\n",
      "Requirement already satisfied: jinja2 in c:\\users\\trush\\anaconda3\\lib\\site-packages (from torch) (3.1.4)\n",
      "Requirement already satisfied: fsspec in c:\\users\\trush\\anaconda3\\lib\\site-packages (from torch) (2024.3.1)\n",
      "Requirement already satisfied: setuptools in c:\\users\\trush\\anaconda3\\lib\\site-packages (from torch) (69.5.1)\n",
      "Requirement already satisfied: sympy==1.13.1 in c:\\users\\trush\\anaconda3\\lib\\site-packages (from torch) (1.13.1)\n",
      "Requirement already satisfied: mpmath<1.4,>=1.1.0 in c:\\users\\trush\\anaconda3\\lib\\site-packages (from sympy==1.13.1->torch) (1.3.0)\n",
      "Requirement already satisfied: MarkupSafe>=2.0 in c:\\users\\trush\\anaconda3\\lib\\site-packages (from jinja2->torch) (2.1.3)\n"
     ]
    }
   ],
   "source": [
    "!pip install torch"
   ]
  },
  {
   "cell_type": "code",
   "execution_count": 3,
   "metadata": {},
   "outputs": [
    {
     "name": "stdout",
     "output_type": "stream",
     "text": [
      "Requirement already satisfied: torchvision in c:\\users\\trush\\anaconda3\\lib\\site-packages (0.20.0)\n",
      "Requirement already satisfied: numpy in c:\\users\\trush\\anaconda3\\lib\\site-packages (from torchvision) (1.26.4)\n",
      "Requirement already satisfied: torch==2.5.0 in c:\\users\\trush\\anaconda3\\lib\\site-packages (from torchvision) (2.5.0)\n",
      "Requirement already satisfied: pillow!=8.3.*,>=5.3.0 in c:\\users\\trush\\anaconda3\\lib\\site-packages (from torchvision) (10.3.0)\n",
      "Requirement already satisfied: filelock in c:\\users\\trush\\anaconda3\\lib\\site-packages (from torch==2.5.0->torchvision) (3.13.1)\n",
      "Requirement already satisfied: typing-extensions>=4.8.0 in c:\\users\\trush\\anaconda3\\lib\\site-packages (from torch==2.5.0->torchvision) (4.11.0)\n",
      "Requirement already satisfied: networkx in c:\\users\\trush\\anaconda3\\lib\\site-packages (from torch==2.5.0->torchvision) (3.2.1)\n",
      "Requirement already satisfied: jinja2 in c:\\users\\trush\\anaconda3\\lib\\site-packages (from torch==2.5.0->torchvision) (3.1.4)\n",
      "Requirement already satisfied: fsspec in c:\\users\\trush\\anaconda3\\lib\\site-packages (from torch==2.5.0->torchvision) (2024.3.1)\n",
      "Requirement already satisfied: setuptools in c:\\users\\trush\\anaconda3\\lib\\site-packages (from torch==2.5.0->torchvision) (69.5.1)\n",
      "Requirement already satisfied: sympy==1.13.1 in c:\\users\\trush\\anaconda3\\lib\\site-packages (from torch==2.5.0->torchvision) (1.13.1)\n",
      "Requirement already satisfied: mpmath<1.4,>=1.1.0 in c:\\users\\trush\\anaconda3\\lib\\site-packages (from sympy==1.13.1->torch==2.5.0->torchvision) (1.3.0)\n",
      "Requirement already satisfied: MarkupSafe>=2.0 in c:\\users\\trush\\anaconda3\\lib\\site-packages (from jinja2->torch==2.5.0->torchvision) (2.1.3)\n"
     ]
    }
   ],
   "source": [
    "!pip install torchvision"
   ]
  },
  {
   "cell_type": "code",
   "execution_count": 4,
   "metadata": {},
   "outputs": [],
   "source": [
    "import torch\n",
    "import torch.nn as nn\n",
    "import torch.optim as optim\n",
    "from torchvision import datasets, transforms\n",
    "from torch.utils.data import DataLoader\n",
    "import matplotlib.pyplot as plt\n",
    "import numpy as np"
   ]
  },
  {
   "cell_type": "code",
   "execution_count": 5,
   "metadata": {},
   "outputs": [],
   "source": [
    "#We are using the same MNIST dataset with drawn numbers 0-10\n",
    "\n",
    "transform = transforms.Compose([\n",
    "    transforms.ToTensor(), # Convert the images to pyTorch tensors\n",
    "    transforms.Normalize((0.5,), (0.5,)) #Normalize the images \n",
    "])\n",
    "\n",
    "# Load the datasets\n",
    "train_dataset = datasets.MNIST(root='./data', train=True, download=True, transform=transform)\n",
    "train_loader = DataLoader(dataset=train_dataset, batch_size=64, shuffle=True)"
   ]
  },
  {
   "cell_type": "code",
   "execution_count": 6,
   "metadata": {},
   "outputs": [],
   "source": [
    "#Creating the Neural Network, the input nodes on the next layer should be the same as the output nodes of the previous layer\n",
    "class SimpleNN(nn.Module):\n",
    "    def __init__(self):\n",
    "        super(SimpleNN, self).__init__()\n",
    "        #First Layer \n",
    "        self.fc1 = nn.Linear(28 * 28, 128) #28x28 Image with 128 layer nodes\n",
    "        #Second Layer\n",
    "        self.fc2 = nn.Linear(128, 64) #128 input nodes and 64 output nodes\n",
    "        #Final Layer\n",
    "        self.fc3 = nn.Linear(64, 10) #64 input nodes and 10 output nodes for numbers 1-9 (this should be the amount of classes)\n",
    "\n",
    "    def forward(self, x):\n",
    "        x = x.view(-1, 28 * 28) #This makes the 2D matrix images into a 1D matrix image\n",
    "        x = torch.relu(self.fc1(x)) #Activate the first layer\n",
    "        x = torch.relu(self.fc2(x)) #Activate the second layer\n",
    "        x = self.fc3(x) #Final layer\n",
    "        return x\n",
    "\n",
    "model = SimpleNN()\n"
   ]
  },
  {
   "cell_type": "code",
   "execution_count": 7,
   "metadata": {},
   "outputs": [],
   "source": [
    "#Difining the loss function and optimizer\n",
    "criterion = nn.CrossEntropyLoss()\n",
    "optimizer = optim.Adam(model.parameters(), lr=0.001)"
   ]
  },
  {
   "cell_type": "code",
   "execution_count": 8,
   "metadata": {},
   "outputs": [
    {
     "name": "stdout",
     "output_type": "stream",
     "text": [
      "Epoch [1/5], Loss: 0.1598\n",
      "Epoch [2/5], Loss: 0.0894\n",
      "Epoch [3/5], Loss: 0.0185\n",
      "Epoch [4/5], Loss: 0.1359\n",
      "Epoch [5/5], Loss: 0.0263\n"
     ]
    }
   ],
   "source": [
    "num_epochs = 5\n",
    "\n",
    "for epoch in range(num_epochs):\n",
    "    for images, labels in train_loader:\n",
    "        #Pass through the model forward\n",
    "        outputs = model(images)\n",
    "        loss = criterion(outputs, labels)\n",
    "\n",
    "        #Fix the model by using optimization and back-propogation\n",
    "        optimizer.zero_grad() #Clear gradients\n",
    "        loss.backward() #Back propogation\n",
    "        optimizer.step() #Update weights from optimization and back propogation\n",
    "    \n",
    "    print(f'Epoch [{epoch + 1}/{num_epochs}], Loss: {loss.item():.4f}')"
   ]
  },
  {
   "cell_type": "code",
   "execution_count": 9,
   "metadata": {},
   "outputs": [
    {
     "ename": "",
     "evalue": "",
     "output_type": "error",
     "traceback": [
      "\u001b[1;31mThe Kernel crashed while executing code in the current cell or a previous cell. \n",
      "\u001b[1;31mPlease review the code in the cell(s) to identify a possible cause of the failure. \n",
      "\u001b[1;31mClick <a href='https://aka.ms/vscodeJupyterKernelCrash'>here</a> for more info. \n",
      "\u001b[1;31mView Jupyter <a href='command:jupyter.viewOutput'>log</a> for further details."
     ]
    }
   ],
   "source": [
    "#Model Output\n",
    "test_dataset = datasets.MNIST(root='./data', train=False, download=True, transform=transform)\n",
    "test_loader = DataLoader(dataset=test_dataset, batch_size=64, shuffle=False)"
   ]
  },
  {
   "cell_type": "code",
   "execution_count": null,
   "metadata": {},
   "outputs": [],
   "source": [
    "def show_model_output(model, test_loader):\n",
    "    model.eval()\n",
    "    with torch.no_grad():\n",
    "        for images, labels in test_loader:\n",
    "            outputs = model(images)\n",
    "            _, predicted = torch.max(outputs, 1) #Get the predicted class\n",
    "\n",
    "            #Display the images and predictions\n",
    "            for i in range(5): #First 5 images\n",
    "                image = images[i].numpy().squeeze()\n",
    "                label = labels[i].item()\n",
    "                pred = predicted[i].item()\n",
    "\n",
    "                plt.subplot(1, 5, i + 1)\n",
    "                plt.imshow(image, cmap='gray')\n",
    "                plt.title(f'true: {label}\\nPred: {pred}')\n",
    "                plt.axis('off')\n",
    "            \n",
    "            plt.show()\n",
    "            break\n",
    "\n",
    "show_model_output(model, test_loader)"
   ]
  },
  {
   "cell_type": "code",
   "execution_count": null,
   "metadata": {},
   "outputs": [],
   "source": []
  }
 ],
 "metadata": {
  "kernelspec": {
   "display_name": "base",
   "language": "python",
   "name": "python3"
  },
  "language_info": {
   "codemirror_mode": {
    "name": "ipython",
    "version": 3
   },
   "file_extension": ".py",
   "mimetype": "text/x-python",
   "name": "python",
   "nbconvert_exporter": "python",
   "pygments_lexer": "ipython3",
   "version": "3.12.4"
  }
 },
 "nbformat": 4,
 "nbformat_minor": 2
}

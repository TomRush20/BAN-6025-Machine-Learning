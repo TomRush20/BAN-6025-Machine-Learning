{
  "cells": [
    {
      "cell_type": "code",
      "execution_count": 1,
      "metadata": {
        "colab": {
          "base_uri": "https://localhost:8080/",
          "height": 17
        },
        "id": "NH4gND5Jv9ZR",
        "outputId": "9a765c2e-205d-4963-e637-3bdeb53380b2"
      },
      "outputs": [],
      "source": [
        "import numpy as np\n",
        "import matplotlib.pyplot as plt\n",
        "import seaborn as sns\n",
        "import pandas as pd\n",
        "import statsmodels.api as sample_data\n",
        "\n",
        "import tensorflow as tf\n",
        "from tensorflow.keras.optimizers import SGD\n",
        "from keras.models import Sequential\n",
        "from keras.layers import Dense\n",
        "from keras.optimizers import Adam\n",
        "\n",
        "from sklearn.preprocessing import StandardScaler\n",
        "from sklearn.model_selection import train_test_split\n",
        "from sklearn.tree import DecisionTreeClassifier\n",
        "from sklearn import tree\n",
        "from sklearn.metrics import accuracy_score, precision_score, recall_score, f1_score\n",
        "from sklearn.metrics import accuracy_score, precision_score, recall_score, f1_score\n",
        "from sklearn.feature_selection import chi2, SelectKBest\n",
        "from sklearn.metrics import confusion_matrix, roc_curve, roc_auc_score\n",
        "\n",
        "\n"
      ]
    },
    {
      "cell_type": "markdown",
      "metadata": {
        "id": "Ns3onAZnwSXq"
      },
      "source": [
        "# Load Data"
      ]
    },
    {
      "cell_type": "code",
      "execution_count": 2,
      "metadata": {
        "colab": {
          "base_uri": "https://localhost:8080/"
        },
        "id": "NZM5Q02fwR8l",
        "outputId": "50ad9d8b-302d-404e-fd50-75938d46d374"
      },
      "outputs": [
        {
          "name": "stdout",
          "output_type": "stream",
          "text": [
            "<class 'pandas.core.frame.DataFrame'>\n",
            "RangeIndex: 41188 entries, 0 to 41187\n",
            "Data columns (total 21 columns):\n",
            " #   Column     Non-Null Count  Dtype  \n",
            "---  ------     --------------  -----  \n",
            " 0   AGE        41188 non-null  int64  \n",
            " 1   JOB        41188 non-null  object \n",
            " 2   MARITAL    41188 non-null  object \n",
            " 3   EDUCATION  41188 non-null  object \n",
            " 4   DEFAULT    41188 non-null  object \n",
            " 5   HOUSING    41188 non-null  object \n",
            " 6   LOAN       41188 non-null  object \n",
            " 7   CONTACT    41188 non-null  object \n",
            " 8   MONTH      41188 non-null  object \n",
            " 9   DOW        41188 non-null  object \n",
            " 10  DURATION   41188 non-null  int64  \n",
            " 11  CAMPAIGN   41188 non-null  int64  \n",
            " 12  PDAYS      41188 non-null  int64  \n",
            " 13  PREVIOUS   41188 non-null  int64  \n",
            " 14  POUTCOME   41188 non-null  object \n",
            " 15  EMPVAR     41188 non-null  float64\n",
            " 16  CPI        41188 non-null  float64\n",
            " 17  CCI        41188 non-null  float64\n",
            " 18  EURIBOR3M  41188 non-null  float64\n",
            " 19  NREMP      41188 non-null  float64\n",
            " 20  RESPOND    41188 non-null  object \n",
            "dtypes: float64(5), int64(5), object(11)\n",
            "memory usage: 6.6+ MB\n",
            "       AGE      JOB   MARITAL EDUCATION  DEFAULT  HOUSING     LOAN   CONTACT  \\\n",
            "0       17  student    single   unknown       no      yes       no  cellular   \n",
            "1       17  student    single  basic.9y       no      yes       no  cellular   \n",
            "2       17  student    single  basic.9y       no      yes       no  cellular   \n",
            "3       17  student    single  basic.9y       no  unknown  unknown  cellular   \n",
            "4       17  student    single   unknown       no       no      yes  cellular   \n",
            "...    ...      ...       ...       ...      ...      ...      ...       ...   \n",
            "41183   89  retired   married  basic.9y       no       no       no  cellular   \n",
            "41184   89  retired   married   unknown       no      yes       no  cellular   \n",
            "41185   89  retired  divorced   unknown  unknown       no       no  cellular   \n",
            "41186   89  retired   married   unknown       no       no      yes  cellular   \n",
            "41187   89  retired   married   unknown       no       no      yes  cellular   \n",
            "\n",
            "      MONTH  DOW  ...  CAMPAIGN  PDAYS  PREVIOUS  POUTCOME EMPVAR     CPI  \\\n",
            "0       aug  wed  ...         3      4         2   success   -2.9  92.201   \n",
            "1       aug  fri  ...         2    999         2   failure   -2.9  92.201   \n",
            "2       aug  fri  ...         3      4         2   success   -2.9  92.201   \n",
            "3       aug  fri  ...         2    999         1   failure   -2.9  92.201   \n",
            "4       oct  tue  ...         1      2         2   success   -3.4  92.431   \n",
            "...     ...  ...  ...       ...    ...       ...       ...    ...     ...   \n",
            "41183   nov  wed  ...         1    999         1   failure   -3.4  92.649   \n",
            "41184   may  thu  ...         1      6         2   success   -1.8  93.876   \n",
            "41185   may  wed  ...         3    999         1   failure   -1.8  93.876   \n",
            "41186   aug  tue  ...         1      3         1   success   -1.7  94.027   \n",
            "41187   aug  wed  ...         1      3         4   success   -1.7  94.027   \n",
            "\n",
            "        CCI  EURIBOR3M   NREMP  RESPOND  \n",
            "0     -31.4      0.884  5076.2       no  \n",
            "1     -31.4      0.869  5076.2       no  \n",
            "2     -31.4      0.869  5076.2       no  \n",
            "3     -31.4      0.869  5076.2      yes  \n",
            "4     -26.9      0.742  5017.5      yes  \n",
            "...     ...        ...     ...      ...  \n",
            "41183 -30.1      0.716  5017.5       no  \n",
            "41184 -40.0      0.683  5008.7       no  \n",
            "41185 -40.0      0.697  5008.7      yes  \n",
            "41186 -38.3      0.904  4991.6      yes  \n",
            "41187 -38.3      0.903  4991.6      yes  \n",
            "\n",
            "[41188 rows x 21 columns]\n"
          ]
        }
      ],
      "source": [
        "# load the data into a pandas dataframe\n",
        "\n",
        "data_path = r\"C:\\Users\\trush\\OneDrive\\Documents\\WFU Grad School Info\\BAN 6025 Machine Learning\\Neural Networks\\portuguesebankall.csv\"\n",
        "df = pd.read_csv(data_path)\n",
        "\n",
        "# preview data\n",
        "df.info()\n",
        "df.head\n",
        "print(df)\n",
        "\n"
      ]
    },
    {
      "cell_type": "markdown",
      "metadata": {
        "id": "BhW759uRylri"
      },
      "source": [
        "# Preprocess Data\n",
        "\n",
        "\n",
        "*   Drop unnecessary variables\n",
        "*   Convert target to numeric\n",
        "\n",
        "\n"
      ]
    },
    {
      "cell_type": "code",
      "execution_count": 3,
      "metadata": {
        "colab": {
          "base_uri": "https://localhost:8080/",
          "height": 226
        },
        "id": "r8DXP2CDxRI2",
        "outputId": "47cd0b8d-4b25-49a5-c2e0-a987e7b97a75"
      },
      "outputs": [
        {
          "data": {
            "text/html": [
              "<div>\n",
              "<style scoped>\n",
              "    .dataframe tbody tr th:only-of-type {\n",
              "        vertical-align: middle;\n",
              "    }\n",
              "\n",
              "    .dataframe tbody tr th {\n",
              "        vertical-align: top;\n",
              "    }\n",
              "\n",
              "    .dataframe thead th {\n",
              "        text-align: right;\n",
              "    }\n",
              "</style>\n",
              "<table border=\"1\" class=\"dataframe\">\n",
              "  <thead>\n",
              "    <tr style=\"text-align: right;\">\n",
              "      <th></th>\n",
              "      <th>AGE</th>\n",
              "      <th>JOB</th>\n",
              "      <th>MARITAL</th>\n",
              "      <th>EDUCATION</th>\n",
              "      <th>DEFAULT</th>\n",
              "      <th>HOUSING</th>\n",
              "      <th>LOAN</th>\n",
              "      <th>CONTACT</th>\n",
              "      <th>MONTH</th>\n",
              "      <th>DOW</th>\n",
              "      <th>CAMPAIGN</th>\n",
              "      <th>PDAYS</th>\n",
              "      <th>PREVIOUS</th>\n",
              "      <th>POUTCOME</th>\n",
              "      <th>EMPVAR</th>\n",
              "      <th>CPI</th>\n",
              "      <th>CCI</th>\n",
              "      <th>EURIBOR3M</th>\n",
              "      <th>NREMP</th>\n",
              "      <th>RESPOND</th>\n",
              "    </tr>\n",
              "  </thead>\n",
              "  <tbody>\n",
              "    <tr>\n",
              "      <th>0</th>\n",
              "      <td>17</td>\n",
              "      <td>student</td>\n",
              "      <td>single</td>\n",
              "      <td>unknown</td>\n",
              "      <td>no</td>\n",
              "      <td>yes</td>\n",
              "      <td>no</td>\n",
              "      <td>cellular</td>\n",
              "      <td>aug</td>\n",
              "      <td>wed</td>\n",
              "      <td>3</td>\n",
              "      <td>4</td>\n",
              "      <td>2</td>\n",
              "      <td>success</td>\n",
              "      <td>-2.9</td>\n",
              "      <td>92.201</td>\n",
              "      <td>-31.4</td>\n",
              "      <td>0.884</td>\n",
              "      <td>5076.2</td>\n",
              "      <td>0</td>\n",
              "    </tr>\n",
              "    <tr>\n",
              "      <th>1</th>\n",
              "      <td>17</td>\n",
              "      <td>student</td>\n",
              "      <td>single</td>\n",
              "      <td>basic.9y</td>\n",
              "      <td>no</td>\n",
              "      <td>yes</td>\n",
              "      <td>no</td>\n",
              "      <td>cellular</td>\n",
              "      <td>aug</td>\n",
              "      <td>fri</td>\n",
              "      <td>2</td>\n",
              "      <td>999</td>\n",
              "      <td>2</td>\n",
              "      <td>failure</td>\n",
              "      <td>-2.9</td>\n",
              "      <td>92.201</td>\n",
              "      <td>-31.4</td>\n",
              "      <td>0.869</td>\n",
              "      <td>5076.2</td>\n",
              "      <td>0</td>\n",
              "    </tr>\n",
              "    <tr>\n",
              "      <th>2</th>\n",
              "      <td>17</td>\n",
              "      <td>student</td>\n",
              "      <td>single</td>\n",
              "      <td>basic.9y</td>\n",
              "      <td>no</td>\n",
              "      <td>yes</td>\n",
              "      <td>no</td>\n",
              "      <td>cellular</td>\n",
              "      <td>aug</td>\n",
              "      <td>fri</td>\n",
              "      <td>3</td>\n",
              "      <td>4</td>\n",
              "      <td>2</td>\n",
              "      <td>success</td>\n",
              "      <td>-2.9</td>\n",
              "      <td>92.201</td>\n",
              "      <td>-31.4</td>\n",
              "      <td>0.869</td>\n",
              "      <td>5076.2</td>\n",
              "      <td>0</td>\n",
              "    </tr>\n",
              "    <tr>\n",
              "      <th>3</th>\n",
              "      <td>17</td>\n",
              "      <td>student</td>\n",
              "      <td>single</td>\n",
              "      <td>basic.9y</td>\n",
              "      <td>no</td>\n",
              "      <td>unknown</td>\n",
              "      <td>unknown</td>\n",
              "      <td>cellular</td>\n",
              "      <td>aug</td>\n",
              "      <td>fri</td>\n",
              "      <td>2</td>\n",
              "      <td>999</td>\n",
              "      <td>1</td>\n",
              "      <td>failure</td>\n",
              "      <td>-2.9</td>\n",
              "      <td>92.201</td>\n",
              "      <td>-31.4</td>\n",
              "      <td>0.869</td>\n",
              "      <td>5076.2</td>\n",
              "      <td>1</td>\n",
              "    </tr>\n",
              "    <tr>\n",
              "      <th>4</th>\n",
              "      <td>17</td>\n",
              "      <td>student</td>\n",
              "      <td>single</td>\n",
              "      <td>unknown</td>\n",
              "      <td>no</td>\n",
              "      <td>no</td>\n",
              "      <td>yes</td>\n",
              "      <td>cellular</td>\n",
              "      <td>oct</td>\n",
              "      <td>tue</td>\n",
              "      <td>1</td>\n",
              "      <td>2</td>\n",
              "      <td>2</td>\n",
              "      <td>success</td>\n",
              "      <td>-3.4</td>\n",
              "      <td>92.431</td>\n",
              "      <td>-26.9</td>\n",
              "      <td>0.742</td>\n",
              "      <td>5017.5</td>\n",
              "      <td>1</td>\n",
              "    </tr>\n",
              "  </tbody>\n",
              "</table>\n",
              "</div>"
            ],
            "text/plain": [
              "   AGE      JOB MARITAL EDUCATION DEFAULT  HOUSING     LOAN   CONTACT MONTH  \\\n",
              "0   17  student  single   unknown      no      yes       no  cellular   aug   \n",
              "1   17  student  single  basic.9y      no      yes       no  cellular   aug   \n",
              "2   17  student  single  basic.9y      no      yes       no  cellular   aug   \n",
              "3   17  student  single  basic.9y      no  unknown  unknown  cellular   aug   \n",
              "4   17  student  single   unknown      no       no      yes  cellular   oct   \n",
              "\n",
              "   DOW  CAMPAIGN  PDAYS  PREVIOUS POUTCOME  EMPVAR     CPI   CCI  EURIBOR3M  \\\n",
              "0  wed         3      4         2  success    -2.9  92.201 -31.4      0.884   \n",
              "1  fri         2    999         2  failure    -2.9  92.201 -31.4      0.869   \n",
              "2  fri         3      4         2  success    -2.9  92.201 -31.4      0.869   \n",
              "3  fri         2    999         1  failure    -2.9  92.201 -31.4      0.869   \n",
              "4  tue         1      2         2  success    -3.4  92.431 -26.9      0.742   \n",
              "\n",
              "    NREMP  RESPOND  \n",
              "0  5076.2        0  \n",
              "1  5076.2        0  \n",
              "2  5076.2        0  \n",
              "3  5076.2        1  \n",
              "4  5017.5        1  "
            ]
          },
          "execution_count": 3,
          "metadata": {},
          "output_type": "execute_result"
        }
      ],
      "source": [
        "# drop unnecessary columns\n",
        "df.drop(['DURATION'], axis=1, inplace=True)\n",
        "# convert response variable to numerical\n",
        "df['RESPOND'] = df['RESPOND'].apply(lambda x: 1 if x == 'yes' else 0)\n",
        "\n",
        "df.head()\n",
        "\n"
      ]
    },
    {
      "cell_type": "markdown",
      "metadata": {
        "id": "AxAfVwRJyrsa"
      },
      "source": [
        "# Split data into training and test sets\n",
        "\n",
        "Before splitting\n",
        "*   Separate X and y variables into separate data frames\n",
        "*   Create dummy variables\n",
        "\n"
      ]
    },
    {
      "cell_type": "code",
      "execution_count": 4,
      "metadata": {
        "colab": {
          "base_uri": "https://localhost:8080/"
        },
        "id": "HTJd7CyMxDrq",
        "outputId": "b241e0ab-d015-44e5-ab88-6faf30ebc64b"
      },
      "outputs": [
        {
          "name": "stdout",
          "output_type": "stream",
          "text": [
            "<class 'pandas.core.frame.DataFrame'>\n",
            "Index: 28831 entries, 39075 to 15795\n",
            "Data columns (total 31 columns):\n",
            " #   Column                Non-Null Count  Dtype  \n",
            "---  ------                --------------  -----  \n",
            " 0   AGE                   28831 non-null  float64\n",
            " 1   CAMPAIGN              28831 non-null  float64\n",
            " 2   PDAYS                 28831 non-null  float64\n",
            " 3   PREVIOUS              28831 non-null  float64\n",
            " 4   EMPVAR                28831 non-null  float64\n",
            " 5   CPI                   28831 non-null  float64\n",
            " 6   CCI                   28831 non-null  float64\n",
            " 7   EURIBOR3M             28831 non-null  float64\n",
            " 8   NREMP                 28831 non-null  float64\n",
            " 9   DEFAULT_unknown       28831 non-null  float64\n",
            " 10  DEFAULT_yes           28831 non-null  float64\n",
            " 11  HOUSING_unknown       28831 non-null  float64\n",
            " 12  HOUSING_yes           28831 non-null  float64\n",
            " 13  LOAN_unknown          28831 non-null  float64\n",
            " 14  LOAN_yes              28831 non-null  float64\n",
            " 15  CONTACT_telephone     28831 non-null  float64\n",
            " 16  MONTH_aug             28831 non-null  float64\n",
            " 17  MONTH_dec             28831 non-null  float64\n",
            " 18  MONTH_jul             28831 non-null  float64\n",
            " 19  MONTH_jun             28831 non-null  float64\n",
            " 20  MONTH_mar             28831 non-null  float64\n",
            " 21  MONTH_may             28831 non-null  float64\n",
            " 22  MONTH_nov             28831 non-null  float64\n",
            " 23  MONTH_oct             28831 non-null  float64\n",
            " 24  MONTH_sep             28831 non-null  float64\n",
            " 25  DOW_mon               28831 non-null  float64\n",
            " 26  DOW_thu               28831 non-null  float64\n",
            " 27  DOW_tue               28831 non-null  float64\n",
            " 28  DOW_wed               28831 non-null  float64\n",
            " 29  POUTCOME_nonexistent  28831 non-null  float64\n",
            " 30  POUTCOME_success      28831 non-null  float64\n",
            "dtypes: float64(31)\n",
            "memory usage: 7.0 MB\n",
            "<class 'pandas.core.series.Series'>\n",
            "Index: 28831 entries, 39075 to 15795\n",
            "Series name: RESPOND\n",
            "Non-Null Count  Dtype\n",
            "--------------  -----\n",
            "28831 non-null  int64\n",
            "dtypes: int64(1)\n",
            "memory usage: 450.5 KB\n"
          ]
        }
      ],
      "source": [
        "# split the data into training and testing sets\n",
        "X1 = df.drop(['RESPOND'], axis=1)\n",
        "X1=df[['AGE', 'DEFAULT','HOUSING','LOAN','CONTACT', 'MONTH','DOW','CAMPAIGN','PDAYS','PREVIOUS','POUTCOME','EMPVAR', 'CPI','CCI','EURIBOR3M','NREMP']]\n",
        "X1 = pd.get_dummies(X1, columns=['DEFAULT','HOUSING','LOAN','CONTACT','MONTH','DOW','POUTCOME'], drop_first=True, dtype='float')\n",
        "\n",
        "# Scale the data\n",
        "scaler = StandardScaler()\n",
        "X_scaled = scaler.fit_transform(X1)\n",
        "\n",
        "X = pd.DataFrame(X_scaled, columns=X1.columns)\n",
        "\n",
        "y = df['RESPOND']\n",
        "X_train, X_test, y_train, y_test = train_test_split(X, y, test_size=0.3, random_state=42)\n",
        "\n",
        "X_train.info()\n",
        "y_train.info()\n",
        "\n",
        "\n"
      ]
    },
    {
      "cell_type": "markdown",
      "metadata": {
        "id": "8kqorhpPy-vK"
      },
      "source": [
        "# Neural Network\n",
        "\n",
        "- **input layer** contains 31 features\n",
        "\n",
        "- **1 hidden layer**  with 5 neurons and tanh activation function\n",
        "\n",
        "- **output layer** contains 1 output and sigmoid activation function to scale prediction between 0 and 1\n",
        "\n",
        "- **optimizer** using Adam which is the method that is generally recommended as giving the best performance"
      ]
    },
    {
      "cell_type": "code",
      "execution_count": 9,
      "metadata": {
        "colab": {
          "base_uri": "https://localhost:8080/"
        },
        "id": "9P4K1jG2aQmy",
        "outputId": "e9441850-053a-4424-f737-6a36f2dc5231"
      },
      "outputs": [
        {
          "name": "stdout",
          "output_type": "stream",
          "text": [
            "Epoch 1/50\n"
          ]
        },
        {
          "name": "stderr",
          "output_type": "stream",
          "text": [
            "c:\\Users\\trush\\anaconda3\\Lib\\site-packages\\keras\\src\\layers\\core\\dense.py:87: UserWarning: Do not pass an `input_shape`/`input_dim` argument to a layer. When using Sequential models, prefer using an `Input(shape)` object as the first layer in the model instead.\n",
            "  super().__init__(activity_regularizer=activity_regularizer, **kwargs)\n"
          ]
        },
        {
          "name": "stdout",
          "output_type": "stream",
          "text": [
            "\u001b[1m901/901\u001b[0m \u001b[32m━━━━━━━━━━━━━━━━━━━━\u001b[0m\u001b[37m\u001b[0m \u001b[1m2s\u001b[0m 1ms/step - accuracy: 0.7522 - loss: 0.5175\n",
            "Epoch 2/50\n",
            "\u001b[1m901/901\u001b[0m \u001b[32m━━━━━━━━━━━━━━━━━━━━\u001b[0m\u001b[37m\u001b[0m \u001b[1m1s\u001b[0m 907us/step - accuracy: 0.8967 - loss: 0.2863\n",
            "Epoch 3/50\n",
            "\u001b[1m901/901\u001b[0m \u001b[32m━━━━━━━━━━━━━━━━━━━━\u001b[0m\u001b[37m\u001b[0m \u001b[1m1s\u001b[0m 899us/step - accuracy: 0.8993 - loss: 0.2781\n",
            "Epoch 4/50\n",
            "\u001b[1m901/901\u001b[0m \u001b[32m━━━━━━━━━━━━━━━━━━━━\u001b[0m\u001b[37m\u001b[0m \u001b[1m1s\u001b[0m 918us/step - accuracy: 0.8996 - loss: 0.2738\n",
            "Epoch 5/50\n",
            "\u001b[1m901/901\u001b[0m \u001b[32m━━━━━━━━━━━━━━━━━━━━\u001b[0m\u001b[37m\u001b[0m \u001b[1m1s\u001b[0m 1ms/step - accuracy: 0.8979 - loss: 0.2825\n",
            "Epoch 6/50\n",
            "\u001b[1m901/901\u001b[0m \u001b[32m━━━━━━━━━━━━━━━━━━━━\u001b[0m\u001b[37m\u001b[0m \u001b[1m1s\u001b[0m 982us/step - accuracy: 0.8999 - loss: 0.2759\n",
            "Epoch 7/50\n",
            "\u001b[1m901/901\u001b[0m \u001b[32m━━━━━━━━━━━━━━━━━━━━\u001b[0m\u001b[37m\u001b[0m \u001b[1m1s\u001b[0m 1ms/step - accuracy: 0.8983 - loss: 0.2746\n",
            "Epoch 8/50\n",
            "\u001b[1m901/901\u001b[0m \u001b[32m━━━━━━━━━━━━━━━━━━━━\u001b[0m\u001b[37m\u001b[0m \u001b[1m1s\u001b[0m 1ms/step - accuracy: 0.8990 - loss: 0.2751\n",
            "Epoch 9/50\n",
            "\u001b[1m901/901\u001b[0m \u001b[32m━━━━━━━━━━━━━━━━━━━━\u001b[0m\u001b[37m\u001b[0m \u001b[1m1s\u001b[0m 991us/step - accuracy: 0.8996 - loss: 0.2759\n",
            "Epoch 10/50\n",
            "\u001b[1m901/901\u001b[0m \u001b[32m━━━━━━━━━━━━━━━━━━━━\u001b[0m\u001b[37m\u001b[0m \u001b[1m1s\u001b[0m 936us/step - accuracy: 0.8993 - loss: 0.2705\n",
            "Epoch 11/50\n",
            "\u001b[1m901/901\u001b[0m \u001b[32m━━━━━━━━━━━━━━━━━━━━\u001b[0m\u001b[37m\u001b[0m \u001b[1m1s\u001b[0m 943us/step - accuracy: 0.8985 - loss: 0.2724\n",
            "Epoch 12/50\n",
            "\u001b[1m901/901\u001b[0m \u001b[32m━━━━━━━━━━━━━━━━━━━━\u001b[0m\u001b[37m\u001b[0m \u001b[1m1s\u001b[0m 1ms/step - accuracy: 0.8982 - loss: 0.2754\n",
            "Epoch 13/50\n",
            "\u001b[1m901/901\u001b[0m \u001b[32m━━━━━━━━━━━━━━━━━━━━\u001b[0m\u001b[37m\u001b[0m \u001b[1m1s\u001b[0m 981us/step - accuracy: 0.8970 - loss: 0.2780\n",
            "Epoch 14/50\n",
            "\u001b[1m901/901\u001b[0m \u001b[32m━━━━━━━━━━━━━━━━━━━━\u001b[0m\u001b[37m\u001b[0m \u001b[1m1s\u001b[0m 829us/step - accuracy: 0.8972 - loss: 0.2759\n",
            "Epoch 15/50\n",
            "\u001b[1m901/901\u001b[0m \u001b[32m━━━━━━━━━━━━━━━━━━━━\u001b[0m\u001b[37m\u001b[0m \u001b[1m1s\u001b[0m 912us/step - accuracy: 0.8955 - loss: 0.2785\n",
            "Epoch 16/50\n",
            "\u001b[1m901/901\u001b[0m \u001b[32m━━━━━━━━━━━━━━━━━━━━\u001b[0m\u001b[37m\u001b[0m \u001b[1m1s\u001b[0m 853us/step - accuracy: 0.8982 - loss: 0.2763\n",
            "Epoch 17/50\n",
            "\u001b[1m901/901\u001b[0m \u001b[32m━━━━━━━━━━━━━━━━━━━━\u001b[0m\u001b[37m\u001b[0m \u001b[1m1s\u001b[0m 1ms/step - accuracy: 0.8990 - loss: 0.2730\n",
            "Epoch 18/50\n",
            "\u001b[1m901/901\u001b[0m \u001b[32m━━━━━━━━━━━━━━━━━━━━\u001b[0m\u001b[37m\u001b[0m \u001b[1m1s\u001b[0m 1ms/step - accuracy: 0.8972 - loss: 0.2741\n",
            "Epoch 19/50\n",
            "\u001b[1m901/901\u001b[0m \u001b[32m━━━━━━━━━━━━━━━━━━━━\u001b[0m\u001b[37m\u001b[0m \u001b[1m1s\u001b[0m 850us/step - accuracy: 0.8977 - loss: 0.2746\n",
            "Epoch 20/50\n",
            "\u001b[1m901/901\u001b[0m \u001b[32m━━━━━━━━━━━━━━━━━━━━\u001b[0m\u001b[37m\u001b[0m \u001b[1m1s\u001b[0m 923us/step - accuracy: 0.8996 - loss: 0.2727\n",
            "Epoch 21/50\n",
            "\u001b[1m901/901\u001b[0m \u001b[32m━━━━━━━━━━━━━━━━━━━━\u001b[0m\u001b[37m\u001b[0m \u001b[1m1s\u001b[0m 936us/step - accuracy: 0.8988 - loss: 0.2700\n",
            "Epoch 22/50\n",
            "\u001b[1m901/901\u001b[0m \u001b[32m━━━━━━━━━━━━━━━━━━━━\u001b[0m\u001b[37m\u001b[0m \u001b[1m1s\u001b[0m 864us/step - accuracy: 0.9001 - loss: 0.2733\n",
            "Epoch 23/50\n",
            "\u001b[1m901/901\u001b[0m \u001b[32m━━━━━━━━━━━━━━━━━━━━\u001b[0m\u001b[37m\u001b[0m \u001b[1m1s\u001b[0m 934us/step - accuracy: 0.8988 - loss: 0.2730\n",
            "Epoch 24/50\n",
            "\u001b[1m901/901\u001b[0m \u001b[32m━━━━━━━━━━━━━━━━━━━━\u001b[0m\u001b[37m\u001b[0m \u001b[1m1s\u001b[0m 915us/step - accuracy: 0.9017 - loss: 0.2706\n",
            "Epoch 25/50\n",
            "\u001b[1m901/901\u001b[0m \u001b[32m━━━━━━━━━━━━━━━━━━━━\u001b[0m\u001b[37m\u001b[0m \u001b[1m1s\u001b[0m 875us/step - accuracy: 0.9005 - loss: 0.2747\n",
            "Epoch 26/50\n",
            "\u001b[1m901/901\u001b[0m \u001b[32m━━━━━━━━━━━━━━━━━━━━\u001b[0m\u001b[37m\u001b[0m \u001b[1m1s\u001b[0m 960us/step - accuracy: 0.8995 - loss: 0.2748\n",
            "Epoch 27/50\n",
            "\u001b[1m901/901\u001b[0m \u001b[32m━━━━━━━━━━━━━━━━━━━━\u001b[0m\u001b[37m\u001b[0m \u001b[1m1s\u001b[0m 1ms/step - accuracy: 0.8989 - loss: 0.2731\n",
            "Epoch 28/50\n",
            "\u001b[1m901/901\u001b[0m \u001b[32m━━━━━━━━━━━━━━━━━━━━\u001b[0m\u001b[37m\u001b[0m \u001b[1m1s\u001b[0m 1ms/step - accuracy: 0.9000 - loss: 0.2710\n",
            "Epoch 29/50\n",
            "\u001b[1m901/901\u001b[0m \u001b[32m━━━━━━━━━━━━━━━━━━━━\u001b[0m\u001b[37m\u001b[0m \u001b[1m1s\u001b[0m 955us/step - accuracy: 0.8995 - loss: 0.2718\n",
            "Epoch 30/50\n",
            "\u001b[1m901/901\u001b[0m \u001b[32m━━━━━━━━━━━━━━━━━━━━\u001b[0m\u001b[37m\u001b[0m \u001b[1m1s\u001b[0m 919us/step - accuracy: 0.8974 - loss: 0.2789\n",
            "Epoch 31/50\n",
            "\u001b[1m901/901\u001b[0m \u001b[32m━━━━━━━━━━━━━━━━━━━━\u001b[0m\u001b[37m\u001b[0m \u001b[1m1s\u001b[0m 1ms/step - accuracy: 0.8969 - loss: 0.2744\n",
            "Epoch 32/50\n",
            "\u001b[1m901/901\u001b[0m \u001b[32m━━━━━━━━━━━━━━━━━━━━\u001b[0m\u001b[37m\u001b[0m \u001b[1m1s\u001b[0m 1ms/step - accuracy: 0.9029 - loss: 0.2692\n",
            "Epoch 33/50\n",
            "\u001b[1m901/901\u001b[0m \u001b[32m━━━━━━━━━━━━━━━━━━━━\u001b[0m\u001b[37m\u001b[0m \u001b[1m1s\u001b[0m 1ms/step - accuracy: 0.9006 - loss: 0.2686\n",
            "Epoch 34/50\n",
            "\u001b[1m901/901\u001b[0m \u001b[32m━━━━━━━━━━━━━━━━━━━━\u001b[0m\u001b[37m\u001b[0m \u001b[1m1s\u001b[0m 964us/step - accuracy: 0.9010 - loss: 0.2709\n",
            "Epoch 35/50\n",
            "\u001b[1m901/901\u001b[0m \u001b[32m━━━━━━━━━━━━━━━━━━━━\u001b[0m\u001b[37m\u001b[0m \u001b[1m1s\u001b[0m 892us/step - accuracy: 0.9022 - loss: 0.2719\n",
            "Epoch 36/50\n",
            "\u001b[1m901/901\u001b[0m \u001b[32m━━━━━━━━━━━━━━━━━━━━\u001b[0m\u001b[37m\u001b[0m \u001b[1m1s\u001b[0m 913us/step - accuracy: 0.9051 - loss: 0.2669\n",
            "Epoch 37/50\n",
            "\u001b[1m901/901\u001b[0m \u001b[32m━━━━━━━━━━━━━━━━━━━━\u001b[0m\u001b[37m\u001b[0m \u001b[1m1s\u001b[0m 927us/step - accuracy: 0.9038 - loss: 0.2683\n",
            "Epoch 38/50\n",
            "\u001b[1m901/901\u001b[0m \u001b[32m━━━━━━━━━━━━━━━━━━━━\u001b[0m\u001b[37m\u001b[0m \u001b[1m1s\u001b[0m 999us/step - accuracy: 0.9003 - loss: 0.2786\n",
            "Epoch 39/50\n",
            "\u001b[1m901/901\u001b[0m \u001b[32m━━━━━━━━━━━━━━━━━━━━\u001b[0m\u001b[37m\u001b[0m \u001b[1m1s\u001b[0m 1ms/step - accuracy: 0.9017 - loss: 0.2727\n",
            "Epoch 40/50\n",
            "\u001b[1m901/901\u001b[0m \u001b[32m━━━━━━━━━━━━━━━━━━━━\u001b[0m\u001b[37m\u001b[0m \u001b[1m1s\u001b[0m 1ms/step - accuracy: 0.9035 - loss: 0.2708\n",
            "Epoch 41/50\n",
            "\u001b[1m901/901\u001b[0m \u001b[32m━━━━━━━━━━━━━━━━━━━━\u001b[0m\u001b[37m\u001b[0m \u001b[1m1s\u001b[0m 952us/step - accuracy: 0.9039 - loss: 0.2717\n",
            "Epoch 42/50\n",
            "\u001b[1m901/901\u001b[0m \u001b[32m━━━━━━━━━━━━━━━━━━━━\u001b[0m\u001b[37m\u001b[0m \u001b[1m1s\u001b[0m 900us/step - accuracy: 0.9049 - loss: 0.2692\n",
            "Epoch 43/50\n",
            "\u001b[1m901/901\u001b[0m \u001b[32m━━━━━━━━━━━━━━━━━━━━\u001b[0m\u001b[37m\u001b[0m \u001b[1m1s\u001b[0m 883us/step - accuracy: 0.9045 - loss: 0.2712\n",
            "Epoch 44/50\n",
            "\u001b[1m901/901\u001b[0m \u001b[32m━━━━━━━━━━━━━━━━━━━━\u001b[0m\u001b[37m\u001b[0m \u001b[1m1s\u001b[0m 807us/step - accuracy: 0.9029 - loss: 0.2679\n",
            "Epoch 45/50\n",
            "\u001b[1m901/901\u001b[0m \u001b[32m━━━━━━━━━━━━━━━━━━━━\u001b[0m\u001b[37m\u001b[0m \u001b[1m1s\u001b[0m 893us/step - accuracy: 0.9054 - loss: 0.2637\n",
            "Epoch 46/50\n",
            "\u001b[1m901/901\u001b[0m \u001b[32m━━━━━━━━━━━━━━━━━━━━\u001b[0m\u001b[37m\u001b[0m \u001b[1m1s\u001b[0m 941us/step - accuracy: 0.9018 - loss: 0.2733\n",
            "Epoch 47/50\n",
            "\u001b[1m901/901\u001b[0m \u001b[32m━━━━━━━━━━━━━━━━━━━━\u001b[0m\u001b[37m\u001b[0m \u001b[1m1s\u001b[0m 831us/step - accuracy: 0.9038 - loss: 0.2672\n",
            "Epoch 48/50\n",
            "\u001b[1m901/901\u001b[0m \u001b[32m━━━━━━━━━━━━━━━━━━━━\u001b[0m\u001b[37m\u001b[0m \u001b[1m1s\u001b[0m 1ms/step - accuracy: 0.9001 - loss: 0.2746\n",
            "Epoch 49/50\n",
            "\u001b[1m901/901\u001b[0m \u001b[32m━━━━━━━━━━━━━━━━━━━━\u001b[0m\u001b[37m\u001b[0m \u001b[1m1s\u001b[0m 1ms/step - accuracy: 0.9048 - loss: 0.2627\n",
            "Epoch 50/50\n",
            "\u001b[1m901/901\u001b[0m \u001b[32m━━━━━━━━━━━━━━━━━━━━\u001b[0m\u001b[37m\u001b[0m \u001b[1m1s\u001b[0m 1ms/step - accuracy: 0.9019 - loss: 0.2704\n"
          ]
        },
        {
          "data": {
            "text/plain": [
              "<keras.src.callbacks.history.History at 0x255b86687d0>"
            ]
          },
          "execution_count": 9,
          "metadata": {},
          "output_type": "execute_result"
        }
      ],
      "source": [
        "# Define the model\n",
        "model = Sequential()\n",
        "model.add(Dense(5, activation='tanh', input_shape=(31,)))  # Hidden layer with 5 units input shape should be the number of x inputs\n",
        "model.add(Dense(1, activation='sigmoid', input_shape=(5,)))  # Output layer with 1 neuron (binary classification)\n",
        "\n",
        "\n",
        "# Compile the model\n",
        "model.compile(optimizer='Adam', loss='binary_crossentropy', metrics=['accuracy'])\n",
        "\n",
        "# Train the model\n",
        "model.fit(X_train, y_train, epochs=50, batch_size=32, verbose=1)\n",
        "\n",
        "\n",
        "\n",
        "\n"
      ]
    },
    {
      "cell_type": "markdown",
      "metadata": {
        "id": "MmwwYYExzC2M"
      },
      "source": [
        "# Make Predictions on the training and test data"
      ]
    },
    {
      "cell_type": "code",
      "execution_count": 6,
      "metadata": {
        "colab": {
          "base_uri": "https://localhost:8080/"
        },
        "id": "ZbVVKar5zDNm",
        "outputId": "49419099-391b-4053-b1f3-f7d95c60ca7d"
      },
      "outputs": [
        {
          "name": "stdout",
          "output_type": "stream",
          "text": [
            "\u001b[1m901/901\u001b[0m \u001b[32m━━━━━━━━━━━━━━━━━━━━\u001b[0m\u001b[37m\u001b[0m \u001b[1m1s\u001b[0m 758us/step\n",
            "[[0.0769538 ]\n",
            " [0.02374917]\n",
            " [0.04851455]\n",
            " ...\n",
            " [0.11721996]\n",
            " [0.06485903]\n",
            " [0.04722901]]\n",
            "\u001b[1m387/387\u001b[0m \u001b[32m━━━━━━━━━━━━━━━━━━━━\u001b[0m\u001b[37m\u001b[0m \u001b[1m0s\u001b[0m 800us/step\n"
          ]
        }
      ],
      "source": [
        "# make predictions on the training and test data\n",
        "y_pred_probs_train = model.predict(X_train)  # Get probability scores\n",
        "\n",
        "print(y_pred_probs_train)\n",
        "y_pred_train = (y_pred_probs_train > 0.5).astype(int)  # Convert to binary predictions\n",
        "\n",
        "y_pred_probs_test = model.predict(X_test)  # Get probability scores\n",
        "y_pred_test = (y_pred_probs_test > 0.5).astype(int)  # Convert to binary predictions\n",
        "\n",
        "\n",
        "y_prob_train = y_pred_probs_train\n",
        "y_prob_test = y_pred_probs_test\n",
        "\n"
      ]
    },
    {
      "cell_type": "markdown",
      "metadata": {
        "id": "GKg5u6u5zS1p"
      },
      "source": [
        "## Assess Model on Training and Test data"
      ]
    },
    {
      "cell_type": "code",
      "execution_count": 10,
      "metadata": {
        "colab": {
          "base_uri": "https://localhost:8080/"
        },
        "id": "WoP348-zzV_9",
        "outputId": "1a1f1bfe-1646-40e6-8dd2-82df98ed9e97"
      },
      "outputs": [
        {
          "name": "stdout",
          "output_type": "stream",
          "text": [
            " -- train set -- \n",
            "Accuracy : 0.9023\n",
            "Precision: 0.6743\n",
            "Recall.  : 0.2396\n",
            "\n",
            " -- test set -- \n",
            "Accuracy : 0.8970\n",
            "Precision: 0.6571\n",
            "Recall.  : 0.2244\n"
          ]
        }
      ],
      "source": [
        "# calculate the accuracy, precision, and recall scores\n",
        "acc_train = accuracy_score(y_train, y_pred_train)\n",
        "prec_train = precision_score(y_train, y_pred_train)\n",
        "rec_train = recall_score(y_train, y_pred_train)\n",
        "\n",
        "# print the scores\n",
        "print(\" -- train set -- \")\n",
        "print(\"Accuracy : {:.4f}\".format(acc_train))\n",
        "print(\"Precision: {:.4f}\".format(prec_train))\n",
        "print(\"Recall.  : {:.4f}\".format(rec_train))\n",
        "print(\"\")\n",
        "\n",
        "# calculate the accuracy, precision, and recall scores\n",
        "acc_test = accuracy_score(y_test, y_pred_test)\n",
        "prec_test = precision_score(y_test, y_pred_test)\n",
        "rec_test = recall_score(y_test, y_pred_test)\n",
        "\n",
        "print(\" -- test set -- \")\n",
        "print(\"Accuracy : {:.4f}\".format(acc_test))\n",
        "print(\"Precision: {:.4f}\".format(prec_test))\n",
        "print(\"Recall.  : {:.4f}\".format(rec_test))"
      ]
    },
    {
      "cell_type": "markdown",
      "metadata": {
        "id": "N5u_sgQqc-Un"
      },
      "source": [
        "#Generate a confusion matrix for the training and test data"
      ]
    },
    {
      "cell_type": "code",
      "execution_count": 11,
      "metadata": {
        "colab": {
          "base_uri": "https://localhost:8080/"
        },
        "id": "Q2VZ-bXwd3FP",
        "outputId": "78b9e264-99be-4a67-f124-0475fff9f231"
      },
      "outputs": [
        {
          "name": "stdout",
          "output_type": "stream",
          "text": [
            "[[25245  2444]\n",
            " [  372   770]]\n",
            "[[10764  1106]\n",
            " [  167   320]]\n"
          ]
        }
      ],
      "source": [
        "# confusion matrix\n",
        "conf_matrix = confusion_matrix(y_pred_train, y_train)\n",
        "print(conf_matrix)\n",
        "\n",
        "# Generate confusion matrix for test set\n",
        "conf_matrix = confusion_matrix(y_pred_test, y_test)\n",
        "print(conf_matrix)"
      ]
    },
    {
      "cell_type": "markdown",
      "metadata": {
        "id": "vEtwuwCkdDEp"
      },
      "source": [
        "#Generate ROC curves for training and test data"
      ]
    },
    {
      "cell_type": "code",
      "execution_count": 12,
      "metadata": {
        "id": "Sc_HFjLkjaZH"
      },
      "outputs": [],
      "source": [
        "# Convert response from an integer to a categorical variable to generate ROC curve\n",
        "y_train = y_train.astype('category')\n",
        "y_test = y_test.astype('category')"
      ]
    },
    {
      "cell_type": "code",
      "execution_count": 13,
      "metadata": {
        "colab": {
          "base_uri": "https://localhost:8080/",
          "height": 472
        },
        "id": "UrTbG6dbfl2m",
        "outputId": "5886c472-4643-4098-a3f9-7432a4b20311"
      },
      "outputs": [
        {
          "data": {
            "image/png": "[encoded data removed]",
            "text/plain": [
              "<Figure size 640x480 with 1 Axes>"
            ]
          },
          "metadata": {},
          "output_type": "display_data"
        }
      ],
      "source": [
        "# Generate ROC curve for training data\n",
        "\n",
        "fpr, tpr, thresholds = roc_curve(y_train.cat.codes, y_prob_train)\n",
        "roc_auc = roc_auc_score(y_train.cat.codes, y_prob_train)\n",
        "\n",
        "# Plot ROC curve\n",
        "plt.figure()\n",
        "plt.plot(fpr, tpr, color='darkorange', lw=2, label=f'ROC curve (area = {roc_auc:.4f})')\n",
        "plt.plot([0, 1], [0, 1], color='navy', lw=2, linestyle='--')\n",
        "plt.xlim([0.0, 1.0])\n",
        "plt.ylim([0.0, 1.05])\n",
        "plt.xlabel('False Positive Rate')\n",
        "plt.ylabel('True Positive Rate')\n",
        "plt.title('Receiver Operating Characteristic for Training Data')\n",
        "plt.legend(loc='lower right')\n",
        "plt.show()"
      ]
    },
    {
      "cell_type": "code",
      "execution_count": 14,
      "metadata": {
        "colab": {
          "base_uri": "https://localhost:8080/",
          "height": 472
        },
        "id": "bgMUNvFshGIW",
        "outputId": "3ce1bcfe-f03f-4943-b779-316e8f86cb1d"
      },
      "outputs": [
        {
          "data": {
            "image/png": "[encoded data removed]",
            "text/plain": [
              "<Figure size 640x480 with 1 Axes>"
            ]
          },
          "metadata": {},
          "output_type": "display_data"
        }
      ],
      "source": [
        "# Generate ROC curve for test data\n",
        "fpr, tpr, thresholds = roc_curve(y_test.cat.codes, y_prob_test)\n",
        "roc_auc = roc_auc_score(y_test.cat.codes, y_prob_test)\n",
        "\n",
        "# Plot ROC curve\n",
        "plt.figure()\n",
        "plt.plot(fpr, tpr, color='darkorange', lw=2, label=f'ROC curve (area = {roc_auc:.4f})')\n",
        "plt.plot([0, 1], [0, 1], color='navy', lw=2, linestyle='--')\n",
        "plt.xlim([0.0, 1.0])\n",
        "plt.ylim([0.0, 1.05])\n",
        "plt.xlabel('False Positive Rate')\n",
        "plt.ylabel('True Positive Rate')\n",
        "plt.title('Receiver Operating Characteristic for Test Data')\n",
        "plt.legend(loc='lower right')\n",
        "plt.show()\n"
      ]
    },
    {
      "cell_type": "code",
      "execution_count": null,
      "metadata": {},
      "outputs": [],
      "source": []
    }
  ],
  "metadata": {
    "colab": {
      "provenance": []
    },
    "kernelspec": {
      "display_name": "base",
      "language": "python",
      "name": "python3"
    },
    "language_info": {
      "codemirror_mode": {
        "name": "ipython",
        "version": 3
      },
      "file_extension": ".py",
      "mimetype": "text/x-python",
      "name": "python",
      "nbconvert_exporter": "python",
      "pygments_lexer": "ipython3",
      "version": "3.12.4"
    }
  },
  "nbformat": 4,
  "nbformat_minor": 0
}

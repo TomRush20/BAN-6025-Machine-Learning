{
  "cells": [
    {
      "cell_type": "code",
      "execution_count": 1,
      "metadata": {
        "id": "csIsm81S20bj"
      },
      "outputs": [],
      "source": [
        "import pandas as pd\n",
        "import numpy as np\n",
        "import seaborn as sns\n",
        "import tensorflow as tf\n",
        "from tensorflow.keras.optimizers import SGD\n",
        "from keras.models import Sequential\n",
        "from keras.layers import Dense\n",
        "from keras.optimizers import SGD\n",
        "import matplotlib.pyplot as plt\n",
        "import statsmodels.api as sm\n",
        "from statsmodels.stats.outliers_influence import variance_inflation_factor\n",
        "import seaborn as sns\n",
        "import matplotlib.pyplot as plt\n",
        "from tensorflow.keras.models import Sequential\n",
        "from tensorflow.keras.layers import Dense\n"
      ]
    },
    {
      "cell_type": "markdown",
      "metadata": {
        "id": "9WP_Iltr4LgA"
      },
      "source": [
        "Read and Clean Data"
      ]
    },
    {
      "cell_type": "code",
      "execution_count": 4,
      "metadata": {
        "colab": {
          "base_uri": "https://localhost:8080/"
        },
        "id": "ktLXbyj22_zl",
        "outputId": "5f9c2c7c-df71-41fb-ebbd-cf1f42db3624"
      },
      "outputs": [
        {
          "data": {
            "text/html": [
              "<div>\n",
              "<style scoped>\n",
              "    .dataframe tbody tr th:only-of-type {\n",
              "        vertical-align: middle;\n",
              "    }\n",
              "\n",
              "    .dataframe tbody tr th {\n",
              "        vertical-align: top;\n",
              "    }\n",
              "\n",
              "    .dataframe thead th {\n",
              "        text-align: right;\n",
              "    }\n",
              "</style>\n",
              "<table border=\"1\" class=\"dataframe\">\n",
              "  <thead>\n",
              "    <tr style=\"text-align: right;\">\n",
              "      <th></th>\n",
              "      <th>Driver</th>\n",
              "      <th>Points</th>\n",
              "      <th>Poles</th>\n",
              "      <th>Wins</th>\n",
              "      <th>Top5</th>\n",
              "      <th>Top10</th>\n",
              "      <th>Winnings ($)</th>\n",
              "    </tr>\n",
              "  </thead>\n",
              "  <tbody>\n",
              "    <tr>\n",
              "      <th>0</th>\n",
              "      <td>Tony Stewart</td>\n",
              "      <td>2403</td>\n",
              "      <td>1</td>\n",
              "      <td>5</td>\n",
              "      <td>9</td>\n",
              "      <td>19</td>\n",
              "      <td>6.53</td>\n",
              "    </tr>\n",
              "    <tr>\n",
              "      <th>1</th>\n",
              "      <td>Carl Edwards</td>\n",
              "      <td>2403</td>\n",
              "      <td>3</td>\n",
              "      <td>1</td>\n",
              "      <td>19</td>\n",
              "      <td>26</td>\n",
              "      <td>8.49</td>\n",
              "    </tr>\n",
              "    <tr>\n",
              "      <th>2</th>\n",
              "      <td>Kevin Harvick</td>\n",
              "      <td>2345</td>\n",
              "      <td>0</td>\n",
              "      <td>4</td>\n",
              "      <td>9</td>\n",
              "      <td>19</td>\n",
              "      <td>6.20</td>\n",
              "    </tr>\n",
              "    <tr>\n",
              "      <th>3</th>\n",
              "      <td>Matt Kenseth</td>\n",
              "      <td>2330</td>\n",
              "      <td>3</td>\n",
              "      <td>3</td>\n",
              "      <td>12</td>\n",
              "      <td>20</td>\n",
              "      <td>6.18</td>\n",
              "    </tr>\n",
              "    <tr>\n",
              "      <th>4</th>\n",
              "      <td>Brad Keselowski</td>\n",
              "      <td>2319</td>\n",
              "      <td>1</td>\n",
              "      <td>3</td>\n",
              "      <td>10</td>\n",
              "      <td>14</td>\n",
              "      <td>5.09</td>\n",
              "    </tr>\n",
              "  </tbody>\n",
              "</table>\n",
              "</div>"
            ],
            "text/plain": [
              "            Driver  Points  Poles  Wins  Top5  Top10  Winnings ($)\n",
              "0     Tony Stewart    2403      1     5     9     19          6.53\n",
              "1     Carl Edwards    2403      3     1    19     26          8.49\n",
              "2    Kevin Harvick    2345      0     4     9     19          6.20\n",
              "3     Matt Kenseth    2330      3     3    12     20          6.18\n",
              "4  Brad Keselowski    2319      1     3    10     14          5.09"
            ]
          },
          "execution_count": 4,
          "metadata": {},
          "output_type": "execute_result"
        }
      ],
      "source": [
        "data_path = r\"C:\\Users\\trush\\OneDrive\\Documents\\WFU Grad School Info\\BAN 6025 Machine Learning\\Neural Networks\\Nascar_Data.csv\"\n",
        "car_dat = pd.read_csv(data_path)\n",
        "\n",
        "# drop non-numeric columns\n",
        "car_dat_num = car_dat.drop(columns=['Driver'])\n",
        "\n",
        "car_dat.head()"
      ]
    },
    {
      "cell_type": "markdown",
      "metadata": {
        "id": "fqbrcmoxuDHc"
      },
      "source": [
        "Fit Simple Regression Model with Two Inputs"
      ]
    },
    {
      "cell_type": "code",
      "execution_count": 5,
      "metadata": {
        "colab": {
          "base_uri": "https://localhost:8080/"
        },
        "id": "dNL3x1jut-u0",
        "outputId": "f9a59afa-fa18-4ec0-ea62-5451fe026d32"
      },
      "outputs": [
        {
          "name": "stdout",
          "output_type": "stream",
          "text": [
            "                            OLS Regression Results                            \n",
            "==============================================================================\n",
            "Dep. Variable:           Winnings ($)   R-squared:                       0.820\n",
            "Model:                            OLS   Adj. R-squared:                  0.809\n",
            "Method:                 Least Squares   F-statistic:                     73.01\n",
            "Date:                Tue, 28 Jan 2025   Prob (F-statistic):           1.19e-12\n",
            "Time:                        11:48:41   Log-Likelihood:                -27.990\n",
            "No. Observations:                  35   AIC:                             61.98\n",
            "Df Residuals:                      32   BIC:                             66.65\n",
            "Df Model:                           2                                         \n",
            "Covariance Type:            nonrobust                                         \n",
            "==============================================================================\n",
            "                 coef    std err          t      P>|t|      [0.025      0.975]\n",
            "------------------------------------------------------------------------------\n",
            "const          3.1362      0.176     17.811      0.000       2.777       3.495\n",
            "Top5           0.0735      0.046      1.600      0.119      -0.020       0.167\n",
            "Top10          0.1168      0.031      3.735      0.001       0.053       0.180\n",
            "==============================================================================\n",
            "Omnibus:                        2.865   Durbin-Watson:                   1.154\n",
            "Prob(Omnibus):                  0.239   Jarque-Bera (JB):                2.052\n",
            "Skew:                           0.415   Prob(JB):                        0.358\n",
            "Kurtosis:                       2.152   Cond. No.                         26.4\n",
            "==============================================================================\n",
            "\n",
            "Notes:\n",
            "[1] Standard Errors assume that the covariance matrix of the errors is correctly specified.\n"
          ]
        }
      ],
      "source": [
        "# Perform linear regression\n",
        "X1 = car_dat_num.drop(columns=['Winnings ($)', 'Points', 'Poles', 'Wins'])\n",
        "y = car_dat_num['Winnings ($)']\n",
        "X = sm.add_constant(X1)\n",
        "reg1 = sm.OLS(y, X).fit()\n",
        "\n",
        "# Display regression summary\n",
        "print(reg1.summary())\n"
      ]
    },
    {
      "cell_type": "code",
      "execution_count": 7,
      "metadata": {
        "colab": {
          "base_uri": "https://localhost:8080/"
        },
        "id": "qBOw9ftxN-nU",
        "outputId": "75f9fd9e-95d1-4cc1-b4b4-75b1a2c92d99"
      },
      "outputs": [
        {
          "name": "stderr",
          "output_type": "stream",
          "text": [
            "c:\\Users\\trush\\anaconda3\\Lib\\site-packages\\keras\\src\\layers\\core\\dense.py:87: UserWarning: Do not pass an `input_shape`/`input_dim` argument to a layer. When using Sequential models, prefer using an `Input(shape)` object as the first layer in the model instead.\n",
            "  super().__init__(activity_regularizer=activity_regularizer, **kwargs)\n"
          ]
        },
        {
          "name": "stdout",
          "output_type": "stream",
          "text": [
            "Initial weights: [-0.91115886  1.1198236 ]\n",
            "Initial bias: [0.]\n",
            "Learned weights: [0.057124   0.13791344]\n",
            "Learned bias: [2.9501798]\n"
          ]
        }
      ],
      "source": [
        "# Define a simple neural network model\n",
        "model = Sequential()\n",
        "\n",
        "#Uses a dense layer, 1 is the number of outputs, input_dim is # of inputs, activation = combination function in node\n",
        "model.add(Dense(1, input_dim=2, activation='linear'))  # 2 inputs, 1 output\n",
        "\n",
        "#Gets initial weights\n",
        "weights, bias = model.layers[0].get_weights()\n",
        "print(\"Initial weights:\", weights.flatten())\n",
        "print(\"Initial bias:\", bias)\n",
        "\n",
        "# Compile the model learning rate = how fast we ingest information, loss is the error measure, SGD is optimization\n",
        "model.compile(optimizer=SGD(learning_rate=0.001), loss='mse')\n",
        "\n",
        "# Train the model epochs is the amount of iterations, verbose prints to the screen\n",
        "model.fit(X1, y, epochs=5000, verbose=0, batch_size=100)\n",
        "\n",
        "# Get learned parameters\n",
        "#weights, bias = model.layers[0].get_weights()\n",
        "weights, bias = model.get_weights()\n",
        "\n",
        "print(\"Learned weights:\", weights.flatten())\n",
        "print(\"Learned bias:\", bias)\n"
      ]
    },
    {
      "cell_type": "code",
      "execution_count": null,
      "metadata": {},
      "outputs": [],
      "source": []
    }
  ],
  "metadata": {
    "colab": {
      "provenance": []
    },
    "kernelspec": {
      "display_name": "base",
      "language": "python",
      "name": "python3"
    },
    "language_info": {
      "codemirror_mode": {
        "name": "ipython",
        "version": 3
      },
      "file_extension": ".py",
      "mimetype": "text/x-python",
      "name": "python",
      "nbconvert_exporter": "python",
      "pygments_lexer": "ipython3",
      "version": "3.12.4"
    }
  },
  "nbformat": 4,
  "nbformat_minor": 0
}
